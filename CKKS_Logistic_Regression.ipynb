{
 "cells": [
  {
   "cell_type": "code",
   "execution_count": 46,
   "metadata": {},
   "outputs": [],
   "source": [
    "import pandas as pd\n",
    "import numpy as np\n",
    "import tensorflow as tf\n",
    "from sklearn.model_selection import train_test_split\n",
    "from sklearn.preprocessing import StandardScaler,MinMaxScaler\n",
    "from ckks_encoder import CKKSEncoder\n",
    "from ckks import Params,CKKS\n",
    "from plaintext import Plaintext\n",
    "from poly import Polynomial\n",
    "import math \n",
    "from math import floor\n"
   ]
  },
  {
   "cell_type": "code",
   "execution_count": 47,
   "metadata": {},
   "outputs": [
    {
     "name": "stdout",
     "output_type": "stream",
     "text": [
      "Initialised\n"
     ]
    }
   ],
   "source": [
    "\n",
    "params = Params(8,  1<<600,1<<1200)\n",
    "ckks= CKKS(params)\n",
    "public_key,private_key=ckks.generate_keys()\n"
   ]
  },
  {
   "cell_type": "code",
   "execution_count": 48,
   "metadata": {},
   "outputs": [],
   "source": [
    "def read_dataset(url,col):\n",
    "  df=pd.read_csv(url)\n",
    "  df.drop(\"Unnamed: 32\", axis=1, inplace=True)\n",
    "  X = df.iloc[:, col+1:]\n",
    "  col_name=df.columns[col]\n",
    "  y = df[col_name]\n",
    "  for i in range (0,len(df)):\n",
    "    if y[i]=='M':\n",
    "      y[i]=1\n",
    "    else:\n",
    "      y[i]=0\n",
    "  X_train, X_test, y_train, y_test = train_test_split(\n",
    "  X,y , random_state=104,test_size=0.25, shuffle=True)\n",
    "  X_train=np.asarray(X_train).astype('float32')\n",
    "  X_test=np.asarray(X_test).astype('float32')\n",
    "  y_train=np.asarray(y_train).astype('float32')\n",
    "  y_test=np.asarray(y_test).astype('float32')\n",
    "  scaler = StandardScaler()\n",
    "  X_train = scaler.fit_transform(X_train)\n",
    "  X_test = scaler.transform(X_test)\n",
    "  print(X_test.shape)\n",
    "  return X_train, X_test, y_train, y_test\n"
   ]
  },
  {
   "cell_type": "code",
   "execution_count": 49,
   "metadata": {},
   "outputs": [
    {
     "name": "stdout",
     "output_type": "stream",
     "text": [
      "(143, 30)\n"
     ]
    },
    {
     "name": "stderr",
     "output_type": "stream",
     "text": [
      "C:\\Users\\delwy\\AppData\\Local\\Temp\\ipykernel_9700\\1684536102.py:9: SettingWithCopyWarning: \n",
      "A value is trying to be set on a copy of a slice from a DataFrame\n",
      "\n",
      "See the caveats in the documentation: https://pandas.pydata.org/pandas-docs/stable/user_guide/indexing.html#returning-a-view-versus-a-copy\n",
      "  y[i]=1\n",
      "C:\\Users\\delwy\\AppData\\Local\\Temp\\ipykernel_9700\\1684536102.py:11: SettingWithCopyWarning: \n",
      "A value is trying to be set on a copy of a slice from a DataFrame\n",
      "\n",
      "See the caveats in the documentation: https://pandas.pydata.org/pandas-docs/stable/user_guide/indexing.html#returning-a-view-versus-a-copy\n",
      "  y[i]=0\n"
     ]
    }
   ],
   "source": [
    "X_train, X_test, y_train, y_test = read_dataset('./dataset/data.csv',1)"
   ]
  },
  {
   "cell_type": "code",
   "execution_count": 50,
   "metadata": {},
   "outputs": [
    {
     "data": {
      "text/plain": [
       "array([[-0.50754064, -1.5873111 , -0.53291875, ..., -0.29626036,\n",
       "        -0.09794363, -0.92683077],\n",
       "       [-0.9010532 , -1.5964096 , -0.92588454, ..., -1.2394603 ,\n",
       "        -1.1854004 , -1.0006467 ],\n",
       "       [-1.1103684 ,  0.05040994, -1.1043581 , ..., -1.3858792 ,\n",
       "        -0.9962085 , -0.9435547 ],\n",
       "       ...,\n",
       "       [-0.9317526 , -2.1969075 , -0.9408586 , ..., -1.0250068 ,\n",
       "        -1.2696624 , -0.3916628 ],\n",
       "       [-0.73639184, -0.20889577, -0.75833786, ..., -0.72958136,\n",
       "        -0.23626071, -1.0906105 ],\n",
       "       [-0.37916064, -0.65472007, -0.43093362, ..., -0.83033943,\n",
       "        -0.80383676, -1.1350157 ]], dtype=float32)"
      ]
     },
     "execution_count": 50,
     "metadata": {},
     "output_type": "execute_result"
    }
   ],
   "source": [
    "X_train"
   ]
  },
  {
   "cell_type": "code",
   "execution_count": 51,
   "metadata": {},
   "outputs": [
    {
     "name": "stdout",
     "output_type": "stream",
     "text": [
      "Epoch 1/30\n",
      "27/27 [==============================] - 1s 2ms/step - loss: 0.4661 - accuracy: 0.8169\n",
      "Epoch 2/30\n",
      "27/27 [==============================] - 0s 2ms/step - loss: 0.3381 - accuracy: 0.8803\n",
      "Epoch 3/30\n",
      "27/27 [==============================] - 0s 2ms/step - loss: 0.2726 - accuracy: 0.9155\n",
      "Epoch 4/30\n",
      "27/27 [==============================] - 0s 2ms/step - loss: 0.2338 - accuracy: 0.9202\n",
      "Epoch 5/30\n",
      "27/27 [==============================] - 0s 4ms/step - loss: 0.2088 - accuracy: 0.9249\n",
      "Epoch 6/30\n",
      "27/27 [==============================] - 0s 3ms/step - loss: 0.1899 - accuracy: 0.9296\n",
      "Epoch 7/30\n",
      "27/27 [==============================] - 0s 2ms/step - loss: 0.1754 - accuracy: 0.9343\n",
      "Epoch 8/30\n",
      "27/27 [==============================] - 0s 2ms/step - loss: 0.1641 - accuracy: 0.9343\n",
      "Epoch 9/30\n",
      "27/27 [==============================] - 0s 2ms/step - loss: 0.1542 - accuracy: 0.9366\n",
      "Epoch 10/30\n",
      "27/27 [==============================] - 0s 2ms/step - loss: 0.1462 - accuracy: 0.9413\n",
      "Epoch 11/30\n",
      "27/27 [==============================] - 0s 2ms/step - loss: 0.1388 - accuracy: 0.9437\n",
      "Epoch 12/30\n",
      "27/27 [==============================] - 0s 2ms/step - loss: 0.1328 - accuracy: 0.9437\n",
      "Epoch 13/30\n",
      "27/27 [==============================] - 0s 2ms/step - loss: 0.1270 - accuracy: 0.9507\n",
      "Epoch 14/30\n",
      "27/27 [==============================] - 0s 2ms/step - loss: 0.1224 - accuracy: 0.9531\n",
      "Epoch 15/30\n",
      "27/27 [==============================] - 0s 2ms/step - loss: 0.1179 - accuracy: 0.9554\n",
      "Epoch 16/30\n",
      "27/27 [==============================] - 0s 2ms/step - loss: 0.1139 - accuracy: 0.9577\n",
      "Epoch 17/30\n",
      "27/27 [==============================] - 0s 2ms/step - loss: 0.1104 - accuracy: 0.9577\n",
      "Epoch 18/30\n",
      "27/27 [==============================] - 0s 3ms/step - loss: 0.1070 - accuracy: 0.9624\n",
      "Epoch 19/30\n",
      "27/27 [==============================] - 0s 2ms/step - loss: 0.1039 - accuracy: 0.9624\n",
      "Epoch 20/30\n",
      "27/27 [==============================] - 0s 2ms/step - loss: 0.1017 - accuracy: 0.9624\n",
      "Epoch 21/30\n",
      "27/27 [==============================] - 0s 2ms/step - loss: 0.0990 - accuracy: 0.9624\n",
      "Epoch 22/30\n",
      "27/27 [==============================] - 0s 2ms/step - loss: 0.0963 - accuracy: 0.9671\n",
      "Epoch 23/30\n",
      "27/27 [==============================] - 0s 2ms/step - loss: 0.0942 - accuracy: 0.9648\n",
      "Epoch 24/30\n",
      "27/27 [==============================] - 0s 2ms/step - loss: 0.0922 - accuracy: 0.9671\n",
      "Epoch 25/30\n",
      "27/27 [==============================] - 0s 2ms/step - loss: 0.0904 - accuracy: 0.9671\n",
      "Epoch 26/30\n",
      "27/27 [==============================] - 0s 2ms/step - loss: 0.0889 - accuracy: 0.9671\n",
      "Epoch 27/30\n",
      "27/27 [==============================] - 0s 2ms/step - loss: 0.0873 - accuracy: 0.9695\n",
      "Epoch 28/30\n",
      "27/27 [==============================] - 0s 2ms/step - loss: 0.0857 - accuracy: 0.9695\n",
      "Epoch 29/30\n",
      "27/27 [==============================] - 0s 2ms/step - loss: 0.0844 - accuracy: 0.9695\n",
      "Epoch 30/30\n",
      "27/27 [==============================] - 0s 2ms/step - loss: 0.0829 - accuracy: 0.9718\n",
      "Test Accuracy: 95.80%\n"
     ]
    }
   ],
   "source": [
    "def custom_relu(x):\n",
    "    return x +x*x\n",
    "model = tf.keras.Sequential([\n",
    "    tf.keras.layers.Input(shape=(30,)),\n",
    "    tf.keras.layers.Dense(2),\n",
    "    # tf.keras.layers.Activation(custom_relu),\n",
    "    tf.keras.layers.Dense(1,activation='sigmoid'),\n",
    "])\n",
    "model.compile(optimizer='adam', loss='binary_crossentropy', metrics=['accuracy'])\n",
    "model.fit(X_train, y_train, epochs=30, batch_size=16)\n",
    "loss, accuracy = model.evaluate(X_test, y_test, verbose=0)\n",
    "print(f\"Test Accuracy: {accuracy*100:.2f}%\")"
   ]
  },
  {
   "cell_type": "code",
   "execution_count": 52,
   "metadata": {},
   "outputs": [],
   "source": [
    "def create_model_weights_file(model):\n",
    "  i=0\n",
    "  for layer in model.layers:\n",
    "    if('activation' in layer.name):\n",
    "      continue\n",
    "    w = (layer.get_weights()[0]).T\n",
    "    \n",
    "    b = (layer.get_weights()[1]).T\n",
    "    file_name = 'layer'+str(i)+'.npy'\n",
    "    with open(file_name, 'wb') as f:\n",
    "        np.save(f, w)\n",
    "        np.save(f, b)\n",
    "    i=i+1\n"
   ]
  },
  {
   "cell_type": "code",
   "execution_count": 53,
   "metadata": {},
   "outputs": [],
   "source": [
    "create_model_weights_file(model)"
   ]
  },
  {
   "cell_type": "code",
   "execution_count": 54,
   "metadata": {},
   "outputs": [
    {
     "name": "stdout",
     "output_type": "stream",
     "text": [
      "[[-5.73743045e-01 -1.78259104e-01  1.38971005e-02 -2.50905782e-01\n",
      "  -6.43843189e-02 -3.23205978e-01  7.56815150e-02 -5.14242053e-01\n",
      "  -7.87992105e-02  4.34094965e-01 -3.59391868e-01  1.26313165e-01\n",
      "  -1.41525939e-01 -4.37217832e-01  2.79651940e-01  9.45818238e-03\n",
      "   2.58637786e-01 -4.39461581e-02 -1.23167038e-01 -8.37039798e-02\n",
      "  -6.61692679e-01 -1.38493299e-01 -6.31045520e-01 -2.67279238e-01\n",
      "   1.89797338e-02 -4.52327847e-01 -6.61443248e-02 -2.85920531e-01\n",
      "  -1.02842726e-01  8.41433927e-03]\n",
      " [-5.59416950e-01 -1.31857485e-01  1.39319487e-02 -1.38063386e-01\n",
      "  -9.09526572e-02 -3.19924206e-02 -8.62172991e-02 -2.20765799e-01\n",
      "  -1.09611556e-01 -1.63946584e-01  1.26403674e-01 -1.41077161e-01\n",
      "   6.73070550e-04 -6.34251475e-01 -3.45513999e-01  2.34230548e-01\n",
      "   3.33973169e-01 -2.57029474e-01  2.21261010e-02  1.96516946e-01\n",
      "   2.71897838e-02 -6.91346109e-01  1.57559186e-01 -4.03240979e-01\n",
      "  -1.49614319e-01 -3.94246638e-01 -2.84126312e-01  7.35369101e-02\n",
      "   1.74779315e-02  1.01764193e-02]]\n",
      "[0.14100617 0.13770795]\n"
     ]
    }
   ],
   "source": [
    "with open('layer0.npy', 'rb') as f:\n",
    "              print(np.load(f))\n",
    "              print(np.load(f))"
   ]
  },
  {
   "cell_type": "code",
   "execution_count": 59,
   "metadata": {},
   "outputs": [],
   "source": [
    "def encode_value(a,scale):\n",
    "    encoder=CKKSEncoder(16,scale)\n",
    "    a_encoded=encoder.encode(np.array([a]*4))\n",
    "    a_encoded=Polynomial(a_encoded.coef)\n",
    "    a_encoded.poly_floor()\n",
    "    a_pt=Plaintext(a_encoded,scale)\n",
    "    return a_pt\n",
    "def encrypt_input(x,scale):\n",
    "    res=[]\n",
    "    for item in x:\n",
    "        item_pt=encode_value(item,scale)\n",
    "        item_encrypted=public_key.encrypt(item_pt)\n",
    "        res.append(item_encrypted)\n",
    "    return res\n",
    "    \n",
    "    "
   ]
  },
  {
   "cell_type": "code",
   "execution_count": 60,
   "metadata": {},
   "outputs": [],
   "source": [
    "class Model:\n",
    "    def __init__(self,n_features,n_layers,n_layer_neurons,layer_activations,layer_weight_files,encrypted):\n",
    "        self.n_features=n_features\n",
    "        self.n_layers=n_layers\n",
    "        self.n_layer_neurons=n_layer_neurons\n",
    "        self.layer_activations=layer_activations\n",
    "        self.weights=[]\n",
    "        self.biases=[]\n",
    "        self.encrypted=encrypted\n",
    "        layer_number=0\n",
    "        for wt_file in layer_weight_files:\n",
    "            with open(wt_file, 'rb') as f:\n",
    "              if self.encrypted==True:\n",
    "                  w=np.load(f)\n",
    "                  r,c=np.shape(w)\n",
    "                  res_w=[]\n",
    "                  for i in range(r):\n",
    "                      row=[]\n",
    "                      for j in range(c):\n",
    "                          row.append(encode_value(w[i][j],1<<20))\n",
    "                      res_w.append(row)\n",
    "                  b=np.load(f)\n",
    "                  res_b=[]\n",
    "                  for i in b:\n",
    "                      res_b.append(encode_value(i,(1<<20)**(layer_number+2)))\n",
    "                  self.weights.append(res_w)\n",
    "                  self.biases.append(res_b)\n",
    "                  layer_number+=1\n",
    "                   \n",
    "              \n",
    "              else:\n",
    "                self.weights.append(np.load(f).tolist())\n",
    "                self.biases.append(np.load(f).tolist())\n",
    "                \n",
    "    def __matmul(self,a,b):\n",
    "        ## Input: a to be 2-D (n_layer_neurons[layer_no],n_features)and b to be 1-D list\n",
    "        # Output : a 1-D list \n",
    "        output=[]\n",
    "        for i in range(len(a)):\n",
    "            res=a[i][0]*b[0]\n",
    "            for j in range(1,len(b)):\n",
    "                res=a[i][j]*b[j]+res\n",
    "            output.append(res)\n",
    "        return output\n",
    "    \n",
    "    def __matadd(self,a,b):\n",
    "        ## Input: a and b to be 1-D list\n",
    "        # Output : a 1-D list \n",
    "        ## For memory saving b is modified in calculations so be careful about order of inputs\n",
    "        \n",
    "        for i in range(len(a)):\n",
    "            b[i]=b[i]+a[i]\n",
    "        return b  \n",
    "    \n",
    "    def infer(self,x):\n",
    "        for i in range(self.n_layers):\n",
    "            \n",
    "            new_x=self.__matmul(self.weights[i],x)\n",
    "            new_x=self.__matadd(self.biases[i],new_x)\n",
    "            \n",
    "            if(self.layer_activations[i]=='relu'):\n",
    "               \n",
    "                x=[t**2+t for t in new_x]\n",
    "                # if(encrypted==True):\n",
    "                #     temp=copy.deepcopy(new_x)\n",
    "                #     for t in temp:\n",
    "                #         print(private_key.decrypt(t))\n",
    "                #     temp=copy.deepcopy(x)\n",
    "                #     for t in temp:\n",
    "                #         print(private_key.decrypt(t))\n",
    "                if(self.encrypted==True):\n",
    "                    x=[t**2+t for t in new_x]\n",
    "                # else:\n",
    "                #     x=[max(0,t) for t in new_x]\n",
    "            else:  \n",
    "                x=new_x  \n",
    "        return x[0]\n"
   ]
  },
  {
   "cell_type": "code",
   "execution_count": 63,
   "metadata": {},
   "outputs": [],
   "source": [
    "model_encrypted=Model(30,2,[2,1],['none','none'],['layer0.npy','layer1.npy'],True)\n",
    "model_unencrypted=Model(30,2,[2,1],['none','none'],['layer0.npy','layer1.npy'],False)"
   ]
  },
  {
   "cell_type": "code",
   "execution_count": null,
   "metadata": {},
   "outputs": [],
   "source": []
  },
  {
   "cell_type": "code",
   "execution_count": 64,
   "metadata": {},
   "outputs": [
    {
     "name": "stdout",
     "output_type": "stream",
     "text": [
      "Accuracy on unencrypted Test Data:0.958041958041958\n",
      "Accuracy on encrypted test data:0.9440559440559441\n"
     ]
    }
   ],
   "source": [
    "normal_acc=0\n",
    "encrypted_acc=0\n",
    "limit=len(X_test)\n",
    "for i in range(limit):\n",
    "    x=X_test[i].tolist()\n",
    "    x_encrypted=encrypt_input(x,1<<20)\n",
    "    normal_res=model_unencrypted.infer(x)\n",
    "    pt_dash=private_key.decrypt(model_encrypted.infer(x_encrypted))\n",
    "    pt=np.polynomial.Polynomial(pt_dash.poly.convert_to_list())\n",
    "    encoder=CKKSEncoder(16,pt_dash.scale)\n",
    "    pt=encoder.decode(pt)\n",
    "    encrypted_res=pt[0].real\n",
    "    #print('Unencryted Inference:'+str(normal_res)+\" Encrypted Inference:\"+str(encrypted_res))\n",
    "    if (normal_res>0 and y_test[i]==1) or (normal_res<=0 and y_test[i]==0):\n",
    "        normal_acc+=1\n",
    "    if (encrypted_res>0 and y_test[i]==1) or (encrypted_res<=0 and y_test[i]==0):\n",
    "        encrypted_acc+=1\n",
    "print('Accuracy on unencrypted Test Data:'+str(normal_acc/limit))\n",
    "print('Accuracy on encrypted test data:'+str(encrypted_acc/limit))\n",
    "  "
   ]
  },
  {
   "cell_type": "code",
   "execution_count": null,
   "metadata": {},
   "outputs": [],
   "source": []
  }
 ],
 "metadata": {
  "kernelspec": {
   "display_name": "base",
   "language": "python",
   "name": "python3"
  },
  "language_info": {
   "codemirror_mode": {
    "name": "ipython",
    "version": 3
   },
   "file_extension": ".py",
   "mimetype": "text/x-python",
   "name": "python",
   "nbconvert_exporter": "python",
   "pygments_lexer": "ipython3",
   "version": "3.10.9"
  }
 },
 "nbformat": 4,
 "nbformat_minor": 2
}
