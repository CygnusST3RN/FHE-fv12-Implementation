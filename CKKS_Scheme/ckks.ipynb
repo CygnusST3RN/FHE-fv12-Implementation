{
 "cells": [
  {
   "cell_type": "code",
   "execution_count": 2,
   "metadata": {},
   "outputs": [],
   "source": [
    "import numpy as np\n",
    "import sys\n",
    "sys.path.insert(0, '../utils')\n",
    "from ckks_encoder import CKKSEncoder\n",
    "from ckks import Params,CKKS\n",
    "from plaintext import Plaintext\n",
    "from poly import Polynomial\n",
    "import math \n",
    "from math import floor"
   ]
  },
  {
   "cell_type": "code",
   "execution_count": 7,
   "metadata": {},
   "outputs": [
    {
     "name": "stdout",
     "output_type": "stream",
     "text": [
      "Initialised\n",
      "True\n"
     ]
    },
    {
     "data": {
      "text/plain": [
       "array([0.00159931-7.51027923e-06j, 0.00159931+2.56310560e-07j,\n",
       "       0.00159931-8.60988401e-07j, 0.00159931-9.98183663e-07j])"
      ]
     },
     "execution_count": 7,
     "metadata": {},
     "output_type": "execute_result"
    }
   ],
   "source": [
    "scale=1<<20\n",
    "encoder=CKKSEncoder(16,scale)\n",
    "params = Params(8,  1<<600,1<<1200)\n",
    "ckks= CKKS(params)\n",
    "public_key,private_key=ckks.generate_keys()\n",
    "\n",
    "a = np.array([.2]*4)\n",
    "a_encoded=encoder.encode(a)\n",
    "a_encoded=Polynomial(a_encoded.coef)\n",
    "a_encoded.poly_floor()\n",
    "a_pt=Plaintext(a_encoded,scale)\n",
    "a_encrypted=public_key.encrypt(a_pt)\n",
    "\n",
    "b = np.array([.2]*4)\n",
    "b_encoded=encoder.encode(b)\n",
    "b_encoded=Polynomial(b_encoded.coef)\n",
    "b_encoded=b_encoded.poly_floor()\n",
    "b_pt=Plaintext(b_encoded,scale)\n",
    "b_encrypted=public_key.encrypt(b_pt)\n",
    "\n",
    "res1=a_encrypted**2\n",
    "res2=a_encrypted**2\n",
    "res=res1*res2\n",
    "\n",
    "pt_dash=private_key.decrypt(res)\n",
    "\n",
    "pt=np.polynomial.Polynomial(pt_dash.poly.convert_to_list())\n",
    "encoder=CKKSEncoder(16,pt_dash.scale)\n",
    "pt=encoder.decode(pt)\n",
    "print(pt_dash.scale==1<<20)\n",
    "pt"
   ]
  },
  {
   "cell_type": "code",
   "execution_count": null,
   "metadata": {},
   "outputs": [],
   "source": [
    "\n",
    "\n",
    "# pt[0].real"
   ]
  },
  {
   "cell_type": "code",
   "execution_count": null,
   "metadata": {},
   "outputs": [],
   "source": [
    "p"
   ]
  },
  {
   "cell_type": "code",
   "execution_count": null,
   "metadata": {},
   "outputs": [],
   "source": []
  }
 ],
 "metadata": {
  "kernelspec": {
   "display_name": "Python 3",
   "language": "python",
   "name": "python3"
  },
  "language_info": {
   "codemirror_mode": {
    "name": "ipython",
    "version": 3
   },
   "file_extension": ".py",
   "mimetype": "text/x-python",
   "name": "python",
   "nbconvert_exporter": "python",
   "pygments_lexer": "ipython3",
   "version": "3.10.9"
  }
 },
 "nbformat": 4,
 "nbformat_minor": 2
}
