{
 "cells": [
  {
   "cell_type": "code",
   "execution_count": 1,
   "metadata": {},
   "outputs": [],
   "source": [
    "from utils.poly import Polynomial\n",
    "from math import floor, log\n",
    "from CKKS_Scheme.ckks import Params,CKKS\n",
    "from CKKS_Scheme.ckks_encoder import CKKSEncoder\n",
    "from utils.plaintext import Plaintext\n",
    "from random import choice\n",
    "import numpy as np\n",
    "import utils.utils as utils"
   ]
  },
  {
   "cell_type": "code",
   "execution_count": 2,
   "metadata": {},
   "outputs": [],
   "source": [
    "def encode_value(a,scale):\n",
    "    encoder=CKKSEncoder(16,scale)\n",
    "    a_encoded=encoder.encode(np.array([a]*4))\n",
    "    a_encoded=Polynomial(a_encoded.coef)\n",
    "    a_encoded.poly_floor()\n",
    "    a_pt=Plaintext(a_encoded,scale)\n",
    "    return a_pt\n",
    "def decode_poly(a_pt):\n",
    "    pt=np.polynomial.Polynomial(a_pt.poly.convert_to_list())\n",
    "    encoder=CKKSEncoder(16,a_pt.scale)\n",
    "    pt=encoder.decode(pt)\n",
    "    return pt[0].real"
   ]
  },
  {
   "cell_type": "code",
   "execution_count": 3,
   "metadata": {},
   "outputs": [
    {
     "name": "stdout",
     "output_type": "stream",
     "text": [
      "<utils.plaintext.Plaintext object at 0x0000022EB689B820>\n"
     ]
    },
    {
     "data": {
      "text/plain": [
       "3.9999924723584965"
      ]
     },
     "execution_count": 3,
     "metadata": {},
     "output_type": "execute_result"
    }
   ],
   "source": [
    "scale=1<<20\n",
    "encoder=CKKSEncoder(16,scale)\n",
    "params = Params(8,  1<<600,1<<1200)\n",
    "ckks= CKKS(params)\n",
    "public_key,private_key=ckks.generate_keys()\n",
    "\n",
    "a_pt=encode_value(2,scale)\n",
    "print(a_pt)\n",
    "a_encrypted=public_key.encrypt(a_pt)\n",
    "\n",
    "b_pt=encode_value(2,scale)\n",
    "b_encrypted=public_key.encrypt(b_pt)\n",
    "\n",
    "res1=a_encrypted**2\n",
    "res2=a_encrypted**2\n",
    "res=res1*res2\n",
    "\n",
    "pt_dash=private_key.decrypt(res1)\n",
    "\n",
    "decode_poly(pt_dash)\n"
   ]
  },
  {
   "cell_type": "code",
   "execution_count": null,
   "metadata": {},
   "outputs": [],
   "source": [
    "\n",
    "\n",
    "# pt[0].real"
   ]
  },
  {
   "cell_type": "code",
   "execution_count": null,
   "metadata": {},
   "outputs": [],
   "source": [
    "p"
   ]
  },
  {
   "cell_type": "code",
   "execution_count": null,
   "metadata": {},
   "outputs": [],
   "source": []
  }
 ],
 "metadata": {
  "kernelspec": {
   "display_name": "Python 3",
   "language": "python",
   "name": "python3"
  },
  "language_info": {
   "codemirror_mode": {
    "name": "ipython",
    "version": 3
   },
   "file_extension": ".py",
   "mimetype": "text/x-python",
   "name": "python",
   "nbconvert_exporter": "python",
   "pygments_lexer": "ipython3",
   "version": "3.10.9"
  }
 },
 "nbformat": 4,
 "nbformat_minor": 2
}
