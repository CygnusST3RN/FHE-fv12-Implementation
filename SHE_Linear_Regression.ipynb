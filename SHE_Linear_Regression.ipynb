{
 "cells": [
  {
   "cell_type": "code",
   "execution_count": 1,
   "metadata": {},
   "outputs": [],
   "source": [
    "import pandas as pd\n",
    "import numpy as np\n",
    "import tensorflow as tf\n",
    "# from keras import backend as K\n",
    "from sklearn.model_selection import train_test_split\n",
    "from sklearn.preprocessing import StandardScaler,MinMaxScaler\n",
    "import importlib  \n",
    "import bfv\n",
    "import random\n",
    "import copy\n",
    "bfv=importlib.reload(bfv)"
   ]
  },
  {
   "cell_type": "code",
   "execution_count": 2,
   "metadata": {},
   "outputs": [
    {
     "name": "stdout",
     "output_type": "stream",
     "text": [
      "Initialised\n",
      "Eval Key:0/80 Done\n",
      "Eval Key:1/80 Done\n",
      "Eval Key:2/80 Done\n",
      "Eval Key:3/80 Done\n",
      "Eval Key:4/80 Done\n",
      "Eval Key:5/80 Done\n",
      "Eval Key:6/80 Done\n",
      "Eval Key:7/80 Done\n",
      "Eval Key:8/80 Done\n",
      "Eval Key:9/80 Done\n",
      "Eval Key:10/80 Done\n",
      "Eval Key:11/80 Done\n",
      "Eval Key:12/80 Done\n",
      "Eval Key:13/80 Done\n",
      "Eval Key:14/80 Done\n",
      "Eval Key:15/80 Done\n",
      "Eval Key:16/80 Done\n",
      "Eval Key:17/80 Done\n",
      "Eval Key:18/80 Done\n",
      "Eval Key:19/80 Done\n",
      "Eval Key:20/80 Done\n",
      "Eval Key:21/80 Done\n",
      "Eval Key:22/80 Done\n",
      "Eval Key:23/80 Done\n",
      "Eval Key:24/80 Done\n",
      "Eval Key:25/80 Done\n",
      "Eval Key:26/80 Done\n",
      "Eval Key:27/80 Done\n",
      "Eval Key:28/80 Done\n",
      "Eval Key:29/80 Done\n",
      "Eval Key:30/80 Done\n",
      "Eval Key:31/80 Done\n",
      "Eval Key:32/80 Done\n",
      "Eval Key:33/80 Done\n",
      "Eval Key:34/80 Done\n",
      "Eval Key:35/80 Done\n",
      "Eval Key:36/80 Done\n",
      "Eval Key:37/80 Done\n",
      "Eval Key:38/80 Done\n",
      "Eval Key:39/80 Done\n",
      "Eval Key:40/80 Done\n",
      "Eval Key:41/80 Done\n",
      "Eval Key:42/80 Done\n",
      "Eval Key:43/80 Done\n",
      "Eval Key:44/80 Done\n",
      "Eval Key:45/80 Done\n",
      "Eval Key:46/80 Done\n",
      "Eval Key:47/80 Done\n",
      "Eval Key:48/80 Done\n",
      "Eval Key:49/80 Done\n",
      "Eval Key:50/80 Done\n",
      "Eval Key:51/80 Done\n",
      "Eval Key:52/80 Done\n",
      "Eval Key:53/80 Done\n",
      "Eval Key:54/80 Done\n",
      "Eval Key:55/80 Done\n",
      "Eval Key:56/80 Done\n",
      "Eval Key:57/80 Done\n",
      "Eval Key:58/80 Done\n",
      "Eval Key:59/80 Done\n",
      "Eval Key:60/80 Done\n",
      "Eval Key:61/80 Done\n",
      "Eval Key:62/80 Done\n",
      "Eval Key:63/80 Done\n",
      "Eval Key:64/80 Done\n",
      "Eval Key:65/80 Done\n",
      "Eval Key:66/80 Done\n",
      "Eval Key:67/80 Done\n",
      "Eval Key:68/80 Done\n",
      "Eval Key:69/80 Done\n",
      "Eval Key:70/80 Done\n",
      "Eval Key:71/80 Done\n",
      "Eval Key:72/80 Done\n",
      "Eval Key:73/80 Done\n",
      "Eval Key:74/80 Done\n",
      "Eval Key:75/80 Done\n",
      "Eval Key:76/80 Done\n",
      "Eval Key:77/80 Done\n",
      "Eval Key:78/80 Done\n",
      "Eval Key:79/80 Done\n",
      "Eval Key:80/80 Done\n"
     ]
    }
   ],
   "source": [
    "\n",
    "params = bfv.Params(4, 2, 2**28, 2**80)\n",
    "fv12= bfv.FV12(params)\n",
    "public_key,private_key=fv12.generate_keys()\n"
   ]
  },
  {
   "cell_type": "code",
   "execution_count": 3,
   "metadata": {},
   "outputs": [
    {
     "name": "stdout",
     "output_type": "stream",
     "text": [
      "Unencrypted:\n",
      "a^2=729316\n",
      "Encrypted:\n",
      "a^2=729338\n",
      "Unencrypted:\n",
      "a^2=667489\n",
      "Encrypted:\n",
      "a^2=667496\n",
      "Unencrypted:\n",
      "a^2=306916\n",
      "Encrypted:\n",
      "a^2=306901\n",
      "Unencrypted:\n",
      "a^2=48400\n",
      "Encrypted:\n",
      "a^2=48399\n",
      "Unencrypted:\n",
      "a^2=172225\n",
      "Encrypted:\n",
      "a^2=172188\n",
      "Unencrypted:\n",
      "a^2=75076\n",
      "Encrypted:\n",
      "a^2=75080\n",
      "Unencrypted:\n",
      "a^2=418609\n",
      "Encrypted:\n",
      "a^2=418628\n",
      "Unencrypted:\n",
      "a^2=473344\n",
      "Encrypted:\n",
      "a^2=473335\n",
      "Unencrypted:\n",
      "a^2=177241\n",
      "Encrypted:\n",
      "a^2=177250\n",
      "Unencrypted:\n",
      "a^2=139129\n",
      "Encrypted:\n",
      "a^2=139184\n"
     ]
    }
   ],
   "source": [
    "for i in range(10):\n",
    "    \n",
    "    a=random.randrange(-1000,1000)\n",
    "   \n",
    "    print('Unencrypted:')\n",
    "    print('a^2='+str(a**2))\n",
    "    a_encrypted=public_key.encrypt(a)\n",
    "   \n",
    "    print('Encrypted:')\n",
    "    print('a^2='+str(private_key.decrypt(a_encrypted**2)))"
   ]
  },
  {
   "cell_type": "code",
   "execution_count": 17,
   "metadata": {},
   "outputs": [
    {
     "name": "stdout",
     "output_type": "stream",
     "text": [
      "(1250, 5)\n"
     ]
    }
   ],
   "source": [
    "X_train, X_test, y_train, y_test = read_dataset('./dataset/USA_Housing.csv',5,100)"
   ]
  },
  {
   "cell_type": "code",
   "execution_count": 18,
   "metadata": {},
   "outputs": [
    {
     "data": {
      "text/plain": [
       "array([15.702812, 43.560764, 88.219124, ..., 40.940823, 68.86467 ,\n",
       "       54.827248], dtype=float32)"
      ]
     },
     "execution_count": 18,
     "metadata": {},
     "output_type": "execute_result"
    }
   ],
   "source": [
    "y_train"
   ]
  },
  {
   "cell_type": "code",
   "execution_count": 19,
   "metadata": {},
   "outputs": [
    {
     "name": "stdout",
     "output_type": "stream",
     "text": [
      "Epoch 1/30\n",
      "235/235 [==============================] - 0s 855us/step - loss: 285.4955\n",
      "Epoch 2/30\n",
      "235/235 [==============================] - 0s 831us/step - loss: 162.8430\n",
      "Epoch 3/30\n",
      "235/235 [==============================] - 0s 757us/step - loss: 117.7768\n",
      "Epoch 4/30\n",
      "235/235 [==============================] - 0s 766us/step - loss: 97.2034\n",
      "Epoch 5/30\n",
      "235/235 [==============================] - 0s 807us/step - loss: 86.4151\n",
      "Epoch 6/30\n",
      "235/235 [==============================] - 0s 753us/step - loss: 80.2230\n",
      "Epoch 7/30\n",
      "235/235 [==============================] - 0s 741us/step - loss: 76.4224\n",
      "Epoch 8/30\n",
      "235/235 [==============================] - 0s 790us/step - loss: 73.7081\n",
      "Epoch 9/30\n",
      "235/235 [==============================] - 0s 781us/step - loss: 71.8725\n",
      "Epoch 10/30\n",
      "235/235 [==============================] - 0s 752us/step - loss: 70.6522\n",
      "Epoch 11/30\n",
      "235/235 [==============================] - 0s 755us/step - loss: 69.8237\n",
      "Epoch 12/30\n",
      "235/235 [==============================] - 0s 746us/step - loss: 69.1876\n",
      "Epoch 13/30\n",
      "235/235 [==============================] - 0s 790us/step - loss: 68.5685\n",
      "Epoch 14/30\n",
      "235/235 [==============================] - 0s 753us/step - loss: 68.1722\n",
      "Epoch 15/30\n",
      "235/235 [==============================] - 0s 757us/step - loss: 67.7020\n",
      "Epoch 16/30\n",
      "235/235 [==============================] - 0s 766us/step - loss: 67.4492\n",
      "Epoch 17/30\n",
      "235/235 [==============================] - 0s 761us/step - loss: 67.1163\n",
      "Epoch 18/30\n",
      "235/235 [==============================] - 0s 753us/step - loss: 66.7679\n",
      "Epoch 19/30\n",
      "235/235 [==============================] - 0s 712us/step - loss: 66.3322\n",
      "Epoch 20/30\n",
      "235/235 [==============================] - 0s 774us/step - loss: 66.2603\n",
      "Epoch 21/30\n",
      "235/235 [==============================] - 0s 776us/step - loss: 65.9239\n",
      "Epoch 22/30\n",
      "235/235 [==============================] - 0s 763us/step - loss: 65.6955\n",
      "Epoch 23/30\n",
      "235/235 [==============================] - 0s 771us/step - loss: 65.3719\n",
      "Epoch 24/30\n",
      "235/235 [==============================] - 0s 755us/step - loss: 65.1230\n",
      "Epoch 25/30\n",
      "235/235 [==============================] - 0s 768us/step - loss: 64.7420\n",
      "Epoch 26/30\n",
      "235/235 [==============================] - 0s 796us/step - loss: 64.6080\n",
      "Epoch 27/30\n",
      "235/235 [==============================] - 0s 776us/step - loss: 64.1571\n",
      "Epoch 28/30\n",
      "235/235 [==============================] - 0s 774us/step - loss: 63.8999\n",
      "Epoch 29/30\n",
      "235/235 [==============================] - 0s 768us/step - loss: 63.4781\n",
      "Epoch 30/30\n",
      "235/235 [==============================] - 0s 807us/step - loss: 63.3238\n",
      "Test Loss: 63.85\n"
     ]
    }
   ],
   "source": [
    "def custom_relu(x):\n",
    "    return x*x+x\n",
    "model = tf.keras.Sequential([\n",
    "    tf.keras.layers.Input(shape=(5,)),\n",
    "\n",
    "    tf.keras.layers.Dense(2),\n",
    "    # tf.keras.layers.Activation(custom_relu),\n",
    "    tf.keras.layers.Dense(1),\n",
    "])\n",
    "model.compile(optimizer='adam', loss='mse')\n",
    "model.fit(X_train, y_train, epochs=30, batch_size=16)\n",
    "loss = model.evaluate(X_test, y_test, verbose=0)\n",
    "print(f\"Test Loss: {loss:.2f}\")"
   ]
  },
  {
   "cell_type": "code",
   "execution_count": 20,
   "metadata": {},
   "outputs": [],
   "source": [
    "def create_model_weights_file(model,scale):\n",
    "  i=0\n",
    "  for layer in model.layers:\n",
    "    if('activation' in layer.name):\n",
    "      continue\n",
    "    w = (layer.get_weights()[0]).T\n",
    "    \n",
    "    b = (layer.get_weights()[1]).T\n",
    "    w=np.round_(w*scale).astype(int)\n",
    "    b=np.round_(b*scale).astype(int)\n",
    "    file_name = 'layer'+str(i)+'.npy'\n",
    "    with open(file_name, 'wb') as f:\n",
    "        np.save(f, w)\n",
    "        np.save(f, b)\n",
    "    i=i+1\n"
   ]
  },
  {
   "cell_type": "code",
   "execution_count": 21,
   "metadata": {},
   "outputs": [
    {
     "name": "stderr",
     "output_type": "stream",
     "text": [
      "/tmp/ipykernel_4262/3407065356.py:1: DeprecationWarning: `round_` is deprecated as of NumPy 1.25.0, and will be removed in NumPy 2.0. Please use `round` instead.\n",
      "  create_model_weights_file(model,100)\n"
     ]
    }
   ],
   "source": [
    "create_model_weights_file(model,100)"
   ]
  },
  {
   "cell_type": "code",
   "execution_count": null,
   "metadata": {},
   "outputs": [],
   "source": []
  },
  {
   "cell_type": "code",
   "execution_count": 22,
   "metadata": {},
   "outputs": [],
   "source": [
    "class Model:\n",
    "    def __init__(self,n_features,n_layers,n_layer_neurons,layer_activations,layer_weight_files):\n",
    "        self.n_features=n_features\n",
    "        self.n_layers=n_layers\n",
    "        self.n_layer_neurons=n_layer_neurons\n",
    "        self.layer_activations=layer_activations\n",
    "        self.weights=[]\n",
    "        self.biases=[]\n",
    "    \n",
    "        for wt_file in layer_weight_files:\n",
    "            \n",
    "            with open(wt_file, 'rb') as f:\n",
    "              self.weights.append(np.load(f).tolist())\n",
    "              self.biases.append(np.load(f).tolist())\n",
    "              \n",
    "        self.last_b=self.biases[-1][0]\n",
    "            \n",
    "    def __matmul(self,a,b):\n",
    "        ## Input: a to be 2-D (n_layer_neurons[layer_no],n_features)and b to be 1-D list\n",
    "        # Output : a 1-D list \n",
    "        output=[]\n",
    "        for i in range(len(a)):\n",
    "            res=0\n",
    "            for j in range(len(b)):\n",
    "                res=a[i][j]*b[j]+res\n",
    "            output.append(res)\n",
    "        return output\n",
    "    \n",
    "    def __matadd(self,a,b):\n",
    "        ## Input: a and b to be 1-D list\n",
    "        # Output : a 1-D list \n",
    "        ## For memory saving b is modified in calculations so be careful about order of inputs\n",
    "        \n",
    "        for i in range(len(a)):\n",
    "            b[i]=b[i]+a[i]\n",
    "        return b  \n",
    "    \n",
    "    def infer(self,x,encrypted=True):\n",
    "        for i in range(self.n_layers):\n",
    "            \n",
    "            new_x=self.__matmul(self.weights[i],x)\n",
    "            new_x=self.__matadd(self.biases[i],new_x)\n",
    "            \n",
    "            if(self.layer_activations[i]=='relu'):\n",
    "               \n",
    "                x=[t**2+t for t in new_x]\n",
    "                # if(encrypted==True):\n",
    "                #     temp=copy.deepcopy(new_x)\n",
    "                #     for t in temp:\n",
    "                #         print(private_key.decrypt(t))\n",
    "                #     temp=copy.deepcopy(x)\n",
    "                #     for t in temp:\n",
    "                #         print(private_key.decrypt(t))\n",
    "                if(encrypted==True):\n",
    "                    x=[t**2+t for t in new_x]\n",
    "                # else:\n",
    "                #     x=[max(0,t) for t in new_x]\n",
    "            else:  \n",
    "                x=new_x  \n",
    "        return x[0],self.last_b   \n",
    "       \n",
    "            \n",
    "        \n",
    "        \n",
    "        \n",
    "        "
   ]
  },
  {
   "cell_type": "code",
   "execution_count": 23,
   "metadata": {},
   "outputs": [],
   "source": [
    "model=Model(30,2,[2,1],['none','none'],['layer0.npy','layer1.npy'])"
   ]
  },
  {
   "cell_type": "code",
   "execution_count": 24,
   "metadata": {},
   "outputs": [
    {
     "name": "stdout",
     "output_type": "stream",
     "text": [
      "Accuracy on unencrypted Test Data:63.89031158799941\n",
      "Accuracy on encrypted test data:63.89031368216546\n"
     ]
    }
   ],
   "source": [
    "normal_mse=0\n",
    "encrypted_mse=0\n",
    "limit=len(X_test)\n",
    "for i in range(limit):\n",
    "    x=X_test[i].tolist()\n",
    "    x_encrypted=[public_key.encrypt(t) for t in x]\n",
    "    normal_res,b1=model.infer(x,False)\n",
    "    normal_res/=100\n",
    "    normal_res=((normal_res-(b1/100))/100)+(b1/100)\n",
    "    encrypted_res,b1=model.infer(x_encrypted)\n",
    "    encrypted_res=private_key.decrypt(encrypted_res)/(100)\n",
    "    encrypted_res=((encrypted_res-(b1/100))/100)+(b1/100)\n",
    "    #print('Unencryted Inference:'+str(normal_res)+\" Encrypted Inference:\"+str(encrypted_res))\n",
    "    # print(y_test[i])\n",
    "    # print(normal_res)\n",
    "    normal_mse+=(y_test[i]-normal_res)**2\n",
    "    encrypted_mse+=(y_test[i]-encrypted_res)**2\n",
    "print('Accuracy on unencrypted Test Data:'+str(normal_mse/limit))\n",
    "print('Accuracy on encrypted test data:'+str(encrypted_mse/limit))\n",
    "  "
   ]
  },
  {
   "cell_type": "code",
   "execution_count": null,
   "metadata": {},
   "outputs": [],
   "source": []
  }
 ],
 "metadata": {
  "kernelspec": {
   "display_name": "base",
   "language": "python",
   "name": "python3"
  },
  "language_info": {
   "codemirror_mode": {
    "name": "ipython",
    "version": 3
   },
   "file_extension": ".py",
   "mimetype": "text/x-python",
   "name": "python",
   "nbconvert_exporter": "python",
   "pygments_lexer": "ipython3",
   "version": "3.10.9"
  }
 },
 "nbformat": 4,
 "nbformat_minor": 2
}
