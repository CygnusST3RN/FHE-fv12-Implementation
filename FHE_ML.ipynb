{
  "nbformat": 4,
  "nbformat_minor": 0,
  "metadata": {
    "colab": {
      "provenance": [],
      "gpuType": "T4",
      "include_colab_link": true
    },
    "kernelspec": {
      "name": "python3",
      "display_name": "Python 3"
    },
    "language_info": {
      "name": "python"
    },
    "accelerator": "GPU"
  },
  "cells": [
    {
      "cell_type": "markdown",
      "metadata": {
        "id": "view-in-github",
        "colab_type": "text"
      },
      "source": [
        "<a href=\"https://colab.research.google.com/github/CygnusST3RN/FHE.0/blob/ankita_ml/FHE_ML.ipynb\" target=\"_parent\"><img src=\"https://colab.research.google.com/assets/colab-badge.svg\" alt=\"Open In Colab\"/></a>"
      ]
    },
    {
      "cell_type": "code",
      "execution_count": 7,
      "metadata": {
        "id": "8b6vkXoZ9Udt"
      },
      "outputs": [],
      "source": [
        "import pandas as pd\n",
        "import numpy as np\n",
        "from sklearn.preprocessing import MinMaxScaler\n",
        "import tensorflow as tf\n",
        "from sklearn.model_selection import train_test_split\n",
        "from sklearn.preprocessing import StandardScaler,MinMaxScaler"
      ]
    },
    {
      "cell_type": "code",
      "source": [
        "def read_dataset(url,col,scale):\n",
        "  df=pd.read_csv(url)\n",
        "  df.drop(\"Unnamed: 32\", axis=1, inplace=True)\n",
        "  X = df.iloc[:, col+1:]\n",
        "  col_name=df.columns[col]\n",
        "  y = df[col_name]\n",
        "  for i in range (0,len(df)):\n",
        "    if y[i]=='M':\n",
        "      y[i]=1\n",
        "    else:\n",
        "      y[i]=0\n",
        "  X_train, X_test, y_train, y_test = train_test_split(\n",
        "  X,y , random_state=104,test_size=0.25, shuffle=True)\n",
        "  X_train=np.asarray(X_train).astype('float32')\n",
        "  X_test=np.asarray(X_test).astype('float32')\n",
        "  y_train=np.asarray(y_train).astype('float32')\n",
        "  y_test=np.asarray(y_test).astype('float32')\n",
        "  scaler = MinMaxScaler(feature_range=(0, scale))\n",
        "  X_train = scaler.fit_transform(X_train)\n",
        "  X_test = scaler.transform(X_test)\n",
        "  print(X_test.shape)\n",
        "  return X_train, X_test, y_train, y_test\n",
        ""
      ],
      "metadata": {
        "id": "moQ07oZ8XhLK"
      },
      "execution_count": 12,
      "outputs": []
    },
    {
      "cell_type": "code",
      "source": [
        "X_train, X_test, y_train, y_test = read_dataset('data.csv',1,1)"
      ],
      "metadata": {
        "colab": {
          "base_uri": "https://localhost:8080/"
        },
        "id": "qkptBY6mZN9v",
        "outputId": "5ea783b8-9878-49b5-b01d-ce231c18516f"
      },
      "execution_count": 13,
      "outputs": [
        {
          "output_type": "stream",
          "name": "stdout",
          "text": [
            "(143, 30)\n"
          ]
        },
        {
          "output_type": "stream",
          "name": "stderr",
          "text": [
            "<ipython-input-12-581388e63b9f>:9: SettingWithCopyWarning: \n",
            "A value is trying to be set on a copy of a slice from a DataFrame\n",
            "\n",
            "See the caveats in the documentation: https://pandas.pydata.org/pandas-docs/stable/user_guide/indexing.html#returning-a-view-versus-a-copy\n",
            "  y[i]=1\n",
            "<ipython-input-12-581388e63b9f>:11: SettingWithCopyWarning: \n",
            "A value is trying to be set on a copy of a slice from a DataFrame\n",
            "\n",
            "See the caveats in the documentation: https://pandas.pydata.org/pandas-docs/stable/user_guide/indexing.html#returning-a-view-versus-a-copy\n",
            "  y[i]=0\n"
          ]
        }
      ]
    },
    {
      "cell_type": "code",
      "source": [
        "df=pd.read_csv('data.csv')\n",
        "dataset=df.to_numpy()\n",
        "df.drop(\"Unnamed: 32\", axis=1, inplace=True)\n",
        "dataset.shape"
      ],
      "metadata": {
        "colab": {
          "base_uri": "https://localhost:8080/"
        },
        "id": "0_us0Daw-bfp",
        "outputId": "e05fca6b-c418-475e-c30f-ccc0071968b9"
      },
      "execution_count": null,
      "outputs": [
        {
          "output_type": "execute_result",
          "data": {
            "text/plain": [
              "(569, 33)"
            ]
          },
          "metadata": {},
          "execution_count": 87
        }
      ]
    },
    {
      "cell_type": "code",
      "source": [
        "X = df.iloc[:, 2:]\n",
        "y = df[\"diagnosis\"]\n",
        "for i in range (0,569):\n",
        "    if y[i]=='M':\n",
        "        y[i]=1\n",
        "    else:\n",
        "        y[i]=0\n",
        "print(df[\"diagnosis\"])\n"
      ],
      "metadata": {
        "colab": {
          "base_uri": "https://localhost:8080/"
        },
        "id": "C53x244N-l9V",
        "outputId": "889d8720-6583-44cd-bd32-ab9140cde5c8"
      },
      "execution_count": null,
      "outputs": [
        {
          "output_type": "stream",
          "name": "stderr",
          "text": [
            "<ipython-input-88-0ed101fed6dd>:5: SettingWithCopyWarning: \n",
            "A value is trying to be set on a copy of a slice from a DataFrame\n",
            "\n",
            "See the caveats in the documentation: https://pandas.pydata.org/pandas-docs/stable/user_guide/indexing.html#returning-a-view-versus-a-copy\n",
            "  y[i]=1\n",
            "<ipython-input-88-0ed101fed6dd>:7: SettingWithCopyWarning: \n",
            "A value is trying to be set on a copy of a slice from a DataFrame\n",
            "\n",
            "See the caveats in the documentation: https://pandas.pydata.org/pandas-docs/stable/user_guide/indexing.html#returning-a-view-versus-a-copy\n",
            "  y[i]=0\n"
          ]
        },
        {
          "output_type": "stream",
          "name": "stdout",
          "text": [
            "0      1\n",
            "1      1\n",
            "2      1\n",
            "3      1\n",
            "4      1\n",
            "      ..\n",
            "564    1\n",
            "565    1\n",
            "566    1\n",
            "567    1\n",
            "568    0\n",
            "Name: diagnosis, Length: 569, dtype: object\n"
          ]
        }
      ]
    },
    {
      "cell_type": "code",
      "source": [
        "X_train, X_test, y_train, y_test = train_test_split(\n",
        "  X,y , random_state=104,test_size=0.25, shuffle=True)"
      ],
      "metadata": {
        "id": "HmVrDk8A-mFD"
      },
      "execution_count": null,
      "outputs": []
    },
    {
      "cell_type": "code",
      "source": [
        "X_train=np.asarray(X_train).astype('float32')\n",
        "X_test=np.asarray(X_test).astype('float32')\n",
        "y_train=np.asarray(y_train).astype('float32')\n",
        "y_test=np.asarray(y_test).astype('float32')"
      ],
      "metadata": {
        "id": "NxL2hGdE-mKg"
      },
      "execution_count": null,
      "outputs": []
    },
    {
      "cell_type": "code",
      "source": [
        "scaler = MinMaxScaler(feature_range=(0, 100))\n",
        "X_train = scaler.fit_transform(X_train)\n",
        "X_test = scaler.transform(X_test)\n",
        "X_train=np.round(X_train)\n",
        "X_test=np.round(X_test)"
      ],
      "metadata": {
        "id": "Et_SP8To-mQf"
      },
      "execution_count": null,
      "outputs": []
    },
    {
      "cell_type": "code",
      "source": [
        "X_train[0]"
      ],
      "metadata": {
        "colab": {
          "base_uri": "https://localhost:8080/"
        },
        "id": "IRAowxPY-wRP",
        "outputId": "3a05846e-e6c5-4ad4-c3b5-1a72d8f68310"
      },
      "execution_count": null,
      "outputs": [
        {
          "output_type": "execute_result",
          "data": {
            "text/plain": [
              "array([25.,  9., 24., 14., 45., 14.,  9., 18., 49., 20.,  5.,  7.,  4.,\n",
              "        2., 22.,  7.,  4., 24., 16.,  4., 20., 10., 18.,  9., 46., 11.,\n",
              "       10., 32., 25., 11.], dtype=float32)"
            ]
          },
          "metadata": {},
          "execution_count": 92
        }
      ]
    },
    {
      "cell_type": "code",
      "source": [
        "model = tf.keras.Sequential([\n",
        "    tf.keras.layers.Input(shape=(30,)),\n",
        "    tf.keras.layers.Dense(1, activation='sigmoid')\n",
        "])\n",
        "model.compile(optimizer='adam', loss='binary_crossentropy', metrics=['accuracy'])\n",
        "model.fit(X_train, y_train, epochs=10, batch_size=16)\n",
        "loss, accuracy = model.evaluate(X_test, y_test, verbose=0)\n",
        "print(f\"Test Accuracy: {accuracy*100:.2f}%\")"
      ],
      "metadata": {
        "colab": {
          "base_uri": "https://localhost:8080/"
        },
        "id": "ONvZWqu1-wg0",
        "outputId": "1186f5ad-9765-4d38-f20b-26f87d879c6a"
      },
      "execution_count": 14,
      "outputs": [
        {
          "output_type": "stream",
          "name": "stdout",
          "text": [
            "Epoch 1/10\n",
            "27/27 [==============================] - 1s 4ms/step - loss: 0.6950 - accuracy: 0.3732\n",
            "Epoch 2/10\n",
            "27/27 [==============================] - 0s 4ms/step - loss: 0.6789 - accuracy: 0.4014\n",
            "Epoch 3/10\n",
            "27/27 [==============================] - 0s 4ms/step - loss: 0.6656 - accuracy: 0.5305\n",
            "Epoch 4/10\n",
            "27/27 [==============================] - 0s 4ms/step - loss: 0.6542 - accuracy: 0.6667\n",
            "Epoch 5/10\n",
            "27/27 [==============================] - 0s 4ms/step - loss: 0.6428 - accuracy: 0.7512\n",
            "Epoch 6/10\n",
            "27/27 [==============================] - 0s 4ms/step - loss: 0.6326 - accuracy: 0.8333\n",
            "Epoch 7/10\n",
            "27/27 [==============================] - 0s 4ms/step - loss: 0.6224 - accuracy: 0.8568\n",
            "Epoch 8/10\n",
            "27/27 [==============================] - 0s 4ms/step - loss: 0.6131 - accuracy: 0.8873\n",
            "Epoch 9/10\n",
            "27/27 [==============================] - 0s 4ms/step - loss: 0.6041 - accuracy: 0.8873\n",
            "Epoch 10/10\n",
            "27/27 [==============================] - 0s 4ms/step - loss: 0.5952 - accuracy: 0.8991\n",
            "Test Accuracy: 87.41%\n"
          ]
        }
      ]
    },
    {
      "cell_type": "code",
      "source": [
        "jloss, accuracy = model.evaluate(X_test, y_test, verbose=0)\n",
        "print(f\"Test Accuracy: {accuracy*100:.2f}%\")"
      ],
      "metadata": {
        "colab": {
          "base_uri": "https://localhost:8080/"
        },
        "id": "jUeIoUpu-zVR",
        "outputId": "40d5bde5-6a76-4226-cc46-f1c98d6389b9"
      },
      "execution_count": 15,
      "outputs": [
        {
          "output_type": "stream",
          "name": "stdout",
          "text": [
            "Test Accuracy: 87.41%\n"
          ]
        }
      ]
    },
    {
      "cell_type": "code",
      "source": [
        "print(model.predict(np.array([X_test[3]])))\n",
        "print(y_test[3])"
      ],
      "metadata": {
        "colab": {
          "base_uri": "https://localhost:8080/"
        },
        "id": "dFwJGbatE62V",
        "outputId": "0ac29191-92ac-411d-c43b-1872f472d0d9"
      },
      "execution_count": null,
      "outputs": [
        {
          "output_type": "stream",
          "name": "stdout",
          "text": [
            "1/1 [==============================] - 0s 20ms/step\n",
            "[[2.867092e-09]]\n",
            "0.0\n"
          ]
        }
      ]
    },
    {
      "cell_type": "code",
      "source": [
        "X_test[3]"
      ],
      "metadata": {
        "colab": {
          "base_uri": "https://localhost:8080/"
        },
        "id": "t6tpzGjuFFcs",
        "outputId": "613eb6a5-1f23-49a2-82f5-2af4dd09cbc3"
      },
      "execution_count": null,
      "outputs": [
        {
          "output_type": "execute_result",
          "data": {
            "text/plain": [
              "array([ 6., 24.,  5.,  2., 30., 11.,  4.,  3., 38., 31.,  2., 13.,  2.,\n",
              "        0., 25., 10.,  4., 11., 25.,  5.,  4., 26.,  3.,  1., 40., 12.,\n",
              "        5.,  9., 30., 16.], dtype=float32)"
            ]
          },
          "metadata": {},
          "execution_count": 106
        }
      ]
    },
    {
      "cell_type": "code",
      "source": [
        "layer=model.layers[0]\n",
        "print(len(model.layers))\n",
        "w=layer.get_weights()[0][:,0] # weights\n",
        "b=layer.get_weights()[1]\n",
        "res=0\n",
        "for i in range(len(w)):\n",
        "  res+=X_test[3][i]*np.round(w[i]*100)\n",
        "res+=np.round(b*100)\n",
        "res/100"
      ],
      "metadata": {
        "colab": {
          "base_uri": "https://localhost:8080/"
        },
        "id": "3t2-eINfvU6v",
        "outputId": "9d918110-ecdf-4967-a161-5f7057f08c7d"
      },
      "execution_count": null,
      "outputs": [
        {
          "output_type": "stream",
          "name": "stdout",
          "text": [
            "1\n"
          ]
        },
        {
          "output_type": "execute_result",
          "data": {
            "text/plain": [
              "array([-19.48], dtype=float32)"
            ]
          },
          "metadata": {},
          "execution_count": 107
        }
      ]
    },
    {
      "cell_type": "code",
      "source": [
        "import tensorflow_model_optimization as tfmot\n",
        "\n",
        "quantize_model = tfmot.quantization.keras.quantize_model\n",
        "\n",
        "# q_aware stands for for quantization aware.\n",
        "q_aware_model = quantize_model(model)\n",
        "\n",
        "# `quantize_model` requires a recompile.\n",
        "q_aware_model.compile(optimizer='adam',\n",
        "              loss=tf.keras.losses.SparseCategoricalCrossentropy(from_logits=False),\n",
        "              metrics=['accuracy'])\n",
        "\n",
        "q_aware_model.summary()"
      ],
      "metadata": {
        "colab": {
          "base_uri": "https://localhost:8080/"
        },
        "id": "NoSfr9f9vk5H",
        "outputId": "0dcb58db-5982-4027-bea3-b5baa739c36a"
      },
      "execution_count": null,
      "outputs": [
        {
          "output_type": "stream",
          "name": "stdout",
          "text": [
            "Model: \"sequential_7\"\n",
            "_________________________________________________________________\n",
            " Layer (type)                Output Shape              Param #   \n",
            "=================================================================\n",
            " quantize_layer_6 (Quantize  (None, 30)                3         \n",
            " Layer)                                                          \n",
            "                                                                 \n",
            " quant_dense_7 (QuantizeWra  (None, 1)                 36        \n",
            " pperV2)                                                         \n",
            "                                                                 \n",
            "=================================================================\n",
            "Total params: 39 (156.00 Byte)\n",
            "Trainable params: 31 (124.00 Byte)\n",
            "Non-trainable params: 8 (32.00 Byte)\n",
            "_________________________________________________________________\n"
          ]
        }
      ]
    },
    {
      "cell_type": "code",
      "source": [
        "q_aware_model.fit(X_train, y_train, epochs=30, batch_size=16)"
      ],
      "metadata": {
        "colab": {
          "base_uri": "https://localhost:8080/"
        },
        "id": "Yk8jSi8ABPNH",
        "outputId": "3d9c1140-9764-4d6d-d80a-31860696b301"
      },
      "execution_count": null,
      "outputs": [
        {
          "output_type": "stream",
          "name": "stdout",
          "text": [
            "Epoch 1/30\n",
            "27/27 [==============================] - 1s 3ms/step - loss: nan - accuracy: 0.6455\n",
            "Epoch 2/30\n",
            "27/27 [==============================] - 0s 3ms/step - loss: nan - accuracy: 0.6338\n",
            "Epoch 3/30\n",
            "27/27 [==============================] - 0s 3ms/step - loss: nan - accuracy: 0.6338\n",
            "Epoch 4/30\n",
            "27/27 [==============================] - 0s 3ms/step - loss: nan - accuracy: 0.6338\n",
            "Epoch 5/30\n",
            "27/27 [==============================] - 0s 3ms/step - loss: nan - accuracy: 0.6338\n",
            "Epoch 6/30\n",
            "27/27 [==============================] - 0s 4ms/step - loss: nan - accuracy: 0.6338\n",
            "Epoch 7/30\n",
            "27/27 [==============================] - 0s 3ms/step - loss: nan - accuracy: 0.6338\n",
            "Epoch 8/30\n",
            "27/27 [==============================] - 0s 4ms/step - loss: nan - accuracy: 0.6338\n",
            "Epoch 9/30\n",
            "27/27 [==============================] - 0s 3ms/step - loss: nan - accuracy: 0.6338\n",
            "Epoch 10/30\n",
            "27/27 [==============================] - 0s 3ms/step - loss: nan - accuracy: 0.6338\n",
            "Epoch 11/30\n",
            "27/27 [==============================] - 0s 3ms/step - loss: nan - accuracy: 0.6338\n",
            "Epoch 12/30\n",
            "27/27 [==============================] - 0s 3ms/step - loss: nan - accuracy: 0.6338\n",
            "Epoch 13/30\n",
            "27/27 [==============================] - 0s 3ms/step - loss: nan - accuracy: 0.6338\n",
            "Epoch 14/30\n",
            "27/27 [==============================] - 0s 3ms/step - loss: nan - accuracy: 0.6338\n",
            "Epoch 15/30\n",
            "27/27 [==============================] - 0s 3ms/step - loss: nan - accuracy: 0.6338\n",
            "Epoch 16/30\n",
            "27/27 [==============================] - 0s 3ms/step - loss: nan - accuracy: 0.6338\n",
            "Epoch 17/30\n",
            "27/27 [==============================] - 0s 3ms/step - loss: nan - accuracy: 0.6338\n",
            "Epoch 18/30\n",
            "27/27 [==============================] - 0s 3ms/step - loss: nan - accuracy: 0.6338\n",
            "Epoch 19/30\n",
            "27/27 [==============================] - 0s 3ms/step - loss: nan - accuracy: 0.6338\n",
            "Epoch 20/30\n",
            "27/27 [==============================] - 0s 3ms/step - loss: nan - accuracy: 0.6338\n",
            "Epoch 21/30\n",
            "27/27 [==============================] - 0s 3ms/step - loss: nan - accuracy: 0.6338\n",
            "Epoch 22/30\n",
            "27/27 [==============================] - 0s 3ms/step - loss: nan - accuracy: 0.6338\n",
            "Epoch 23/30\n",
            "27/27 [==============================] - 0s 3ms/step - loss: nan - accuracy: 0.6338\n",
            "Epoch 24/30\n",
            "27/27 [==============================] - 0s 3ms/step - loss: nan - accuracy: 0.6338\n",
            "Epoch 25/30\n",
            "27/27 [==============================] - 0s 3ms/step - loss: nan - accuracy: 0.6338\n",
            "Epoch 26/30\n",
            "27/27 [==============================] - 0s 3ms/step - loss: nan - accuracy: 0.6338\n",
            "Epoch 27/30\n",
            "27/27 [==============================] - 0s 3ms/step - loss: nan - accuracy: 0.6338\n",
            "Epoch 28/30\n",
            "27/27 [==============================] - 0s 3ms/step - loss: nan - accuracy: 0.6338\n",
            "Epoch 29/30\n",
            "27/27 [==============================] - 0s 3ms/step - loss: nan - accuracy: 0.6338\n",
            "Epoch 30/30\n",
            "27/27 [==============================] - 0s 3ms/step - loss: nan - accuracy: 0.6338\n"
          ]
        },
        {
          "output_type": "execute_result",
          "data": {
            "text/plain": [
              "<keras.src.callbacks.History at 0x7f7751144d00>"
            ]
          },
          "metadata": {},
          "execution_count": 86
        }
      ]
    },
    {
      "cell_type": "code",
      "source": [
        "-"
      ],
      "metadata": {
        "id": "2128qQ_3BSa_"
      },
      "execution_count": null,
      "outputs": []
    }
  ]
}