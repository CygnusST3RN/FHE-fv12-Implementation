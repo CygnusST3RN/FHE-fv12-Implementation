{
  "nbformat": 4,
  "nbformat_minor": 0,
  "metadata": {
    "colab": {
      "provenance": [],
      "gpuType": "T4",
      "include_colab_link": true
    },
    "kernelspec": {
      "name": "python3",
      "display_name": "Python 3"
    },
    "language_info": {
      "name": "python"
    },
    "accelerator": "GPU"
  },
  "cells": [
    {
      "cell_type": "markdown",
      "metadata": {
        "id": "view-in-github",
        "colab_type": "text"
      },
      "source": [
        "<a href=\"https://colab.research.google.com/github/CygnusST3RN/FHE.0/blob/ankita_ml/FHE_ML.ipynb\" target=\"_parent\"><img src=\"https://colab.research.google.com/assets/colab-badge.svg\" alt=\"Open In Colab\"/></a>"
      ]
    },
    {
      "cell_type": "code",
      "execution_count": 43,
      "metadata": {
        "id": "8b6vkXoZ9Udt"
      },
      "outputs": [],
      "source": [
        "import pandas as pd\n",
        "import numpy as np\n",
        "from sklearn.preprocessing import MinMaxScaler\n",
        "import tensorflow as tf\n",
        "from sklearn.model_selection import train_test_split\n",
        "from sklearn.preprocessing import StandardScaler,MinMaxScaler"
      ]
    },
    {
      "cell_type": "code",
      "source": [
        "def read_dataset(url,col,scale):\n",
        "  df=pd.read_csv(url)\n",
        "  df.drop(\"Unnamed: 32\", axis=1, inplace=True)\n",
        "  X = df.iloc[:, col+1:]\n",
        "  col_name=df.columns[col]\n",
        "  y = df[col_name]\n",
        "  for i in range (0,len(df)):\n",
        "    if y[i]=='M':\n",
        "      y[i]=1\n",
        "    else:\n",
        "      y[i]=0\n",
        "  X_train, X_test, y_train, y_test = train_test_split(\n",
        "  X,y , random_state=104,test_size=0.25, shuffle=True)\n",
        "  X_train=np.asarray(X_train).astype('float32')\n",
        "  X_test=np.asarray(X_test).astype('float32')\n",
        "  y_train=np.asarray(y_train).astype('float32')\n",
        "  y_test=np.asarray(y_test).astype('float32')\n",
        "  scaler = MinMaxScaler(feature_range=(0, scale))\n",
        "  X_train = scaler.fit_transform(X_train)\n",
        "  X_test = scaler.transform(X_test)\n",
        "  print(X_test.shape)\n",
        "  return X_train, X_test, y_train, y_test\n"
      ],
      "metadata": {
        "id": "moQ07oZ8XhLK"
      },
      "execution_count": 7,
      "outputs": []
    },
    {
      "cell_type": "code",
      "source": [
        "X_train, X_test, y_train, y_test = read_dataset('data.csv',1,1)"
      ],
      "metadata": {
        "colab": {
          "base_uri": "https://localhost:8080/"
        },
        "id": "qkptBY6mZN9v",
        "outputId": "f15404f2-5f80-48c0-cb10-d239619acaf3"
      },
      "execution_count": 8,
      "outputs": [
        {
          "output_type": "stream",
          "name": "stdout",
          "text": [
            "(143, 30)\n"
          ]
        },
        {
          "output_type": "stream",
          "name": "stderr",
          "text": [
            "<ipython-input-7-080874c512ac>:9: SettingWithCopyWarning: \n",
            "A value is trying to be set on a copy of a slice from a DataFrame\n",
            "\n",
            "See the caveats in the documentation: https://pandas.pydata.org/pandas-docs/stable/user_guide/indexing.html#returning-a-view-versus-a-copy\n",
            "  y[i]=1\n",
            "<ipython-input-7-080874c512ac>:11: SettingWithCopyWarning: \n",
            "A value is trying to be set on a copy of a slice from a DataFrame\n",
            "\n",
            "See the caveats in the documentation: https://pandas.pydata.org/pandas-docs/stable/user_guide/indexing.html#returning-a-view-versus-a-copy\n",
            "  y[i]=0\n"
          ]
        }
      ]
    },
    {
      "cell_type": "code",
      "source": [
        "model = tf.keras.Sequential([\n",
        "    tf.keras.layers.Input(shape=(30,)),\n",
        "    tf.keras.layers.Dense(1, activation='sigmoid')\n",
        "])\n",
        "model.compile(optimizer='adam', loss='binary_crossentropy', metrics=['accuracy'])\n",
        "model.fit(X_train, y_train, epochs=10, batch_size=16)\n",
        "loss, accuracy = model.evaluate(X_test, y_test, verbose=0)\n",
        "print(f\"Test Accuracy: {accuracy*100:.2f}%\")"
      ],
      "metadata": {
        "colab": {
          "base_uri": "https://localhost:8080/"
        },
        "id": "GECyRUvVpxp5",
        "outputId": "97517684-3103-4ba6-94a8-3dd48fe10c96"
      },
      "execution_count": 9,
      "outputs": [
        {
          "output_type": "stream",
          "name": "stdout",
          "text": [
            "Epoch 1/10\n",
            "27/27 [==============================] - 1s 3ms/step - loss: 0.6366 - accuracy: 0.7066\n",
            "Epoch 2/10\n",
            "27/27 [==============================] - 0s 3ms/step - loss: 0.6253 - accuracy: 0.7418\n",
            "Epoch 3/10\n",
            "27/27 [==============================] - 0s 3ms/step - loss: 0.6153 - accuracy: 0.7793\n",
            "Epoch 4/10\n",
            "27/27 [==============================] - 0s 3ms/step - loss: 0.6066 - accuracy: 0.8052\n",
            "Epoch 5/10\n",
            "27/27 [==============================] - 0s 3ms/step - loss: 0.5974 - accuracy: 0.8075\n",
            "Epoch 6/10\n",
            "27/27 [==============================] - 0s 3ms/step - loss: 0.5891 - accuracy: 0.8192\n",
            "Epoch 7/10\n",
            "27/27 [==============================] - 0s 3ms/step - loss: 0.5811 - accuracy: 0.8357\n",
            "Epoch 8/10\n",
            "27/27 [==============================] - 0s 3ms/step - loss: 0.5733 - accuracy: 0.8404\n",
            "Epoch 9/10\n",
            "27/27 [==============================] - 0s 3ms/step - loss: 0.5659 - accuracy: 0.8545\n",
            "Epoch 10/10\n",
            "27/27 [==============================] - 0s 3ms/step - loss: 0.5585 - accuracy: 0.8545\n",
            "Test Accuracy: 82.52%\n"
          ]
        }
      ]
    },
    {
      "cell_type": "code",
      "source": [
        "def create_model_weights_file(model,scale):\n",
        "  i=0\n",
        "  for layer in model.layers:\n",
        "    w = layer.get_weights()[0]\n",
        "    b = layer.get_weights()[1]\n",
        "    w=np.round_(w*scale)\n",
        "    b=np.round_(b*scale)\n",
        "    file_name = 'layer'+str(i)+'.npy'\n",
        "    with open(file_name, 'wb') as f:\n",
        "        np.save(f, w)\n",
        "        np.save(f, b)\n",
        "    i=i+1\n"
      ],
      "metadata": {
        "id": "C53x244N-l9V"
      },
      "execution_count": 37,
      "outputs": []
    },
    {
      "cell_type": "code",
      "source": [
        "create_model_weights_file(model,10)"
      ],
      "metadata": {
        "id": "HmVrDk8A-mFD"
      },
      "execution_count": 38,
      "outputs": []
    }
  ]
}