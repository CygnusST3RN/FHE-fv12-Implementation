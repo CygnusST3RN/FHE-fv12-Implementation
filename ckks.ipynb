{
 "cells": [
  {
   "cell_type": "code",
   "execution_count": 1,
   "metadata": {},
   "outputs": [],
   "source": [
    "import numpy as np\n",
    "from ckks_encoder import CKKSEncoder\n",
    "from ckks import Params,CKKS\n",
    "from plaintext import Plaintext\n",
    "from poly import Polynomial\n",
    "import math \n",
    "from math import floor"
   ]
  },
  {
   "cell_type": "code",
   "execution_count": 15,
   "metadata": {},
   "outputs": [
    {
     "name": "stdout",
     "output_type": "stream",
     "text": [
      "Initialised\n"
     ]
    },
    {
     "data": {
      "text/plain": [
       "array([1.20370671e-35-7.14140989e-42j, 1.20370628e-35-6.84590213e-42j,\n",
       "       1.20370586e-35-2.76686661e-42j, 1.20370600e-35-8.20295405e-43j])"
      ]
     },
     "execution_count": 15,
     "metadata": {},
     "output_type": "execute_result"
    }
   ],
   "source": [
    "scale=1<<60\n",
    "encoder=CKKSEncoder(16,scale)\n",
    "params = Params(8,  1<<600,1<<1200)\n",
    "ckks= CKKS(params)\n",
    "public_key,private_key=ckks.generate_keys()\n",
    "\n",
    "a = np.array([.2]*4)\n",
    "a_encoded=encoder.encode(a)\n",
    "a_encoded=Polynomial(a_encoded.coef)\n",
    "a_encoded.poly_floor()\n",
    "a_pt=Plaintext(a_encoded,scale)\n",
    "a_encrypted=public_key.encrypt(a_pt)\n",
    "\n",
    "b = np.array([.2]*4)\n",
    "b_encoded=encoder.encode(b)\n",
    "b_encoded=Polynomial(b_encoded.coef)\n",
    "b_encoded=b_encoded.poly_floor()\n",
    "b_pt=Plaintext(b_encoded,scale)\n",
    "b_encrypted=public_key.encrypt(b_pt)\n",
    "\n",
    "res=a_encrypted**4\n",
    "\n",
    "pt_dash=private_key.decrypt(res)\n",
    "\n",
    "pt=np.polynomial.Polynomial(pt_dash.poly.convert_to_list())\n",
    "encoder=CKKSEncoder(16,pt_dash.scale)\n",
    "pt=encoder.decode(pt)\n",
    "pt"
   ]
  },
  {
   "cell_type": "code",
   "execution_count": 3,
   "metadata": {},
   "outputs": [],
   "source": [
    "\n",
    "\n",
    "# pt[0].real"
   ]
  },
  {
   "cell_type": "code",
   "execution_count": 4,
   "metadata": {},
   "outputs": [
    {
     "ename": "NameError",
     "evalue": "name 'p' is not defined",
     "output_type": "error",
     "traceback": [
      "\u001b[1;31m---------------------------------------------------------------------------\u001b[0m",
      "\u001b[1;31mNameError\u001b[0m                                 Traceback (most recent call last)",
      "\u001b[1;32mc:\\Users\\delwy\\OneDrive\\Desktop\\fhe\\FHE.0\\ckks.ipynb Cell 4\u001b[0m line \u001b[0;36m1\n\u001b[1;32m----> <a href='vscode-notebook-cell:/c%3A/Users/delwy/OneDrive/Desktop/fhe/FHE.0/ckks.ipynb#X13sZmlsZQ%3D%3D?line=0'>1</a>\u001b[0m p\n",
      "\u001b[1;31mNameError\u001b[0m: name 'p' is not defined"
     ]
    }
   ],
   "source": [
    "p"
   ]
  },
  {
   "cell_type": "code",
   "execution_count": null,
   "metadata": {},
   "outputs": [],
   "source": []
  }
 ],
 "metadata": {
  "kernelspec": {
   "display_name": "Python 3",
   "language": "python",
   "name": "python3"
  },
  "language_info": {
   "codemirror_mode": {
    "name": "ipython",
    "version": 3
   },
   "file_extension": ".py",
   "mimetype": "text/x-python",
   "name": "python",
   "nbconvert_exporter": "python",
   "pygments_lexer": "ipython3",
   "version": "3.10.9"
  }
 },
 "nbformat": 4,
 "nbformat_minor": 2
}
