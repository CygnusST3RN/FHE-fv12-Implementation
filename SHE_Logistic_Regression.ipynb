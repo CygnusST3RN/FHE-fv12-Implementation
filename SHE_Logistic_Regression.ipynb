{
  "cells": [
    {
      "cell_type": "markdown",
      "metadata": {
        "colab_type": "text",
        "id": "view-in-github"
      },
      "source": [
        "<a href=\"https://colab.research.google.com/github/CygnusST3RN/FHE.0/blob/ankita_ml/FHE_ML.ipynb\" target=\"_parent\"><img src=\"https://colab.research.google.com/assets/colab-badge.svg\" alt=\"Open In Colab\"/></a>"
      ]
    },
    {
      "cell_type": "code",
      "execution_count": 2,
      "metadata": {
        "id": "8b6vkXoZ9Udt"
      },
      "outputs": [],
      "source": [
        "import pandas as pd\n",
        "import numpy as np\n",
        "import tensorflow as tf\n",
        "# from keras import backend as K\n",
        "from sklearn.model_selection import train_test_split\n",
        "from sklearn.preprocessing import StandardScaler,MinMaxScaler\n",
        "import importlib  \n",
        "import bfv\n",
        "import random\n",
        "import copy\n",
        "bfv=importlib.reload(bfv)"
      ]
    },
    {
      "cell_type": "markdown",
      "metadata": {},
      "source": [
        "Initialize BFV Parameters"
      ]
    },
    {
      "cell_type": "code",
      "execution_count": null,
      "metadata": {},
      "outputs": [
        {
          "name": "stdout",
          "output_type": "stream",
          "text": [
            "Initialised\n",
            "Eval Key:0/75 Done\n",
            "Eval Key:1/75 Done\n",
            "Eval Key:2/75 Done\n",
            "Eval Key:3/75 Done\n",
            "Eval Key:4/75 Done\n",
            "Eval Key:5/75 Done\n",
            "Eval Key:6/75 Done\n",
            "Eval Key:7/75 Done\n",
            "Eval Key:8/75 Done\n",
            "Eval Key:9/75 Done\n",
            "Eval Key:10/75 Done\n",
            "Eval Key:11/75 Done\n",
            "Eval Key:12/75 Done\n",
            "Eval Key:13/75 Done\n",
            "Eval Key:14/75 Done\n",
            "Eval Key:15/75 Done\n",
            "Eval Key:16/75 Done\n",
            "Eval Key:17/75 Done\n",
            "Eval Key:18/75 Done\n",
            "Eval Key:19/75 Done\n",
            "Eval Key:20/75 Done\n",
            "Eval Key:21/75 Done\n",
            "Eval Key:22/75 Done\n",
            "Eval Key:23/75 Done\n",
            "Eval Key:24/75 Done\n",
            "Eval Key:25/75 Done\n",
            "Eval Key:26/75 Done\n",
            "Eval Key:27/75 Done\n",
            "Eval Key:28/75 Done\n",
            "Eval Key:29/75 Done\n",
            "Eval Key:30/75 Done\n",
            "Eval Key:31/75 Done\n",
            "Eval Key:32/75 Done\n",
            "Eval Key:33/75 Done\n",
            "Eval Key:34/75 Done\n",
            "Eval Key:35/75 Done\n",
            "Eval Key:36/75 Done\n",
            "Eval Key:37/75 Done\n",
            "Eval Key:38/75 Done\n",
            "Eval Key:39/75 Done\n",
            "Eval Key:40/75 Done\n",
            "Eval Key:41/75 Done\n",
            "Eval Key:42/75 Done\n",
            "Eval Key:43/75 Done\n",
            "Eval Key:44/75 Done\n",
            "Eval Key:45/75 Done\n",
            "Eval Key:46/75 Done\n",
            "Eval Key:47/75 Done\n",
            "Eval Key:48/75 Done\n",
            "Eval Key:49/75 Done\n",
            "Eval Key:50/75 Done\n",
            "Eval Key:51/75 Done\n",
            "Eval Key:52/75 Done\n",
            "Eval Key:53/75 Done\n",
            "Eval Key:54/75 Done\n",
            "Eval Key:55/75 Done\n",
            "Eval Key:56/75 Done\n",
            "Eval Key:57/75 Done\n",
            "Eval Key:58/75 Done\n",
            "Eval Key:59/75 Done\n",
            "Eval Key:60/75 Done\n",
            "Eval Key:61/75 Done\n",
            "Eval Key:62/75 Done\n",
            "Eval Key:63/75 Done\n",
            "Eval Key:64/75 Done\n",
            "Eval Key:65/75 Done\n",
            "Eval Key:66/75 Done\n",
            "Eval Key:67/75 Done\n",
            "Eval Key:68/75 Done\n",
            "Eval Key:69/75 Done\n",
            "Eval Key:70/75 Done\n",
            "Eval Key:71/75 Done\n",
            "Eval Key:72/75 Done\n",
            "Eval Key:73/75 Done\n",
            "Eval Key:74/75 Done\n",
            "Eval Key:75/75 Done\n"
          ]
        }
      ],
      "source": [
        "\n",
        "params = bfv.Params(4, 2, 2**27, 2**75)\n",
        "fv12= bfv.FV12(params)\n",
        "public_key,private_key=fv12.generate_keys()\n"
      ]
    },
    {
      "cell_type": "code",
      "execution_count": 13,
      "metadata": {},
      "outputs": [
        {
          "name": "stdout",
          "output_type": "stream",
          "text": [
            "Unencrypted:\n",
            "a^2=9\n",
            "Encrypted:\n",
            "a^2=20\n",
            "Unencrypted:\n",
            "a^2=4\n",
            "Encrypted:\n",
            "a^2=12\n",
            "Unencrypted:\n",
            "a^2=9\n",
            "Encrypted:\n",
            "a^2=6\n",
            "Unencrypted:\n",
            "a^2=64\n",
            "Encrypted:\n",
            "a^2=76\n",
            "Unencrypted:\n",
            "a^2=1\n",
            "Encrypted:\n",
            "a^2=5\n",
            "Unencrypted:\n",
            "a^2=0\n",
            "Encrypted:\n"
          ]
        },
        {
          "ename": "KeyboardInterrupt",
          "evalue": "",
          "output_type": "error",
          "traceback": [
            "\u001b[1;31m---------------------------------------------------------------------------\u001b[0m",
            "\u001b[1;31mKeyboardInterrupt\u001b[0m                         Traceback (most recent call last)",
            "\u001b[1;32mc:\\Users\\delwy\\OneDrive\\Desktop\\fhe\\FHE.0\\SHE_Logistic_Regression.ipynb Cell 5\u001b[0m line \u001b[0;36m1\n\u001b[0;32m      <a href='vscode-notebook-cell:/c%3A/Users/delwy/OneDrive/Desktop/fhe/FHE.0/SHE_Logistic_Regression.ipynb#X35sZmlsZQ%3D%3D?line=6'>7</a>\u001b[0m a_encrypted\u001b[39m=\u001b[39mpublic_key\u001b[39m.\u001b[39mencrypt(a)\n\u001b[0;32m      <a href='vscode-notebook-cell:/c%3A/Users/delwy/OneDrive/Desktop/fhe/FHE.0/SHE_Logistic_Regression.ipynb#X35sZmlsZQ%3D%3D?line=8'>9</a>\u001b[0m \u001b[39mprint\u001b[39m(\u001b[39m'\u001b[39m\u001b[39mEncrypted:\u001b[39m\u001b[39m'\u001b[39m)\n\u001b[1;32m---> <a href='vscode-notebook-cell:/c%3A/Users/delwy/OneDrive/Desktop/fhe/FHE.0/SHE_Logistic_Regression.ipynb#X35sZmlsZQ%3D%3D?line=9'>10</a>\u001b[0m \u001b[39mprint\u001b[39m(\u001b[39m'\u001b[39m\u001b[39ma^2=\u001b[39m\u001b[39m'\u001b[39m\u001b[39m+\u001b[39m\u001b[39mstr\u001b[39m(private_key\u001b[39m.\u001b[39mdecrypt(a_encrypted\u001b[39m*\u001b[39;49m\u001b[39m*\u001b[39;49m\u001b[39m2\u001b[39;49m)))\n",
            "File \u001b[1;32mc:\\Users\\delwy\\OneDrive\\Desktop\\fhe\\FHE.0\\bfv.py:282\u001b[0m, in \u001b[0;36mCipherText.__pow__\u001b[1;34m(self, other)\u001b[0m\n\u001b[0;32m    280\u001b[0m \u001b[39mdef\u001b[39;00m \u001b[39m__pow__\u001b[39m(\u001b[39mself\u001b[39m, other):\n\u001b[0;32m    281\u001b[0m     \u001b[39mif\u001b[39;00m (\u001b[39misinstance\u001b[39m(other, \u001b[39mint\u001b[39m)):\n\u001b[1;32m--> 282\u001b[0m         \u001b[39mreturn\u001b[39;00m \u001b[39mself\u001b[39;49m\u001b[39m.\u001b[39;49m__plain_power(other)\n\u001b[0;32m    283\u001b[0m     \u001b[39melse\u001b[39;00m:\n\u001b[0;32m    284\u001b[0m         \u001b[39mraise\u001b[39;00m \u001b[39mException\u001b[39;00m(\u001b[39m\"\u001b[39m\u001b[39mYou can only power ciphertext with plaintext\u001b[39m\u001b[39m\"\u001b[39m)\n",
            "File \u001b[1;32mc:\\Users\\delwy\\OneDrive\\Desktop\\fhe\\FHE.0\\bfv.py:232\u001b[0m, in \u001b[0;36mCipherText.__plain_power\u001b[1;34m(self, pt)\u001b[0m\n\u001b[0;32m    230\u001b[0m res \u001b[39m=\u001b[39m \u001b[39mself\u001b[39m\n\u001b[0;32m    231\u001b[0m \u001b[39mfor\u001b[39;00m i \u001b[39min\u001b[39;00m \u001b[39mrange\u001b[39m(pt\u001b[39m-\u001b[39m\u001b[39m1\u001b[39m):\n\u001b[1;32m--> 232\u001b[0m     res \u001b[39m=\u001b[39m res\u001b[39m*\u001b[39;49m\u001b[39mself\u001b[39;49m\n\u001b[0;32m    233\u001b[0m \u001b[39mreturn\u001b[39;00m res\n",
            "File \u001b[1;32mc:\\Users\\delwy\\OneDrive\\Desktop\\fhe\\FHE.0\\bfv.py:267\u001b[0m, in \u001b[0;36mCipherText.__mul__\u001b[1;34m(self, other)\u001b[0m\n\u001b[0;32m    264\u001b[0m         \u001b[39mraise\u001b[39;00m \u001b[39mException\u001b[39;00m(\n\u001b[0;32m    265\u001b[0m             \u001b[39m\"\u001b[39m\u001b[39mYou can only multiply ciphertexts encrypted by same key!!\u001b[39m\u001b[39m\"\u001b[39m)\n\u001b[0;32m    266\u001b[0m     \u001b[39melse\u001b[39;00m:\n\u001b[1;32m--> 267\u001b[0m         \u001b[39mreturn\u001b[39;00m \u001b[39mself\u001b[39;49m\u001b[39m.\u001b[39;49m__parallel_cipher_multiply(other)\n\u001b[0;32m    268\u001b[0m \u001b[39melse\u001b[39;00m:\n\u001b[0;32m    269\u001b[0m     \u001b[39mraise\u001b[39;00m \u001b[39mException\u001b[39;00m(\u001b[39m\"\u001b[39m\u001b[39mUnkown Type!!\u001b[39m\u001b[39m\"\u001b[39m)\n",
            "File \u001b[1;32mc:\\Users\\delwy\\OneDrive\\Desktop\\fhe\\FHE.0\\bfv.py:188\u001b[0m, in \u001b[0;36mCipherText.__parallel_cipher_multiply\u001b[1;34m(self, ciphertext)\u001b[0m\n\u001b[0;32m    185\u001b[0m temp \u001b[39m=\u001b[39m Parallel(n_jobs\u001b[39m=\u001b[39mnum_chunks)(\n\u001b[0;32m    186\u001b[0m     delayed(\u001b[39mself\u001b[39m\u001b[39m.\u001b[39mmul_sum_polynomials)(\u001b[39mself\u001b[39m\u001b[39m.\u001b[39mrlks, \u001b[39m0\u001b[39m, decomposed_res2, start, \u001b[39mmin\u001b[39m(d\u001b[39m+\u001b[39m\u001b[39m1\u001b[39m, start\u001b[39m+\u001b[39mchunk_size)) \u001b[39mfor\u001b[39;00m start \u001b[39min\u001b[39;00m \u001b[39mrange\u001b[39m(\u001b[39m0\u001b[39m, d\u001b[39m+\u001b[39m\u001b[39m1\u001b[39m, chunk_size))\n\u001b[0;32m    187\u001b[0m temp \u001b[39m=\u001b[39m \u001b[39msum\u001b[39m(temp)\n\u001b[1;32m--> 188\u001b[0m res_0 \u001b[39m=\u001b[39m utils\u001b[39m.\u001b[39;49mmod(\n\u001b[0;32m    189\u001b[0m     res0 \u001b[39m+\u001b[39;49m temp, \u001b[39mself\u001b[39;49m\u001b[39m.\u001b[39;49mparams\u001b[39m.\u001b[39;49mQ, \u001b[39mself\u001b[39;49m\u001b[39m.\u001b[39;49mparams\u001b[39m.\u001b[39;49mPOLY_MOD)\n\u001b[0;32m    190\u001b[0m temp \u001b[39m=\u001b[39m Parallel(n_jobs\u001b[39m=\u001b[39mnum_chunks)(\n\u001b[0;32m    191\u001b[0m     delayed(\u001b[39mself\u001b[39m\u001b[39m.\u001b[39mmul_sum_polynomials)(\u001b[39mself\u001b[39m\u001b[39m.\u001b[39mrlks, \u001b[39m1\u001b[39m, decomposed_res2, start, \u001b[39mmin\u001b[39m(d\u001b[39m+\u001b[39m\u001b[39m1\u001b[39m, start\u001b[39m+\u001b[39mchunk_size)) \u001b[39mfor\u001b[39;00m start \u001b[39min\u001b[39;00m \u001b[39mrange\u001b[39m(\u001b[39m0\u001b[39m, d\u001b[39m+\u001b[39m\u001b[39m1\u001b[39m, chunk_size))\n\u001b[0;32m    192\u001b[0m temp \u001b[39m=\u001b[39m \u001b[39msum\u001b[39m(temp)\n",
            "File \u001b[1;32mc:\\Users\\delwy\\OneDrive\\Desktop\\fhe\\FHE.0\\utils.py:49\u001b[0m, in \u001b[0;36mmod\u001b[1;34m(polynomial, modulus, poly_mod)\u001b[0m\n\u001b[0;32m     48\u001b[0m \u001b[39mdef\u001b[39;00m \u001b[39mmod\u001b[39m(polynomial, modulus, poly_mod):\n\u001b[1;32m---> 49\u001b[0m     remainder \u001b[39m=\u001b[39m (polynomial \u001b[39m%\u001b[39;49m poly_mod)\n\u001b[0;32m     50\u001b[0m     \u001b[39mreturn\u001b[39;00m remainder \u001b[39m%\u001b[39m modulus\n",
            "File \u001b[1;32mc:\\Users\\delwy\\OneDrive\\Desktop\\fhe\\FHE.0\\poly.py:84\u001b[0m, in \u001b[0;36mPolynomial.__mod__\u001b[1;34m(self, other)\u001b[0m\n\u001b[0;32m     82\u001b[0m \u001b[39mdel\u001b[39;00m \u001b[39mself\u001b[39m\u001b[39m.\u001b[39mpoly[\u001b[39mself\u001b[39m\u001b[39m.\u001b[39mdegree]\n\u001b[0;32m     83\u001b[0m i \u001b[39m=\u001b[39m \u001b[39mself\u001b[39m\u001b[39m.\u001b[39mdegree\u001b[39m-\u001b[39m\u001b[39m1\u001b[39m\n\u001b[1;32m---> 84\u001b[0m \u001b[39mwhile\u001b[39;00m i \u001b[39mnot\u001b[39;49;00m \u001b[39min\u001b[39;49;00m \u001b[39mself\u001b[39;49m\u001b[39m.\u001b[39;49mpoly:\n\u001b[0;32m     85\u001b[0m     i \u001b[39m-\u001b[39m\u001b[39m=\u001b[39m \u001b[39m1\u001b[39m\n\u001b[0;32m     86\u001b[0m \u001b[39mself\u001b[39m\u001b[39m.\u001b[39mdegree \u001b[39m=\u001b[39m i\n",
            "\u001b[1;31mKeyboardInterrupt\u001b[0m: "
          ]
        }
      ],
      "source": [
        "for i in range(10):\n",
        "    \n",
        "    a=random.randrange(-10,10)\n",
        "   \n",
        "    print('Unencrypted:')\n",
        "    print('a^2='+str(a**2))\n",
        "    a_encrypted=public_key.encrypt(a)\n",
        "   \n",
        "    print('Encrypted:')\n",
        "    print('a^2='+str(private_key.decrypt(a_encrypted**2)))"
      ]
    },
    {
      "cell_type": "code",
      "execution_count": 15,
      "metadata": {},
      "outputs": [
        {
          "name": "stdout",
          "output_type": "stream",
          "text": [
            "9904\n"
          ]
        }
      ],
      "source": [
        "a=public_key.encrypt(100)\n",
        "print(private_key.decrypt((a**2)-a))"
      ]
    },
    {
      "cell_type": "markdown",
      "metadata": {},
      "source": [
        "Scale Input Values Based on Plaintext modulus and read Dataset "
      ]
    },
    {
      "cell_type": "code",
      "execution_count": 16,
      "metadata": {
        "id": "moQ07oZ8XhLK"
      },
      "outputs": [],
      "source": [
        "def read_dataset(url,col,scale):\n",
        "  df=pd.read_csv(url)\n",
        "  df.drop(\"Unnamed: 32\", axis=1, inplace=True)\n",
        "  X = df.iloc[:, col+1:]\n",
        "  col_name=df.columns[col]\n",
        "  y = df[col_name]\n",
        "  for i in range (0,len(df)):\n",
        "    if y[i]=='M':\n",
        "      y[i]=1\n",
        "    else:\n",
        "      y[i]=0\n",
        "  X_train, X_test, y_train, y_test = train_test_split(\n",
        "  X,y , random_state=104,test_size=0.25, shuffle=True)\n",
        "  X_train=np.asarray(X_train).astype('float32')\n",
        "  X_test=np.asarray(X_test).astype('float32')\n",
        "  y_train=np.asarray(y_train).astype('float32')\n",
        "  y_test=np.asarray(y_test).astype('float32')\n",
        "  scaler = MinMaxScaler(feature_range=(0, scale))\n",
        "  X_train = scaler.fit_transform(X_train)\n",
        "  X_test = scaler.transform(X_test)\n",
        "  print(X_test.shape)\n",
        "  return X_train, X_test, y_train, y_test\n"
      ]
    },
    {
      "cell_type": "code",
      "execution_count": 17,
      "metadata": {
        "colab": {
          "base_uri": "https://localhost:8080/"
        },
        "id": "qkptBY6mZN9v",
        "outputId": "f15404f2-5f80-48c0-cb10-d239619acaf3"
      },
      "outputs": [
        {
          "name": "stdout",
          "output_type": "stream",
          "text": [
            "(143, 30)\n"
          ]
        },
        {
          "name": "stderr",
          "output_type": "stream",
          "text": [
            "C:\\Users\\delwy\\AppData\\Local\\Temp\\ipykernel_7996\\3440237989.py:9: SettingWithCopyWarning: \n",
            "A value is trying to be set on a copy of a slice from a DataFrame\n",
            "\n",
            "See the caveats in the documentation: https://pandas.pydata.org/pandas-docs/stable/user_guide/indexing.html#returning-a-view-versus-a-copy\n",
            "  y[i]=1\n",
            "C:\\Users\\delwy\\AppData\\Local\\Temp\\ipykernel_7996\\3440237989.py:11: SettingWithCopyWarning: \n",
            "A value is trying to be set on a copy of a slice from a DataFrame\n",
            "\n",
            "See the caveats in the documentation: https://pandas.pydata.org/pandas-docs/stable/user_guide/indexing.html#returning-a-view-versus-a-copy\n",
            "  y[i]=0\n"
          ]
        }
      ],
      "source": [
        "X_train, X_test, y_train, y_test = read_dataset('./dataset/data.csv',1,100)"
      ]
    },
    {
      "cell_type": "markdown",
      "metadata": {},
      "source": [
        "Train Model"
      ]
    },
    {
      "cell_type": "code",
      "execution_count": 18,
      "metadata": {
        "colab": {
          "base_uri": "https://localhost:8080/"
        },
        "id": "GECyRUvVpxp5",
        "outputId": "97517684-3103-4ba6-94a8-3dd48fe10c96"
      },
      "outputs": [
        {
          "name": "stdout",
          "output_type": "stream",
          "text": [
            "Epoch 1/70\n",
            "27/27 [==============================] - 2s 3ms/step - loss: 28.9867 - accuracy: 0.2629\n",
            "Epoch 2/70\n",
            "27/27 [==============================] - 0s 2ms/step - loss: 22.5084 - accuracy: 0.2418\n",
            "Epoch 3/70\n",
            "27/27 [==============================] - 0s 2ms/step - loss: 18.3252 - accuracy: 0.2606\n",
            "Epoch 4/70\n",
            "27/27 [==============================] - 0s 2ms/step - loss: 14.3705 - accuracy: 0.2887\n",
            "Epoch 5/70\n",
            "27/27 [==============================] - 0s 2ms/step - loss: 10.9842 - accuracy: 0.3263\n",
            "Epoch 6/70\n",
            "27/27 [==============================] - 0s 2ms/step - loss: 7.6610 - accuracy: 0.3967\n",
            "Epoch 7/70\n",
            "27/27 [==============================] - 0s 2ms/step - loss: 4.9879 - accuracy: 0.4883\n",
            "Epoch 8/70\n",
            "27/27 [==============================] - 0s 2ms/step - loss: 3.0726 - accuracy: 0.5775\n",
            "Epoch 9/70\n",
            "27/27 [==============================] - 0s 3ms/step - loss: 1.9257 - accuracy: 0.6854\n",
            "Epoch 10/70\n",
            "27/27 [==============================] - 0s 3ms/step - loss: 1.3299 - accuracy: 0.7700\n",
            "Epoch 11/70\n",
            "27/27 [==============================] - 0s 4ms/step - loss: 1.0260 - accuracy: 0.8146\n",
            "Epoch 12/70\n",
            "27/27 [==============================] - 0s 2ms/step - loss: 0.8937 - accuracy: 0.8286\n",
            "Epoch 13/70\n",
            "27/27 [==============================] - 0s 2ms/step - loss: 0.7515 - accuracy: 0.8451\n",
            "Epoch 14/70\n",
            "27/27 [==============================] - 0s 3ms/step - loss: 0.6763 - accuracy: 0.8592\n",
            "Epoch 15/70\n",
            "27/27 [==============================] - 0s 2ms/step - loss: 0.6438 - accuracy: 0.8521\n",
            "Epoch 16/70\n",
            "27/27 [==============================] - 0s 2ms/step - loss: 0.5724 - accuracy: 0.8756\n",
            "Epoch 17/70\n",
            "27/27 [==============================] - 0s 4ms/step - loss: 0.5273 - accuracy: 0.8803\n",
            "Epoch 18/70\n",
            "27/27 [==============================] - 0s 2ms/step - loss: 0.5033 - accuracy: 0.8732\n",
            "Epoch 19/70\n",
            "27/27 [==============================] - 0s 2ms/step - loss: 0.4597 - accuracy: 0.8850\n",
            "Epoch 20/70\n",
            "27/27 [==============================] - 0s 2ms/step - loss: 0.4509 - accuracy: 0.8920\n",
            "Epoch 21/70\n",
            "27/27 [==============================] - 0s 4ms/step - loss: 0.4330 - accuracy: 0.8920\n",
            "Epoch 22/70\n",
            "27/27 [==============================] - 0s 4ms/step - loss: 0.4392 - accuracy: 0.8944\n",
            "Epoch 23/70\n",
            "27/27 [==============================] - 0s 3ms/step - loss: 0.4186 - accuracy: 0.8944\n",
            "Epoch 24/70\n",
            "27/27 [==============================] - 0s 4ms/step - loss: 0.4105 - accuracy: 0.9014\n",
            "Epoch 25/70\n",
            "27/27 [==============================] - 0s 4ms/step - loss: 0.3947 - accuracy: 0.8967\n",
            "Epoch 26/70\n",
            "27/27 [==============================] - 0s 4ms/step - loss: 0.3784 - accuracy: 0.9014\n",
            "Epoch 27/70\n",
            "27/27 [==============================] - 0s 3ms/step - loss: 0.3773 - accuracy: 0.9061\n",
            "Epoch 28/70\n",
            "27/27 [==============================] - 0s 1ms/step - loss: 0.3608 - accuracy: 0.8920\n",
            "Epoch 29/70\n",
            "27/27 [==============================] - 0s 1ms/step - loss: 0.3650 - accuracy: 0.8967\n",
            "Epoch 30/70\n",
            "27/27 [==============================] - 0s 2ms/step - loss: 0.3626 - accuracy: 0.9131\n",
            "Epoch 31/70\n",
            "27/27 [==============================] - 0s 2ms/step - loss: 0.3489 - accuracy: 0.9038\n",
            "Epoch 32/70\n",
            "27/27 [==============================] - 0s 2ms/step - loss: 0.3382 - accuracy: 0.9131\n",
            "Epoch 33/70\n",
            "27/27 [==============================] - 0s 2ms/step - loss: 0.3425 - accuracy: 0.9014\n",
            "Epoch 34/70\n",
            "27/27 [==============================] - 0s 2ms/step - loss: 0.3370 - accuracy: 0.9038\n",
            "Epoch 35/70\n",
            "27/27 [==============================] - 0s 3ms/step - loss: 0.3186 - accuracy: 0.9131\n",
            "Epoch 36/70\n",
            "27/27 [==============================] - 0s 3ms/step - loss: 0.3220 - accuracy: 0.9038\n",
            "Epoch 37/70\n",
            "27/27 [==============================] - 0s 2ms/step - loss: 0.3150 - accuracy: 0.9249\n",
            "Epoch 38/70\n",
            "27/27 [==============================] - 0s 3ms/step - loss: 0.3206 - accuracy: 0.9108\n",
            "Epoch 39/70\n",
            "27/27 [==============================] - 0s 2ms/step - loss: 0.3074 - accuracy: 0.9085\n",
            "Epoch 40/70\n",
            "27/27 [==============================] - 0s 2ms/step - loss: 0.3032 - accuracy: 0.9225\n",
            "Epoch 41/70\n",
            "27/27 [==============================] - 0s 4ms/step - loss: 0.2923 - accuracy: 0.9014\n",
            "Epoch 42/70\n",
            "27/27 [==============================] - 0s 2ms/step - loss: 0.2947 - accuracy: 0.9319\n",
            "Epoch 43/70\n",
            "27/27 [==============================] - 0s 2ms/step - loss: 0.2918 - accuracy: 0.9131\n",
            "Epoch 44/70\n",
            "27/27 [==============================] - 0s 2ms/step - loss: 0.2896 - accuracy: 0.9272\n",
            "Epoch 45/70\n",
            "27/27 [==============================] - 0s 2ms/step - loss: 0.2824 - accuracy: 0.9225\n",
            "Epoch 46/70\n",
            "27/27 [==============================] - 0s 2ms/step - loss: 0.2866 - accuracy: 0.9249\n",
            "Epoch 47/70\n",
            "27/27 [==============================] - 0s 3ms/step - loss: 0.2851 - accuracy: 0.9249\n",
            "Epoch 48/70\n",
            "27/27 [==============================] - 0s 3ms/step - loss: 0.2671 - accuracy: 0.9225\n",
            "Epoch 49/70\n",
            "27/27 [==============================] - 0s 3ms/step - loss: 0.2698 - accuracy: 0.9296\n",
            "Epoch 50/70\n",
            "27/27 [==============================] - 0s 4ms/step - loss: 0.2649 - accuracy: 0.9296\n",
            "Epoch 51/70\n",
            "27/27 [==============================] - 0s 4ms/step - loss: 0.2672 - accuracy: 0.9413\n",
            "Epoch 52/70\n",
            "27/27 [==============================] - 0s 3ms/step - loss: 0.2682 - accuracy: 0.9249\n",
            "Epoch 53/70\n",
            "27/27 [==============================] - 0s 4ms/step - loss: 0.2507 - accuracy: 0.9249\n",
            "Epoch 54/70\n",
            "27/27 [==============================] - 0s 4ms/step - loss: 0.2474 - accuracy: 0.9413\n",
            "Epoch 55/70\n",
            "27/27 [==============================] - 0s 3ms/step - loss: 0.2489 - accuracy: 0.9319\n",
            "Epoch 56/70\n",
            "27/27 [==============================] - 0s 3ms/step - loss: 0.2468 - accuracy: 0.9343\n",
            "Epoch 57/70\n",
            "27/27 [==============================] - 0s 4ms/step - loss: 0.2465 - accuracy: 0.9366\n",
            "Epoch 58/70\n",
            "27/27 [==============================] - 0s 3ms/step - loss: 0.2465 - accuracy: 0.9343\n",
            "Epoch 59/70\n",
            "27/27 [==============================] - 0s 3ms/step - loss: 0.2417 - accuracy: 0.9343\n",
            "Epoch 60/70\n",
            "27/27 [==============================] - 0s 4ms/step - loss: 0.2715 - accuracy: 0.9413\n",
            "Epoch 61/70\n",
            "27/27 [==============================] - 0s 4ms/step - loss: 0.2358 - accuracy: 0.9343\n",
            "Epoch 62/70\n",
            "27/27 [==============================] - 0s 4ms/step - loss: 0.2526 - accuracy: 0.9343\n",
            "Epoch 63/70\n",
            "27/27 [==============================] - 0s 3ms/step - loss: 0.2432 - accuracy: 0.9366\n",
            "Epoch 64/70\n",
            "27/27 [==============================] - 0s 4ms/step - loss: 0.2386 - accuracy: 0.9390\n",
            "Epoch 65/70\n",
            "27/27 [==============================] - 0s 1ms/step - loss: 0.2256 - accuracy: 0.9390\n",
            "Epoch 66/70\n",
            "27/27 [==============================] - 0s 2ms/step - loss: 0.2238 - accuracy: 0.9413\n",
            "Epoch 67/70\n",
            "27/27 [==============================] - 0s 2ms/step - loss: 0.2409 - accuracy: 0.9413\n",
            "Epoch 68/70\n",
            "27/27 [==============================] - 0s 3ms/step - loss: 0.2228 - accuracy: 0.9366\n",
            "Epoch 69/70\n",
            "27/27 [==============================] - 0s 3ms/step - loss: 0.2147 - accuracy: 0.9413\n",
            "Epoch 70/70\n",
            "27/27 [==============================] - 0s 3ms/step - loss: 0.2209 - accuracy: 0.9390\n",
            "Test Accuracy: 93.71%\n"
          ]
        }
      ],
      "source": [
        "def custom_relu(x):\n",
        "    return x +x*x\n",
        "model = tf.keras.Sequential([\n",
        "    tf.keras.layers.Input(shape=(30,)),\n",
        "    tf.keras.layers.Dense(2),\n",
        "    # tf.keras.layers.Activation(custom_relu),\n",
        "    tf.keras.layers.Dense(1,activation='sigmoid'),\n",
        "])\n",
        "model.compile(optimizer='adam', loss='binary_crossentropy', metrics=['accuracy'])\n",
        "model.fit(X_train, y_train, epochs=70, batch_size=16)\n",
        "loss, accuracy = model.evaluate(X_test, y_test, verbose=0)\n",
        "print(f\"Test Accuracy: {accuracy*100:.2f}%\")"
      ]
    },
    {
      "cell_type": "code",
      "execution_count": 19,
      "metadata": {},
      "outputs": [
        {
          "name": "stdout",
          "output_type": "stream",
          "text": [
            "Model: \"sequential\"\n",
            "_________________________________________________________________\n",
            " Layer (type)                Output Shape              Param #   \n",
            "=================================================================\n",
            " dense (Dense)               (None, 2)                 62        \n",
            "                                                                 \n",
            " dense_1 (Dense)             (None, 1)                 3         \n",
            "                                                                 \n",
            "=================================================================\n",
            "Total params: 65\n",
            "Trainable params: 65\n",
            "Non-trainable params: 0\n",
            "_________________________________________________________________\n",
            "None\n"
          ]
        }
      ],
      "source": [
        "print(model.summary())"
      ]
    },
    {
      "cell_type": "markdown",
      "metadata": {},
      "source": [
        "Save Quantised Model Weights"
      ]
    },
    {
      "cell_type": "code",
      "execution_count": 20,
      "metadata": {
        "id": "C53x244N-l9V"
      },
      "outputs": [],
      "source": [
        "def create_model_weights_file(model,scale):\n",
        "  i=0\n",
        "  for layer in model.layers:\n",
        "    if('activation' in layer.name):\n",
        "      continue\n",
        "    w = (layer.get_weights()[0]).T\n",
        "    \n",
        "    b = (layer.get_weights()[1]).T\n",
        "    w=np.round_(w*scale).astype(int)\n",
        "    b=np.round_(b*scale).astype(int)\n",
        "    file_name = 'layer'+str(i)+'.npy'\n",
        "    with open(file_name, 'wb') as f:\n",
        "        np.save(f, w)\n",
        "        np.save(f, b)\n",
        "    i=i+1\n"
      ]
    },
    {
      "cell_type": "code",
      "execution_count": 21,
      "metadata": {
        "id": "HmVrDk8A-mFD"
      },
      "outputs": [],
      "source": [
        "create_model_weights_file(model,100)"
      ]
    },
    {
      "cell_type": "markdown",
      "metadata": {},
      "source": [
        "Custom class for inference on encrypted data\n"
      ]
    },
    {
      "cell_type": "code",
      "execution_count": 22,
      "metadata": {},
      "outputs": [],
      "source": [
        "class Model:\n",
        "    def __init__(self,n_features,n_layers,n_layer_neurons,layer_activations,layer_weight_files):\n",
        "        self.n_features=n_features\n",
        "        self.n_layers=n_layers\n",
        "        self.n_layer_neurons=n_layer_neurons\n",
        "        self.layer_activations=layer_activations\n",
        "        self.weights=[]\n",
        "        self.biases=[]\n",
        "        for wt_file in layer_weight_files:\n",
        "            with open(wt_file, 'rb') as f:\n",
        "              self.weights.append(np.load(f).tolist())\n",
        "              self.biases.append(np.load(f).tolist())\n",
        "    def __matmul(self,a,b):\n",
        "        ## Input: a to be 2-D (n_layer_neurons[layer_no],n_features)and b to be 1-D list\n",
        "        # Output : a 1-D list \n",
        "        output=[]\n",
        "        for i in range(len(a)):\n",
        "            res=0\n",
        "            for j in range(len(b)):\n",
        "                res=a[i][j]*b[j]+res\n",
        "            output.append(res)\n",
        "        return output\n",
        "    \n",
        "    def __matadd(self,a,b):\n",
        "        ## Input: a and b to be 1-D list\n",
        "        # Output : a 1-D list \n",
        "        ## For memory saving b is modified in calculations so be careful about order of inputs\n",
        "        \n",
        "        for i in range(len(a)):\n",
        "            b[i]=b[i]+a[i]\n",
        "        return b  \n",
        "    \n",
        "    def infer(self,x,encrypted=True):\n",
        "        for i in range(self.n_layers):\n",
        "            \n",
        "            new_x=self.__matmul(self.weights[i],x)\n",
        "            new_x=self.__matadd(self.biases[i],new_x)\n",
        "            \n",
        "            if(self.layer_activations[i]=='relu'):\n",
        "               \n",
        "                x=[t**2+t for t in new_x]\n",
        "                # if(encrypted==True):\n",
        "                #     temp=copy.deepcopy(new_x)\n",
        "                #     for t in temp:\n",
        "                #         print(private_key.decrypt(t))\n",
        "                #     temp=copy.deepcopy(x)\n",
        "                #     for t in temp:\n",
        "                #         print(private_key.decrypt(t))\n",
        "                if(encrypted==True):\n",
        "                    x=[t**2+t for t in new_x]\n",
        "                # else:\n",
        "                #     x=[max(0,t) for t in new_x]\n",
        "            else:  \n",
        "                x=new_x  \n",
        "        return x[0]      \n",
        "       \n",
        "            \n",
        "        \n",
        "        \n",
        "        \n",
        "        "
      ]
    },
    {
      "cell_type": "code",
      "execution_count": 23,
      "metadata": {},
      "outputs": [],
      "source": [
        "model=Model(30,2,[2,1],['none','none'],['layer0.npy','layer1.npy'])"
      ]
    },
    {
      "cell_type": "markdown",
      "metadata": {},
      "source": [
        "Test out accuracy on Encrypted and Unencrypted test data"
      ]
    },
    {
      "cell_type": "code",
      "execution_count": 24,
      "metadata": {},
      "outputs": [
        {
          "name": "stdout",
          "output_type": "stream",
          "text": [
            "Accuracy on unencrypted Test Data:0.9300699300699301\n",
            "Accuracy on encrypted test data:0.9300699300699301\n"
          ]
        }
      ],
      "source": [
        "normal_acc=0\n",
        "encrypted_acc=0\n",
        "limit=len(X_test)\n",
        "for i in range(limit):\n",
        "    x=X_test[i].tolist()\n",
        "    x_encrypted=[public_key.encrypt(t) for t in x]\n",
        "    normal_res=model.infer(x,False)\n",
        "    encrypted_res=private_key.decrypt(model.infer(x_encrypted))\n",
        "    #print('Unencryted Inference:'+str(normal_res)+\" Encrypted Inference:\"+str(encrypted_res))\n",
        "    if (normal_res>0 and y_test[i]==1) or (normal_res<=0 and y_test[i]==0):\n",
        "        normal_acc+=1\n",
        "    if (encrypted_res>0 and y_test[i]==1) or (encrypted_res<=0 and y_test[i]==0):\n",
        "        encrypted_acc+=1\n",
        "print('Accuracy on unencrypted Test Data:'+str(normal_acc/limit))\n",
        "print('Accuracy on encrypted test data:'+str(encrypted_acc/limit))\n",
        "  "
      ]
    }
  ],
  "metadata": {
    "accelerator": "GPU",
    "colab": {
      "gpuType": "T4",
      "include_colab_link": true,
      "provenance": []
    },
    "kernelspec": {
      "display_name": "Python 3",
      "name": "python3"
    },
    "language_info": {
      "codemirror_mode": {
        "name": "ipython",
        "version": 3
      },
      "file_extension": ".py",
      "mimetype": "text/x-python",
      "name": "python",
      "nbconvert_exporter": "python",
      "pygments_lexer": "ipython3",
      "version": "3.10.9"
    }
  },
  "nbformat": 4,
  "nbformat_minor": 0
}
