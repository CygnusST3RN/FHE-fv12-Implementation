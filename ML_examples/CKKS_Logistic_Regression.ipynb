{
 "cells": [
  {
   "cell_type": "code",
   "execution_count": 1,
   "metadata": {},
   "outputs": [],
   "source": [
    "import pandas as pd\n",
    "import numpy as np\n",
    "import tensorflow as tf\n",
    "from sklearn.model_selection import train_test_split\n",
    "from sklearn.preprocessing import StandardScaler,MinMaxScaler\n",
    "from CKKS_Scheme.ckks_encoder import CKKSEncoder\n",
    "from CKKS_Scheme.ckks import Params,CKKS\n",
    "from utils.plaintext import Plaintext\n",
    "from utils.poly import Polynomial\n"
   ]
  },
  {
   "cell_type": "code",
   "execution_count": 2,
   "metadata": {},
   "outputs": [],
   "source": [
    "\n",
    "params = Params(8,  1<<600,1<<1200)\n",
    "ckks= CKKS(params)\n",
    "public_key,private_key=ckks.generate_keys()\n"
   ]
  },
  {
   "cell_type": "code",
   "execution_count": 3,
   "metadata": {},
   "outputs": [],
   "source": [
    "def read_dataset(url,col):\n",
    "  df=pd.read_csv(url)\n",
    "  df.drop(\"Unnamed: 32\", axis=1, inplace=True)\n",
    "  X = df.iloc[:, col+1:]\n",
    "  col_name=df.columns[col]\n",
    "  y = df[col_name]\n",
    "  for i in range (0,len(df)):\n",
    "    if y[i]=='M':\n",
    "      y[i]=1\n",
    "    else:\n",
    "      y[i]=0\n",
    "  X_train, X_test, y_train, y_test = train_test_split(\n",
    "  X,y , random_state=104,test_size=0.25, shuffle=True)\n",
    "  X_train=np.asarray(X_train).astype('float32')\n",
    "  X_test=np.asarray(X_test).astype('float32')\n",
    "  y_train=np.asarray(y_train).astype('float32')\n",
    "  y_test=np.asarray(y_test).astype('float32')\n",
    "  scaler = StandardScaler()\n",
    "  X_train = scaler.fit_transform(X_train)\n",
    "  X_test = scaler.transform(X_test)\n",
    "  print(X_test.shape)\n",
    "  return X_train, X_test, y_train, y_test\n"
   ]
  },
  {
   "cell_type": "code",
   "execution_count": 4,
   "metadata": {},
   "outputs": [
    {
     "name": "stdout",
     "output_type": "stream",
     "text": [
      "(143, 30)\n"
     ]
    },
    {
     "name": "stderr",
     "output_type": "stream",
     "text": [
      "C:\\Users\\delwy\\AppData\\Local\\Temp\\ipykernel_16480\\1684536102.py:9: SettingWithCopyWarning: \n",
      "A value is trying to be set on a copy of a slice from a DataFrame\n",
      "\n",
      "See the caveats in the documentation: https://pandas.pydata.org/pandas-docs/stable/user_guide/indexing.html#returning-a-view-versus-a-copy\n",
      "  y[i]=1\n",
      "C:\\Users\\delwy\\AppData\\Local\\Temp\\ipykernel_16480\\1684536102.py:11: SettingWithCopyWarning: \n",
      "A value is trying to be set on a copy of a slice from a DataFrame\n",
      "\n",
      "See the caveats in the documentation: https://pandas.pydata.org/pandas-docs/stable/user_guide/indexing.html#returning-a-view-versus-a-copy\n",
      "  y[i]=0\n"
     ]
    }
   ],
   "source": [
    "X_train, X_test, y_train, y_test = read_dataset('../dataset/data.csv',1)"
   ]
  },
  {
   "cell_type": "code",
   "execution_count": 5,
   "metadata": {},
   "outputs": [
    {
     "data": {
      "text/plain": [
       "array([[-0.50754064, -1.5873111 , -0.53291875, ..., -0.29626036,\n",
       "        -0.09794363, -0.92683077],\n",
       "       [-0.9010532 , -1.5964096 , -0.92588454, ..., -1.2394603 ,\n",
       "        -1.1854004 , -1.0006467 ],\n",
       "       [-1.1103684 ,  0.05040994, -1.1043581 , ..., -1.3858792 ,\n",
       "        -0.9962085 , -0.9435547 ],\n",
       "       ...,\n",
       "       [-0.9317526 , -2.1969075 , -0.9408586 , ..., -1.0250068 ,\n",
       "        -1.2696624 , -0.3916628 ],\n",
       "       [-0.73639184, -0.20889577, -0.75833786, ..., -0.72958136,\n",
       "        -0.23626071, -1.0906105 ],\n",
       "       [-0.37916064, -0.65472007, -0.43093362, ..., -0.83033943,\n",
       "        -0.80383676, -1.1350157 ]], dtype=float32)"
      ]
     },
     "execution_count": 5,
     "metadata": {},
     "output_type": "execute_result"
    }
   ],
   "source": [
    "X_train"
   ]
  },
  {
   "cell_type": "code",
   "execution_count": 14,
   "metadata": {},
   "outputs": [
    {
     "name": "stdout",
     "output_type": "stream",
     "text": [
      "Epoch 1/30\n",
      "27/27 [==============================] - 1s 2ms/step - loss: 0.9637 - accuracy: 0.5822\n",
      "Epoch 2/30\n",
      "27/27 [==============================] - 0s 2ms/step - loss: 0.8643 - accuracy: 0.6009\n",
      "Epoch 3/30\n",
      "27/27 [==============================] - 0s 3ms/step - loss: 0.7977 - accuracy: 0.6103\n",
      "Epoch 4/30\n",
      "27/27 [==============================] - 0s 2ms/step - loss: 0.7458 - accuracy: 0.6150\n",
      "Epoch 5/30\n",
      "27/27 [==============================] - 0s 2ms/step - loss: 0.7072 - accuracy: 0.6408\n",
      "Epoch 6/30\n",
      "27/27 [==============================] - 0s 2ms/step - loss: 0.6785 - accuracy: 0.6502\n",
      "Epoch 7/30\n",
      "27/27 [==============================] - 0s 2ms/step - loss: 0.6522 - accuracy: 0.6690\n",
      "Epoch 8/30\n",
      "27/27 [==============================] - 0s 2ms/step - loss: 0.6309 - accuracy: 0.6901\n",
      "Epoch 9/30\n",
      "27/27 [==============================] - 0s 2ms/step - loss: 0.6079 - accuracy: 0.7136\n",
      "Epoch 10/30\n",
      "27/27 [==============================] - 0s 2ms/step - loss: 0.5873 - accuracy: 0.7441\n",
      "Epoch 11/30\n",
      "27/27 [==============================] - 0s 2ms/step - loss: 0.5685 - accuracy: 0.7653\n",
      "Epoch 12/30\n",
      "27/27 [==============================] - 0s 2ms/step - loss: 0.5496 - accuracy: 0.7793\n",
      "Epoch 13/30\n",
      "27/27 [==============================] - 0s 2ms/step - loss: 0.5312 - accuracy: 0.7981\n",
      "Epoch 14/30\n",
      "27/27 [==============================] - 0s 2ms/step - loss: 0.5119 - accuracy: 0.8099\n",
      "Epoch 15/30\n",
      "27/27 [==============================] - 0s 2ms/step - loss: 0.4936 - accuracy: 0.8216\n",
      "Epoch 16/30\n",
      "27/27 [==============================] - 0s 3ms/step - loss: 0.4758 - accuracy: 0.8333\n",
      "Epoch 17/30\n",
      "27/27 [==============================] - 0s 3ms/step - loss: 0.4547 - accuracy: 0.8498\n",
      "Epoch 18/30\n",
      "27/27 [==============================] - 0s 3ms/step - loss: 0.4349 - accuracy: 0.8685\n",
      "Epoch 19/30\n",
      "27/27 [==============================] - 0s 3ms/step - loss: 0.4149 - accuracy: 0.8779\n",
      "Epoch 20/30\n",
      "27/27 [==============================] - 0s 3ms/step - loss: 0.3926 - accuracy: 0.8991\n",
      "Epoch 21/30\n",
      "27/27 [==============================] - 0s 3ms/step - loss: 0.3704 - accuracy: 0.9108\n",
      "Epoch 22/30\n",
      "27/27 [==============================] - 0s 2ms/step - loss: 0.3468 - accuracy: 0.9296\n",
      "Epoch 23/30\n",
      "27/27 [==============================] - 0s 4ms/step - loss: 0.3235 - accuracy: 0.9390\n",
      "Epoch 24/30\n",
      "27/27 [==============================] - 0s 2ms/step - loss: 0.2996 - accuracy: 0.9390\n",
      "Epoch 25/30\n",
      "27/27 [==============================] - 0s 2ms/step - loss: 0.2774 - accuracy: 0.9437\n",
      "Epoch 26/30\n",
      "27/27 [==============================] - 0s 2ms/step - loss: 0.2560 - accuracy: 0.9460\n",
      "Epoch 27/30\n",
      "27/27 [==============================] - 0s 2ms/step - loss: 0.2359 - accuracy: 0.9554\n",
      "Epoch 28/30\n",
      "27/27 [==============================] - 0s 2ms/step - loss: 0.2184 - accuracy: 0.9554\n",
      "Epoch 29/30\n",
      "27/27 [==============================] - 0s 2ms/step - loss: 0.2027 - accuracy: 0.9554\n",
      "Epoch 30/30\n",
      "27/27 [==============================] - 0s 2ms/step - loss: 0.1895 - accuracy: 0.9554\n",
      "Test Accuracy: 95.10%\n"
     ]
    }
   ],
   "source": [
    "def custom_relu(x):\n",
    "    return x*x\n",
    "model = tf.keras.Sequential([\n",
    "    tf.keras.layers.Input(shape=(30,)),\n",
    "    tf.keras.layers.Dense(2),\n",
    "    tf.keras.layers.Activation(custom_relu),\n",
    "    tf.keras.layers.Dense(1,activation='sigmoid'),\n",
    "])\n",
    "model.compile(optimizer='adam', loss='binary_crossentropy', metrics=['accuracy'])\n",
    "model.fit(X_train, y_train, epochs=30, batch_size=16)\n",
    "loss, accuracy = model.evaluate(X_test, y_test, verbose=0)\n",
    "print(f\"Test Accuracy: {accuracy*100:.2f}%\")"
   ]
  },
  {
   "cell_type": "code",
   "execution_count": 15,
   "metadata": {},
   "outputs": [],
   "source": [
    "def create_model_weights_file(model):\n",
    "  i=0\n",
    "  for layer in model.layers:\n",
    "    if('activation' in layer.name):\n",
    "      continue\n",
    "    w = (layer.get_weights()[0]).T\n",
    "    \n",
    "    b = (layer.get_weights()[1]).T\n",
    "    file_name = 'layer'+str(i)+'.npy'\n",
    "    with open(file_name, 'wb') as f:\n",
    "        np.save(f, w)\n",
    "        np.save(f, b)\n",
    "    i=i+1\n"
   ]
  },
  {
   "cell_type": "code",
   "execution_count": 16,
   "metadata": {},
   "outputs": [],
   "source": [
    "create_model_weights_file(model)"
   ]
  },
  {
   "cell_type": "code",
   "execution_count": 17,
   "metadata": {},
   "outputs": [
    {
     "name": "stdout",
     "output_type": "stream",
     "text": [
      "[[ 0.05847992  0.10372423 -0.36680582  0.01364348  0.06615735 -0.21566895\n",
      "  -0.436642   -0.04528108 -0.12435865  0.15005013  0.07096262  0.26047269\n",
      "   0.11306693 -0.51171887  0.0458674   0.06511447 -0.16024268  0.1782684\n",
      "  -0.16274862 -0.15963098 -0.18333358 -0.3819804  -0.33792174 -0.48554143\n",
      "  -0.29534203 -0.15683544  0.05440152 -0.25289032  0.08404428 -0.03637034]\n",
      " [-0.10754468 -0.43644127 -0.51116824 -0.46951845 -0.14753978 -0.27654725\n",
      "   0.30708456  0.10508725  0.36952904  0.4022424  -0.13154568  0.1891353\n",
      "  -0.00258116  0.07557585  0.13884018 -0.13963626  0.27100983 -0.09432873\n",
      "  -0.26620883 -0.238154    0.18796888  0.33698624  0.0338765  -0.34890532\n",
      "  -0.24005976 -0.21684194 -0.20201881 -0.2957581  -0.04373759 -0.24322167]]\n",
      "[-0.83605677  0.52838075]\n"
     ]
    }
   ],
   "source": [
    "with open('layer0.npy', 'rb') as f:\n",
    "              print(np.load(f))\n",
    "              print(np.load(f))"
   ]
  },
  {
   "cell_type": "code",
   "execution_count": 18,
   "metadata": {},
   "outputs": [],
   "source": [
    "def encode_value(a,scale):\n",
    "    encoder=CKKSEncoder(16,scale)\n",
    "    a_encoded=encoder.encode(np.array([a]*4))\n",
    "    a_encoded=Polynomial(a_encoded.coef)\n",
    "    a_encoded.poly_floor()\n",
    "    a_pt=Plaintext(a_encoded,scale)\n",
    "    return a_pt\n",
    "def encrypt_input(x,scale):\n",
    "    res=[]\n",
    "    for item in x:\n",
    "        item_pt=encode_value(item,scale)\n",
    "        item_encrypted=public_key.encrypt(item_pt)\n",
    "        res.append(item_encrypted)\n",
    "    return res\n",
    "    \n",
    "    "
   ]
  },
  {
   "cell_type": "code",
   "execution_count": 19,
   "metadata": {},
   "outputs": [],
   "source": [
    "class Model:\n",
    "    def __init__(self, n_features, n_layers, n_layer_neurons, layer_activations, layer_weight_files, encrypted):\n",
    "        self.n_features = n_features\n",
    "        self.n_layers = n_layers\n",
    "        self.n_layer_neurons = n_layer_neurons\n",
    "        self.layer_activations = layer_activations\n",
    "        self.weights = []\n",
    "        self.biases = []\n",
    "        self.encrypted = encrypted\n",
    "        layer_number = 0\n",
    "        b_scale = 1 << 20\n",
    "        for wt_file in layer_weight_files:\n",
    "            with open(wt_file, 'rb') as f:\n",
    "              if self.encrypted == True:\n",
    "                  w = np.load(f)\n",
    "                  r, c = np.shape(w)\n",
    "                  res_w = []\n",
    "                  for i in range(r):\n",
    "                      row = []\n",
    "                      for j in range(c):\n",
    "                          row.append(encode_value(w[i][j], b_scale))\n",
    "                      res_w.append(row)\n",
    "                  b = np.load(f)\n",
    "                  res_b = []\n",
    "                #   b_scale=b_scale*(1<<12)\n",
    "                  for i in b:\n",
    "                      res_b.append(encode_value(i, b_scale))\n",
    "\n",
    "                #   if self.layer_activations[layer_number]=='relu':\n",
    "                #         b_scale=b_scale**2\n",
    "                  self.weights.append(res_w)\n",
    "                  self.biases.append(res_b)\n",
    "                  layer_number += 1\n",
    "\n",
    "              else:\n",
    "                self.weights.append(np.load(f).tolist())\n",
    "                self.biases.append(np.load(f).tolist())\n",
    "\n",
    "    def __matmul(self, a, b):\n",
    "        # Input: a to be 2-D (n_layer_neurons[layer_no],n_features)and b to be 1-D list\n",
    "        # Output : a 1-D list\n",
    "        output = []\n",
    "        for i in range(len(a)):\n",
    "            res = a[i][0]*b[0]\n",
    "            for j in range(1, len(b)):\n",
    "                res = a[i][j]*b[j]+res\n",
    "            output.append(res)\n",
    "        return output\n",
    "\n",
    "    def __matadd(self, a, b):\n",
    "        # Input: a and b to be 1-D list\n",
    "        # Output : a 1-D list\n",
    "        # For memory saving b is modified in calculations so be careful about order of inputs\n",
    "\n",
    "        for i in range(len(a)):\n",
    "            b[i] = b[i]+a[i]\n",
    "        return b\n",
    "\n",
    "    def infer(self, x):\n",
    "        for i in range(self.n_layers):\n",
    "\n",
    "            new_x = self.__matmul(self.weights[i], x)\n",
    "            new_x = self.__matadd(self.biases[i], new_x)\n",
    "\n",
    "            if (self.layer_activations[i] == 'relu'):\n",
    "\n",
    "                x = [t**2 for t in new_x]\n",
    "\n",
    "            else:\n",
    "                x = new_x\n",
    "        return x[0]"
   ]
  },
  {
   "cell_type": "code",
   "execution_count": 20,
   "metadata": {},
   "outputs": [],
   "source": [
    "model_encrypted=Model(30,2,[2,1],['relu','none'],['layer0.npy','layer1.npy'],True)\n",
    "model_unencrypted=Model(30,2,[2,1],['relu','none'],['layer0.npy','layer1.npy'],False)"
   ]
  },
  {
   "cell_type": "code",
   "execution_count": 21,
   "metadata": {},
   "outputs": [
    {
     "name": "stdout",
     "output_type": "stream",
     "text": [
      "Accuracy on unencrypted Test Data:0.951048951048951\n",
      "Accuracy on encrypted test data:0.951048951048951\n"
     ]
    }
   ],
   "source": [
    "normal_acc=0\n",
    "encrypted_acc=0\n",
    "limit=len(X_test)\n",
    "for i in range(limit):\n",
    "    x=X_test[i].tolist()\n",
    "    x_encrypted=encrypt_input(x,1<<20)\n",
    "    normal_res=model_unencrypted.infer(x)\n",
    "    pt_dash=private_key.decrypt(model_encrypted.infer(x_encrypted))\n",
    "    pt=np.polynomial.Polynomial(pt_dash.poly.convert_to_list())\n",
    "    encoder=CKKSEncoder(16,pt_dash.scale)\n",
    "    pt=encoder.decode(pt)\n",
    "    encrypted_res=pt[0].real\n",
    "    #print('Unencryted Inference:'+str(normal_res)+\" Encrypted Inference:\"+str(encrypted_res))\n",
    "    if (normal_res>0 and y_test[i]==1) or (normal_res<=0 and y_test[i]==0):\n",
    "        normal_acc+=1\n",
    "    if (encrypted_res>0 and y_test[i]==1) or (encrypted_res<=0 and y_test[i]==0):\n",
    "        encrypted_acc+=1\n",
    "print('Accuracy on unencrypted Test Data:'+str(normal_acc/limit))\n",
    "print('Accuracy on encrypted test data:'+str(encrypted_acc/limit))\n",
    "  "
   ]
  }
 ],
 "metadata": {
  "kernelspec": {
   "display_name": "base",
   "language": "python",
   "name": "python3"
  },
  "language_info": {
   "codemirror_mode": {
    "name": "ipython",
    "version": 3
   },
   "file_extension": ".py",
   "mimetype": "text/x-python",
   "name": "python",
   "nbconvert_exporter": "python",
   "pygments_lexer": "ipython3",
   "version": "3.10.9"
  }
 },
 "nbformat": 4,
 "nbformat_minor": 2
}
