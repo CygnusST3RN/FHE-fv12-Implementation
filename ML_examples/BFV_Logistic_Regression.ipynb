{
  "cells": [
    {
      "cell_type": "markdown",
      "metadata": {
        "colab_type": "text",
        "id": "view-in-github"
      },
      "source": [
        "<a href=\"https://colab.research.google.com/github/CygnusST3RN/FHE.0/blob/ankita_ml/FHE_ML.ipynb\" target=\"_parent\"><img src=\"https://colab.research.google.com/assets/colab-badge.svg\" alt=\"Open In Colab\"/></a>"
      ]
    },
    {
      "cell_type": "code",
      "execution_count": 1,
      "metadata": {
        "id": "8b6vkXoZ9Udt"
      },
      "outputs": [],
      "source": [
        "import pandas as pd\n",
        "import numpy as np\n",
        "import tensorflow as tf\n",
        "# from keras import backend as K\n",
        "from sklearn.model_selection import train_test_split\n",
        "from sklearn.preprocessing import StandardScaler,MinMaxScaler\n",
        "\n",
        "import BFV_Scheme.bfv as bfv\n",
        "import random\n"
      ]
    },
    {
      "cell_type": "markdown",
      "metadata": {},
      "source": [
        "Initialize BFV Parameters"
      ]
    },
    {
      "cell_type": "code",
      "execution_count": 2,
      "metadata": {},
      "outputs": [
        {
          "name": "stdout",
          "output_type": "stream",
          "text": [
            "Initialised\n",
            "Eval Key:0/75 Done\n",
            "Eval Key:1/75 Done\n",
            "Eval Key:2/75 Done\n",
            "Eval Key:3/75 Done\n",
            "Eval Key:4/75 Done\n",
            "Eval Key:5/75 Done\n",
            "Eval Key:6/75 Done\n",
            "Eval Key:7/75 Done\n",
            "Eval Key:8/75 Done\n",
            "Eval Key:9/75 Done\n",
            "Eval Key:10/75 Done\n",
            "Eval Key:11/75 Done\n",
            "Eval Key:12/75 Done\n",
            "Eval Key:13/75 Done\n",
            "Eval Key:14/75 Done\n",
            "Eval Key:15/75 Done\n",
            "Eval Key:16/75 Done\n",
            "Eval Key:17/75 Done\n",
            "Eval Key:18/75 Done\n",
            "Eval Key:19/75 Done\n",
            "Eval Key:20/75 Done\n",
            "Eval Key:21/75 Done\n",
            "Eval Key:22/75 Done\n",
            "Eval Key:23/75 Done\n",
            "Eval Key:24/75 Done\n",
            "Eval Key:25/75 Done\n",
            "Eval Key:26/75 Done\n",
            "Eval Key:27/75 Done\n",
            "Eval Key:28/75 Done\n",
            "Eval Key:29/75 Done\n",
            "Eval Key:30/75 Done\n",
            "Eval Key:31/75 Done\n",
            "Eval Key:32/75 Done\n",
            "Eval Key:33/75 Done\n",
            "Eval Key:34/75 Done\n",
            "Eval Key:35/75 Done\n",
            "Eval Key:36/75 Done\n",
            "Eval Key:37/75 Done\n",
            "Eval Key:38/75 Done\n",
            "Eval Key:39/75 Done\n",
            "Eval Key:40/75 Done\n",
            "Eval Key:41/75 Done\n",
            "Eval Key:42/75 Done\n",
            "Eval Key:43/75 Done\n",
            "Eval Key:44/75 Done\n",
            "Eval Key:45/75 Done\n",
            "Eval Key:46/75 Done\n",
            "Eval Key:47/75 Done\n",
            "Eval Key:48/75 Done\n",
            "Eval Key:49/75 Done\n",
            "Eval Key:50/75 Done\n",
            "Eval Key:51/75 Done\n",
            "Eval Key:52/75 Done\n",
            "Eval Key:53/75 Done\n",
            "Eval Key:54/75 Done\n",
            "Eval Key:55/75 Done\n",
            "Eval Key:56/75 Done\n",
            "Eval Key:57/75 Done\n",
            "Eval Key:58/75 Done\n",
            "Eval Key:59/75 Done\n",
            "Eval Key:60/75 Done\n",
            "Eval Key:61/75 Done\n",
            "Eval Key:62/75 Done\n",
            "Eval Key:63/75 Done\n",
            "Eval Key:64/75 Done\n",
            "Eval Key:65/75 Done\n",
            "Eval Key:66/75 Done\n",
            "Eval Key:67/75 Done\n",
            "Eval Key:68/75 Done\n",
            "Eval Key:69/75 Done\n",
            "Eval Key:70/75 Done\n",
            "Eval Key:71/75 Done\n",
            "Eval Key:72/75 Done\n",
            "Eval Key:73/75 Done\n",
            "Eval Key:74/75 Done\n",
            "Eval Key:75/75 Done\n"
          ]
        }
      ],
      "source": [
        "\n",
        "params = bfv.Params(4, 2, 2**27, 2**75)\n",
        "fv12= bfv.FV12(params)\n",
        "public_key,private_key=fv12.generate_keys()\n"
      ]
    },
    {
      "cell_type": "code",
      "execution_count": 3,
      "metadata": {},
      "outputs": [
        {
          "name": "stdout",
          "output_type": "stream",
          "text": [
            "Unencrypted:\n",
            "a^2=36\n",
            "Encrypted:\n"
          ]
        },
        {
          "name": "stdout",
          "output_type": "stream",
          "text": [
            "a^2=34\n",
            "Unencrypted:\n",
            "a^2=81\n",
            "Encrypted:\n",
            "a^2=80\n",
            "Unencrypted:\n",
            "a^2=81\n",
            "Encrypted:\n",
            "a^2=82\n",
            "Unencrypted:\n",
            "a^2=1\n",
            "Encrypted:\n",
            "a^2=2\n",
            "Unencrypted:\n",
            "a^2=81\n",
            "Encrypted:\n",
            "a^2=65\n",
            "Unencrypted:\n",
            "a^2=9\n",
            "Encrypted:\n",
            "a^2=13\n",
            "Unencrypted:\n",
            "a^2=9\n",
            "Encrypted:\n",
            "a^2=10\n",
            "Unencrypted:\n",
            "a^2=36\n",
            "Encrypted:\n",
            "a^2=30\n",
            "Unencrypted:\n",
            "a^2=0\n",
            "Encrypted:\n",
            "a^2=-2\n",
            "Unencrypted:\n",
            "a^2=4\n",
            "Encrypted:\n",
            "a^2=-2\n"
          ]
        }
      ],
      "source": [
        "for i in range(10):\n",
        "    \n",
        "    a=random.randrange(-10,10)\n",
        "   \n",
        "    print('Unencrypted:')\n",
        "    print('a^2='+str(a**2))\n",
        "    a_encrypted=public_key.encrypt(a)\n",
        "   \n",
        "    print('Encrypted:')\n",
        "    print('a^2='+str(private_key.decrypt(a_encrypted**2)))"
      ]
    },
    {
      "cell_type": "code",
      "execution_count": 4,
      "metadata": {},
      "outputs": [
        {
          "name": "stdout",
          "output_type": "stream",
          "text": [
            "9898\n"
          ]
        }
      ],
      "source": [
        "a=public_key.encrypt(100)\n",
        "print(private_key.decrypt((a**2)-a))"
      ]
    },
    {
      "cell_type": "markdown",
      "metadata": {},
      "source": [
        "Scale Input Values Based on Plaintext modulus and read Dataset "
      ]
    },
    {
      "cell_type": "code",
      "execution_count": 5,
      "metadata": {
        "id": "moQ07oZ8XhLK"
      },
      "outputs": [],
      "source": [
        "def read_dataset(url,col,scale):\n",
        "  df=pd.read_csv(url)\n",
        "  df.drop(\"Unnamed: 32\", axis=1, inplace=True)\n",
        "  X = df.iloc[:, col+1:]\n",
        "  col_name=df.columns[col]\n",
        "  y = df[col_name]\n",
        "  for i in range (0,len(df)):\n",
        "    if y[i]=='M':\n",
        "      y[i]=1\n",
        "    else:\n",
        "      y[i]=0\n",
        "  X_train, X_test, y_train, y_test = train_test_split(\n",
        "  X,y , random_state=104,test_size=0.25, shuffle=True)\n",
        "  X_train=np.asarray(X_train).astype('float32')\n",
        "  X_test=np.asarray(X_test).astype('float32')\n",
        "  y_train=np.asarray(y_train).astype('float32')\n",
        "  y_test=np.asarray(y_test).astype('float32')\n",
        "  scaler = MinMaxScaler(feature_range=(0, scale))\n",
        "  X_train = scaler.fit_transform(X_train)\n",
        "  X_test = scaler.transform(X_test)\n",
        "  print(X_test.shape)\n",
        "  return X_train, X_test, y_train, y_test\n"
      ]
    },
    {
      "cell_type": "code",
      "execution_count": 6,
      "metadata": {
        "colab": {
          "base_uri": "https://localhost:8080/"
        },
        "id": "qkptBY6mZN9v",
        "outputId": "f15404f2-5f80-48c0-cb10-d239619acaf3"
      },
      "outputs": [
        {
          "name": "stdout",
          "output_type": "stream",
          "text": [
            "(143, 30)\n"
          ]
        },
        {
          "name": "stderr",
          "output_type": "stream",
          "text": [
            "C:\\Users\\delwy\\AppData\\Local\\Temp\\ipykernel_16892\\3440237989.py:9: SettingWithCopyWarning: \n",
            "A value is trying to be set on a copy of a slice from a DataFrame\n",
            "\n",
            "See the caveats in the documentation: https://pandas.pydata.org/pandas-docs/stable/user_guide/indexing.html#returning-a-view-versus-a-copy\n",
            "  y[i]=1\n",
            "C:\\Users\\delwy\\AppData\\Local\\Temp\\ipykernel_16892\\3440237989.py:11: SettingWithCopyWarning: \n",
            "A value is trying to be set on a copy of a slice from a DataFrame\n",
            "\n",
            "See the caveats in the documentation: https://pandas.pydata.org/pandas-docs/stable/user_guide/indexing.html#returning-a-view-versus-a-copy\n",
            "  y[i]=0\n"
          ]
        }
      ],
      "source": [
        "X_train, X_test, y_train, y_test = read_dataset('../dataset/data.csv',1,100)"
      ]
    },
    {
      "cell_type": "markdown",
      "metadata": {},
      "source": [
        "Train Model"
      ]
    },
    {
      "cell_type": "code",
      "execution_count": 7,
      "metadata": {
        "colab": {
          "base_uri": "https://localhost:8080/"
        },
        "id": "GECyRUvVpxp5",
        "outputId": "97517684-3103-4ba6-94a8-3dd48fe10c96"
      },
      "outputs": [
        {
          "name": "stdout",
          "output_type": "stream",
          "text": [
            "Epoch 1/70\n",
            "27/27 [==============================] - 1s 2ms/step - loss: 27.1292 - accuracy: 0.5798\n",
            "Epoch 2/70\n",
            "27/27 [==============================] - 0s 2ms/step - loss: 17.5740 - accuracy: 0.4695\n",
            "Epoch 3/70\n",
            "27/27 [==============================] - 0s 2ms/step - loss: 13.7878 - accuracy: 0.3873\n",
            "Epoch 4/70\n",
            "27/27 [==============================] - 0s 2ms/step - loss: 11.5885 - accuracy: 0.4131\n",
            "Epoch 5/70\n",
            "27/27 [==============================] - 0s 2ms/step - loss: 9.7096 - accuracy: 0.4531\n",
            "Epoch 6/70\n",
            "27/27 [==============================] - 0s 2ms/step - loss: 8.1004 - accuracy: 0.4883\n",
            "Epoch 7/70\n",
            "27/27 [==============================] - 0s 2ms/step - loss: 6.6698 - accuracy: 0.5188\n",
            "Epoch 8/70\n",
            "27/27 [==============================] - 0s 2ms/step - loss: 5.4914 - accuracy: 0.5493\n",
            "Epoch 9/70\n",
            "27/27 [==============================] - 0s 2ms/step - loss: 4.4874 - accuracy: 0.5915\n",
            "Epoch 10/70\n",
            "27/27 [==============================] - 0s 2ms/step - loss: 3.7117 - accuracy: 0.6150\n",
            "Epoch 11/70\n",
            "27/27 [==============================] - 0s 2ms/step - loss: 3.0613 - accuracy: 0.6761\n",
            "Epoch 12/70\n",
            "27/27 [==============================] - 0s 2ms/step - loss: 2.5797 - accuracy: 0.7113\n",
            "Epoch 13/70\n",
            "27/27 [==============================] - 0s 2ms/step - loss: 2.2192 - accuracy: 0.7277\n",
            "Epoch 14/70\n",
            "27/27 [==============================] - 0s 2ms/step - loss: 1.8785 - accuracy: 0.7512\n",
            "Epoch 15/70\n",
            "27/27 [==============================] - 0s 2ms/step - loss: 1.6400 - accuracy: 0.7653\n",
            "Epoch 16/70\n",
            "27/27 [==============================] - 0s 2ms/step - loss: 1.4510 - accuracy: 0.7817\n",
            "Epoch 17/70\n",
            "27/27 [==============================] - 0s 2ms/step - loss: 1.2932 - accuracy: 0.8005\n",
            "Epoch 18/70\n",
            "27/27 [==============================] - 0s 2ms/step - loss: 1.1763 - accuracy: 0.8122\n",
            "Epoch 19/70\n",
            "27/27 [==============================] - 0s 2ms/step - loss: 1.0697 - accuracy: 0.8192\n",
            "Epoch 20/70\n",
            "27/27 [==============================] - 0s 2ms/step - loss: 0.9819 - accuracy: 0.8286\n",
            "Epoch 21/70\n",
            "27/27 [==============================] - 0s 2ms/step - loss: 0.9164 - accuracy: 0.8427\n",
            "Epoch 22/70\n",
            "27/27 [==============================] - 0s 2ms/step - loss: 0.8926 - accuracy: 0.8286\n",
            "Epoch 23/70\n",
            "27/27 [==============================] - 0s 2ms/step - loss: 0.8084 - accuracy: 0.8638\n",
            "Epoch 24/70\n",
            "27/27 [==============================] - 0s 3ms/step - loss: 0.7458 - accuracy: 0.8474\n",
            "Epoch 25/70\n",
            "27/27 [==============================] - 0s 2ms/step - loss: 0.6955 - accuracy: 0.8592\n",
            "Epoch 26/70\n",
            "27/27 [==============================] - 0s 2ms/step - loss: 0.6601 - accuracy: 0.8662\n",
            "Epoch 27/70\n",
            "27/27 [==============================] - 0s 2ms/step - loss: 0.6318 - accuracy: 0.8732\n",
            "Epoch 28/70\n",
            "27/27 [==============================] - 0s 2ms/step - loss: 0.6038 - accuracy: 0.8732\n",
            "Epoch 29/70\n",
            "27/27 [==============================] - 0s 2ms/step - loss: 0.5808 - accuracy: 0.8779\n",
            "Epoch 30/70\n",
            "27/27 [==============================] - 0s 2ms/step - loss: 0.5621 - accuracy: 0.8826\n",
            "Epoch 31/70\n",
            "27/27 [==============================] - 0s 2ms/step - loss: 0.5466 - accuracy: 0.8897\n",
            "Epoch 32/70\n",
            "27/27 [==============================] - 0s 2ms/step - loss: 0.5299 - accuracy: 0.8920\n",
            "Epoch 33/70\n",
            "27/27 [==============================] - 0s 2ms/step - loss: 0.5158 - accuracy: 0.8920\n",
            "Epoch 34/70\n",
            "27/27 [==============================] - 0s 2ms/step - loss: 0.4956 - accuracy: 0.8850\n",
            "Epoch 35/70\n",
            "27/27 [==============================] - 0s 2ms/step - loss: 0.4771 - accuracy: 0.9038\n",
            "Epoch 36/70\n",
            "27/27 [==============================] - 0s 2ms/step - loss: 0.4682 - accuracy: 0.9014\n",
            "Epoch 37/70\n",
            "27/27 [==============================] - 0s 2ms/step - loss: 0.4537 - accuracy: 0.9085\n",
            "Epoch 38/70\n",
            "27/27 [==============================] - 0s 2ms/step - loss: 0.4485 - accuracy: 0.9108\n",
            "Epoch 39/70\n",
            "27/27 [==============================] - 0s 2ms/step - loss: 0.4301 - accuracy: 0.9108\n",
            "Epoch 40/70\n",
            "27/27 [==============================] - 0s 2ms/step - loss: 0.4243 - accuracy: 0.9085\n",
            "Epoch 41/70\n",
            "27/27 [==============================] - 0s 2ms/step - loss: 0.4093 - accuracy: 0.8991\n",
            "Epoch 42/70\n",
            "27/27 [==============================] - 0s 2ms/step - loss: 0.3955 - accuracy: 0.9108\n",
            "Epoch 43/70\n",
            "27/27 [==============================] - 0s 2ms/step - loss: 0.3945 - accuracy: 0.9085\n",
            "Epoch 44/70\n",
            "27/27 [==============================] - 0s 2ms/step - loss: 0.3766 - accuracy: 0.9014\n",
            "Epoch 45/70\n",
            "27/27 [==============================] - 0s 2ms/step - loss: 0.3673 - accuracy: 0.9108\n",
            "Epoch 46/70\n",
            "27/27 [==============================] - 0s 2ms/step - loss: 0.3599 - accuracy: 0.9085\n",
            "Epoch 47/70\n",
            "27/27 [==============================] - 0s 2ms/step - loss: 0.3444 - accuracy: 0.9085\n",
            "Epoch 48/70\n",
            "27/27 [==============================] - 0s 2ms/step - loss: 0.3348 - accuracy: 0.9108\n",
            "Epoch 49/70\n",
            "27/27 [==============================] - 0s 2ms/step - loss: 0.3316 - accuracy: 0.9131\n",
            "Epoch 50/70\n",
            "27/27 [==============================] - 0s 2ms/step - loss: 0.3192 - accuracy: 0.9038\n",
            "Epoch 51/70\n",
            "27/27 [==============================] - 0s 3ms/step - loss: 0.3199 - accuracy: 0.9108\n",
            "Epoch 52/70\n",
            "27/27 [==============================] - 0s 2ms/step - loss: 0.3037 - accuracy: 0.9202\n",
            "Epoch 53/70\n",
            "27/27 [==============================] - 0s 2ms/step - loss: 0.2989 - accuracy: 0.9178\n",
            "Epoch 54/70\n",
            "27/27 [==============================] - 0s 2ms/step - loss: 0.2863 - accuracy: 0.9225\n",
            "Epoch 55/70\n",
            "27/27 [==============================] - 0s 1ms/step - loss: 0.2813 - accuracy: 0.9178\n",
            "Epoch 56/70\n",
            "27/27 [==============================] - 0s 1ms/step - loss: 0.2807 - accuracy: 0.9155\n",
            "Epoch 57/70\n",
            "27/27 [==============================] - 0s 1ms/step - loss: 0.2702 - accuracy: 0.9178\n",
            "Epoch 58/70\n",
            "27/27 [==============================] - 0s 2ms/step - loss: 0.2662 - accuracy: 0.9249\n",
            "Epoch 59/70\n",
            "27/27 [==============================] - 0s 2ms/step - loss: 0.2556 - accuracy: 0.9225\n",
            "Epoch 60/70\n",
            "27/27 [==============================] - 0s 2ms/step - loss: 0.2502 - accuracy: 0.9249\n",
            "Epoch 61/70\n",
            "27/27 [==============================] - 0s 2ms/step - loss: 0.2455 - accuracy: 0.9225\n",
            "Epoch 62/70\n",
            "27/27 [==============================] - 0s 2ms/step - loss: 0.2321 - accuracy: 0.9249\n",
            "Epoch 63/70\n",
            "27/27 [==============================] - 0s 1ms/step - loss: 0.2305 - accuracy: 0.9296\n",
            "Epoch 64/70\n",
            "27/27 [==============================] - 0s 2ms/step - loss: 0.2283 - accuracy: 0.9319\n",
            "Epoch 65/70\n",
            "27/27 [==============================] - 0s 2ms/step - loss: 0.2182 - accuracy: 0.9296\n",
            "Epoch 66/70\n",
            "27/27 [==============================] - 0s 1ms/step - loss: 0.2192 - accuracy: 0.9319\n",
            "Epoch 67/70\n",
            "27/27 [==============================] - 0s 2ms/step - loss: 0.2131 - accuracy: 0.9272\n",
            "Epoch 68/70\n",
            "27/27 [==============================] - 0s 2ms/step - loss: 0.2075 - accuracy: 0.9249\n",
            "Epoch 69/70\n",
            "27/27 [==============================] - 0s 2ms/step - loss: 0.1997 - accuracy: 0.9343\n",
            "Epoch 70/70\n",
            "27/27 [==============================] - 0s 2ms/step - loss: 0.1989 - accuracy: 0.9343\n",
            "Test Accuracy: 93.01%\n"
          ]
        }
      ],
      "source": [
        "def custom_relu(x):\n",
        "    return x +x*x\n",
        "model = tf.keras.Sequential([\n",
        "    tf.keras.layers.Input(shape=(30,)),\n",
        "    tf.keras.layers.Dense(2),\n",
        "    # tf.keras.layers.Activation(custom_relu),\n",
        "    tf.keras.layers.Dense(1,activation='sigmoid'),\n",
        "])\n",
        "model.compile(optimizer='adam', loss='binary_crossentropy', metrics=['accuracy'])\n",
        "model.fit(X_train, y_train, epochs=70, batch_size=16)\n",
        "loss, accuracy = model.evaluate(X_test, y_test, verbose=0)\n",
        "print(f\"Test Accuracy: {accuracy*100:.2f}%\")"
      ]
    },
    {
      "cell_type": "code",
      "execution_count": 8,
      "metadata": {},
      "outputs": [
        {
          "name": "stdout",
          "output_type": "stream",
          "text": [
            "Model: \"sequential\"\n",
            "_________________________________________________________________\n",
            " Layer (type)                Output Shape              Param #   \n",
            "=================================================================\n",
            " dense (Dense)               (None, 2)                 62        \n",
            "                                                                 \n",
            " dense_1 (Dense)             (None, 1)                 3         \n",
            "                                                                 \n",
            "=================================================================\n",
            "Total params: 65\n",
            "Trainable params: 65\n",
            "Non-trainable params: 0\n",
            "_________________________________________________________________\n",
            "None\n"
          ]
        }
      ],
      "source": [
        "print(model.summary())"
      ]
    },
    {
      "cell_type": "markdown",
      "metadata": {},
      "source": [
        "Save Quantised Model Weights"
      ]
    },
    {
      "cell_type": "code",
      "execution_count": 9,
      "metadata": {
        "id": "C53x244N-l9V"
      },
      "outputs": [],
      "source": [
        "def create_model_weights_file(model,scale):\n",
        "  i=0\n",
        "  for layer in model.layers:\n",
        "    if('activation' in layer.name):\n",
        "      continue\n",
        "    w = (layer.get_weights()[0]).T\n",
        "    \n",
        "    b = (layer.get_weights()[1]).T\n",
        "    w=np.round_(w*scale).astype(int)\n",
        "    b=np.round_(b*scale).astype(int)\n",
        "    file_name = 'layer'+str(i)+'.npy'\n",
        "    with open(file_name, 'wb') as f:\n",
        "        np.save(f, w)\n",
        "        np.save(f, b)\n",
        "    i=i+1\n"
      ]
    },
    {
      "cell_type": "code",
      "execution_count": 10,
      "metadata": {
        "id": "HmVrDk8A-mFD"
      },
      "outputs": [],
      "source": [
        "create_model_weights_file(model,100)"
      ]
    },
    {
      "cell_type": "markdown",
      "metadata": {},
      "source": [
        "Custom class for inference on encrypted data\n"
      ]
    },
    {
      "cell_type": "code",
      "execution_count": 11,
      "metadata": {},
      "outputs": [],
      "source": [
        "class Model:\n",
        "    def __init__(self,n_features,n_layers,n_layer_neurons,layer_activations,layer_weight_files):\n",
        "        self.n_features=n_features\n",
        "        self.n_layers=n_layers\n",
        "        self.n_layer_neurons=n_layer_neurons\n",
        "        self.layer_activations=layer_activations\n",
        "        self.weights=[]\n",
        "        self.biases=[]\n",
        "        for wt_file in layer_weight_files:\n",
        "            with open(wt_file, 'rb') as f:\n",
        "              self.weights.append(np.load(f).tolist())\n",
        "              self.biases.append(np.load(f).tolist())\n",
        "    def __matmul(self,a,b):\n",
        "        ## Input: a to be 2-D (n_layer_neurons[layer_no],n_features)and b to be 1-D list\n",
        "        # Output : a 1-D list \n",
        "        output=[]\n",
        "        for i in range(len(a)):\n",
        "            res=0\n",
        "            for j in range(len(b)):\n",
        "                res=a[i][j]*b[j]+res\n",
        "            output.append(res)\n",
        "        return output\n",
        "    \n",
        "    def __matadd(self,a,b):\n",
        "        ## Input: a and b to be 1-D list\n",
        "        # Output : a 1-D list \n",
        "        ## For memory saving b is modified in calculations so be careful about order of inputs\n",
        "        \n",
        "        for i in range(len(a)):\n",
        "            b[i]=b[i]+a[i]\n",
        "        return b  \n",
        "    \n",
        "    def infer(self,x,encrypted=True):\n",
        "        for i in range(self.n_layers):\n",
        "            \n",
        "            new_x=self.__matmul(self.weights[i],x)\n",
        "            new_x=self.__matadd(self.biases[i],new_x)\n",
        "            \n",
        "            if(self.layer_activations[i]=='relu'):\n",
        "               \n",
        "                x=[t**2+t for t in new_x]\n",
        "                # if(encrypted==True):\n",
        "                #     temp=copy.deepcopy(new_x)\n",
        "                #     for t in temp:\n",
        "                #         print(private_key.decrypt(t))\n",
        "                #     temp=copy.deepcopy(x)\n",
        "                #     for t in temp:\n",
        "                #         print(private_key.decrypt(t))\n",
        "                if(encrypted==True):\n",
        "                    x=[t**2+t for t in new_x]\n",
        "                # else:\n",
        "                #     x=[max(0,t) for t in new_x]\n",
        "            else:  \n",
        "                x=new_x  \n",
        "        return x[0]      \n",
        "       \n",
        "            \n",
        "        \n",
        "        \n",
        "        \n",
        "        "
      ]
    },
    {
      "cell_type": "code",
      "execution_count": 12,
      "metadata": {},
      "outputs": [],
      "source": [
        "model=Model(30,2,[2,1],['none','none'],['layer0.npy','layer1.npy'])"
      ]
    },
    {
      "cell_type": "markdown",
      "metadata": {},
      "source": [
        "Test out accuracy on Encrypted and Unencrypted test data"
      ]
    },
    {
      "cell_type": "code",
      "execution_count": 13,
      "metadata": {},
      "outputs": [
        {
          "name": "stdout",
          "output_type": "stream",
          "text": [
            "Accuracy on unencrypted Test Data:0.9300699300699301\n",
            "Accuracy on encrypted test data:0.9300699300699301\n"
          ]
        }
      ],
      "source": [
        "normal_acc=0\n",
        "encrypted_acc=0\n",
        "limit=len(X_test)\n",
        "for i in range(limit):\n",
        "    x=X_test[i].tolist()\n",
        "    x_encrypted=[public_key.encrypt(t) for t in x]\n",
        "    normal_res=model.infer(x,False)\n",
        "    encrypted_res=private_key.decrypt(model.infer(x_encrypted))\n",
        "    #print('Unencryted Inference:'+str(normal_res)+\" Encrypted Inference:\"+str(encrypted_res))\n",
        "    if (normal_res>0 and y_test[i]==1) or (normal_res<=0 and y_test[i]==0):\n",
        "        normal_acc+=1\n",
        "    if (encrypted_res>0 and y_test[i]==1) or (encrypted_res<=0 and y_test[i]==0):\n",
        "        encrypted_acc+=1\n",
        "print('Accuracy on unencrypted Test Data:'+str(normal_acc/limit))\n",
        "print('Accuracy on encrypted test data:'+str(encrypted_acc/limit))\n",
        "  "
      ]
    }
  ],
  "metadata": {
    "accelerator": "GPU",
    "colab": {
      "gpuType": "T4",
      "include_colab_link": true,
      "provenance": []
    },
    "kernelspec": {
      "display_name": "Python 3",
      "name": "python3"
    },
    "language_info": {
      "codemirror_mode": {
        "name": "ipython",
        "version": 3
      },
      "file_extension": ".py",
      "mimetype": "text/x-python",
      "name": "python",
      "nbconvert_exporter": "python",
      "pygments_lexer": "ipython3",
      "version": "3.10.9"
    }
  },
  "nbformat": 4,
  "nbformat_minor": 0
}
