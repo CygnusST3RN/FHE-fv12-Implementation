{
  "cells": [
    {
      "cell_type": "markdown",
      "metadata": {
        "colab_type": "text",
        "id": "view-in-github"
      },
      "source": [
        "<a href=\"https://colab.research.google.com/github/CygnusST3RN/FHE.0/blob/ankita_ml/FHE_ML.ipynb\" target=\"_parent\"><img src=\"https://colab.research.google.com/assets/colab-badge.svg\" alt=\"Open In Colab\"/></a>"
      ]
    },
    {
      "cell_type": "code",
      "execution_count": 1,
      "metadata": {
        "id": "8b6vkXoZ9Udt"
      },
      "outputs": [],
      "source": [
        "import pandas as pd\n",
        "import numpy as np\n",
        "import tensorflow as tf\n",
        "# from keras import backend as K\n",
        "from sklearn.model_selection import train_test_split\n",
        "from sklearn.preprocessing import StandardScaler,MinMaxScaler\n",
        "\n",
        "import BFV_Scheme.bfv as bfv\n",
        "import random\n"
      ]
    },
    {
      "cell_type": "markdown",
      "metadata": {},
      "source": [
        "Initialize BFV Parameters"
      ]
    },
    {
      "cell_type": "code",
      "execution_count": 2,
      "metadata": {},
      "outputs": [
        {
          "name": "stdout",
          "output_type": "stream",
          "text": [
            "Initialised\n",
            "Eval Key:0/75 Done\n",
            "Eval Key:1/75 Done\n",
            "Eval Key:2/75 Done\n",
            "Eval Key:3/75 Done\n",
            "Eval Key:4/75 Done\n",
            "Eval Key:5/75 Done\n",
            "Eval Key:6/75 Done\n",
            "Eval Key:7/75 Done\n",
            "Eval Key:8/75 Done\n",
            "Eval Key:9/75 Done\n",
            "Eval Key:10/75 Done\n",
            "Eval Key:11/75 Done\n",
            "Eval Key:12/75 Done\n",
            "Eval Key:13/75 Done\n",
            "Eval Key:14/75 Done\n",
            "Eval Key:15/75 Done\n",
            "Eval Key:16/75 Done\n",
            "Eval Key:17/75 Done\n",
            "Eval Key:18/75 Done\n",
            "Eval Key:19/75 Done\n",
            "Eval Key:20/75 Done\n",
            "Eval Key:21/75 Done\n",
            "Eval Key:22/75 Done\n",
            "Eval Key:23/75 Done\n",
            "Eval Key:24/75 Done\n",
            "Eval Key:25/75 Done\n",
            "Eval Key:26/75 Done\n",
            "Eval Key:27/75 Done\n",
            "Eval Key:28/75 Done\n",
            "Eval Key:29/75 Done\n",
            "Eval Key:30/75 Done\n",
            "Eval Key:31/75 Done\n",
            "Eval Key:32/75 Done\n",
            "Eval Key:33/75 Done\n",
            "Eval Key:34/75 Done\n",
            "Eval Key:35/75 Done\n",
            "Eval Key:36/75 Done\n",
            "Eval Key:37/75 Done\n",
            "Eval Key:38/75 Done\n",
            "Eval Key:39/75 Done\n",
            "Eval Key:40/75 Done\n",
            "Eval Key:41/75 Done\n",
            "Eval Key:42/75 Done\n",
            "Eval Key:43/75 Done\n",
            "Eval Key:44/75 Done\n",
            "Eval Key:45/75 Done\n",
            "Eval Key:46/75 Done\n",
            "Eval Key:47/75 Done\n",
            "Eval Key:48/75 Done\n",
            "Eval Key:49/75 Done\n",
            "Eval Key:50/75 Done\n",
            "Eval Key:51/75 Done\n",
            "Eval Key:52/75 Done\n",
            "Eval Key:53/75 Done\n",
            "Eval Key:54/75 Done\n",
            "Eval Key:55/75 Done\n",
            "Eval Key:56/75 Done\n",
            "Eval Key:57/75 Done\n",
            "Eval Key:58/75 Done\n",
            "Eval Key:59/75 Done\n",
            "Eval Key:60/75 Done\n",
            "Eval Key:61/75 Done\n",
            "Eval Key:62/75 Done\n",
            "Eval Key:63/75 Done\n",
            "Eval Key:64/75 Done\n",
            "Eval Key:65/75 Done\n",
            "Eval Key:66/75 Done\n",
            "Eval Key:67/75 Done\n",
            "Eval Key:68/75 Done\n",
            "Eval Key:69/75 Done\n",
            "Eval Key:70/75 Done\n",
            "Eval Key:71/75 Done\n",
            "Eval Key:72/75 Done\n",
            "Eval Key:73/75 Done\n",
            "Eval Key:74/75 Done\n",
            "Eval Key:75/75 Done\n"
          ]
        }
      ],
      "source": [
        "\n",
        "params = bfv.Params(4, 2, 2**27, 2**75)\n",
        "fv12= bfv.FV12(params)\n",
        "public_key,private_key=fv12.generate_keys()\n"
      ]
    },
    {
      "cell_type": "code",
      "execution_count": 3,
      "metadata": {},
      "outputs": [
        {
          "name": "stdout",
          "output_type": "stream",
          "text": [
            "Unencrypted:\n",
            "a^2=64\n",
            "Encrypted:\n"
          ]
        },
        {
          "name": "stdout",
          "output_type": "stream",
          "text": [
            "a^2=71\n",
            "Unencrypted:\n",
            "a^2=36\n",
            "Encrypted:\n",
            "a^2=37\n",
            "Unencrypted:\n",
            "a^2=25\n",
            "Encrypted:\n",
            "a^2=25\n",
            "Unencrypted:\n",
            "a^2=36\n",
            "Encrypted:\n",
            "a^2=33\n",
            "Unencrypted:\n",
            "a^2=4\n",
            "Encrypted:\n",
            "a^2=4\n",
            "Unencrypted:\n",
            "a^2=36\n",
            "Encrypted:\n",
            "a^2=31\n",
            "Unencrypted:\n",
            "a^2=9\n",
            "Encrypted:\n",
            "a^2=6\n",
            "Unencrypted:\n",
            "a^2=4\n",
            "Encrypted:\n",
            "a^2=-2\n",
            "Unencrypted:\n",
            "a^2=25\n",
            "Encrypted:\n",
            "a^2=24\n",
            "Unencrypted:\n",
            "a^2=100\n",
            "Encrypted:\n",
            "a^2=100\n"
          ]
        }
      ],
      "source": [
        "for i in range(10):\n",
        "    \n",
        "    a=random.randrange(-10,10)\n",
        "   \n",
        "    print('Unencrypted:')\n",
        "    print('a^2='+str(a**2))\n",
        "    a_encrypted=public_key.encrypt(a)\n",
        "   \n",
        "    print('Encrypted:')\n",
        "    print('a^2='+str(private_key.decrypt(a_encrypted**2)))"
      ]
    },
    {
      "cell_type": "code",
      "execution_count": 4,
      "metadata": {},
      "outputs": [
        {
          "name": "stdout",
          "output_type": "stream",
          "text": [
            "9902\n"
          ]
        }
      ],
      "source": [
        "a=public_key.encrypt(100)\n",
        "print(private_key.decrypt((a**2)-a))"
      ]
    },
    {
      "cell_type": "markdown",
      "metadata": {},
      "source": [
        "Scale Input Values Based on Plaintext modulus and read Dataset "
      ]
    },
    {
      "cell_type": "code",
      "execution_count": 5,
      "metadata": {
        "id": "moQ07oZ8XhLK"
      },
      "outputs": [],
      "source": [
        "def read_dataset(url,col,scale):\n",
        "  df=pd.read_csv(url)\n",
        "  df.drop(\"Unnamed: 32\", axis=1, inplace=True)\n",
        "  X = df.iloc[:, col+1:]\n",
        "  col_name=df.columns[col]\n",
        "  y = df[col_name]\n",
        "  for i in range (0,len(df)):\n",
        "    if y[i]=='M':\n",
        "      y[i]=1\n",
        "    else:\n",
        "      y[i]=0\n",
        "  X_train, X_test, y_train, y_test = train_test_split(\n",
        "  X,y , random_state=104,test_size=0.25, shuffle=True)\n",
        "  X_train=np.asarray(X_train).astype('float32')\n",
        "  X_test=np.asarray(X_test).astype('float32')\n",
        "  y_train=np.asarray(y_train).astype('float32')\n",
        "  y_test=np.asarray(y_test).astype('float32')\n",
        "  scaler = MinMaxScaler(feature_range=(0, scale))\n",
        "  X_train = scaler.fit_transform(X_train)\n",
        "  X_test = scaler.transform(X_test)\n",
        "  print(X_test.shape)\n",
        "  return X_train, X_test, y_train, y_test\n"
      ]
    },
    {
      "cell_type": "code",
      "execution_count": 6,
      "metadata": {
        "colab": {
          "base_uri": "https://localhost:8080/"
        },
        "id": "qkptBY6mZN9v",
        "outputId": "f15404f2-5f80-48c0-cb10-d239619acaf3"
      },
      "outputs": [
        {
          "name": "stderr",
          "output_type": "stream",
          "text": [
            "C:\\Users\\delwy\\AppData\\Local\\Temp\\ipykernel_16584\\3440237989.py:9: SettingWithCopyWarning: \n",
            "A value is trying to be set on a copy of a slice from a DataFrame\n",
            "\n",
            "See the caveats in the documentation: https://pandas.pydata.org/pandas-docs/stable/user_guide/indexing.html#returning-a-view-versus-a-copy\n",
            "  y[i]=1\n",
            "C:\\Users\\delwy\\AppData\\Local\\Temp\\ipykernel_16584\\3440237989.py:11: SettingWithCopyWarning: \n",
            "A value is trying to be set on a copy of a slice from a DataFrame\n",
            "\n",
            "See the caveats in the documentation: https://pandas.pydata.org/pandas-docs/stable/user_guide/indexing.html#returning-a-view-versus-a-copy\n",
            "  y[i]=0\n"
          ]
        },
        {
          "name": "stdout",
          "output_type": "stream",
          "text": [
            "(143, 30)\n"
          ]
        }
      ],
      "source": [
        "X_train, X_test, y_train, y_test = read_dataset('../dataset/data.csv',1,100)"
      ]
    },
    {
      "cell_type": "markdown",
      "metadata": {},
      "source": [
        "Train Model"
      ]
    },
    {
      "cell_type": "code",
      "execution_count": 7,
      "metadata": {
        "colab": {
          "base_uri": "https://localhost:8080/"
        },
        "id": "GECyRUvVpxp5",
        "outputId": "97517684-3103-4ba6-94a8-3dd48fe10c96"
      },
      "outputs": [
        {
          "name": "stdout",
          "output_type": "stream",
          "text": [
            "Epoch 1/30\n",
            "27/27 [==============================] - 1s 2ms/step - loss: 5858.0645 - accuracy: 0.6056\n",
            "Epoch 2/30\n",
            "27/27 [==============================] - 0s 2ms/step - loss: 3075.0903 - accuracy: 0.5000\n",
            "Epoch 3/30\n",
            "27/27 [==============================] - 0s 2ms/step - loss: 1479.9896 - accuracy: 0.4014\n",
            "Epoch 4/30\n",
            "27/27 [==============================] - 0s 2ms/step - loss: 1136.4515 - accuracy: 0.4319\n",
            "Epoch 5/30\n",
            "27/27 [==============================] - 0s 2ms/step - loss: 920.7995 - accuracy: 0.4718\n",
            "Epoch 6/30\n",
            "27/27 [==============================] - 0s 2ms/step - loss: 741.8455 - accuracy: 0.4977\n",
            "Epoch 7/30\n",
            "27/27 [==============================] - 0s 2ms/step - loss: 608.9535 - accuracy: 0.5282\n",
            "Epoch 8/30\n",
            "27/27 [==============================] - 0s 2ms/step - loss: 499.3505 - accuracy: 0.5563\n",
            "Epoch 9/30\n",
            "27/27 [==============================] - 0s 3ms/step - loss: 423.5744 - accuracy: 0.5962\n",
            "Epoch 10/30\n",
            "27/27 [==============================] - 0s 4ms/step - loss: 351.7495 - accuracy: 0.6174\n",
            "Epoch 11/30\n",
            "27/27 [==============================] - 0s 2ms/step - loss: 299.7867 - accuracy: 0.6385\n",
            "Epoch 12/30\n",
            "27/27 [==============================] - 0s 2ms/step - loss: 258.8301 - accuracy: 0.6714\n",
            "Epoch 13/30\n",
            "27/27 [==============================] - 0s 2ms/step - loss: 223.9468 - accuracy: 0.6995\n",
            "Epoch 14/30\n",
            "27/27 [==============================] - 0s 2ms/step - loss: 196.5963 - accuracy: 0.7089\n",
            "Epoch 15/30\n",
            "27/27 [==============================] - 0s 2ms/step - loss: 173.8701 - accuracy: 0.7207\n",
            "Epoch 16/30\n",
            "27/27 [==============================] - 0s 2ms/step - loss: 155.3771 - accuracy: 0.7300\n",
            "Epoch 17/30\n",
            "27/27 [==============================] - 0s 2ms/step - loss: 140.4256 - accuracy: 0.7441\n",
            "Epoch 18/30\n",
            "27/27 [==============================] - 0s 2ms/step - loss: 123.2491 - accuracy: 0.7488\n",
            "Epoch 19/30\n",
            "27/27 [==============================] - 0s 2ms/step - loss: 113.1072 - accuracy: 0.7817\n",
            "Epoch 20/30\n",
            "27/27 [==============================] - 0s 2ms/step - loss: 102.1031 - accuracy: 0.7653\n",
            "Epoch 21/30\n",
            "27/27 [==============================] - 0s 3ms/step - loss: 94.0249 - accuracy: 0.7793\n",
            "Epoch 22/30\n",
            "27/27 [==============================] - 0s 2ms/step - loss: 86.8391 - accuracy: 0.7746\n",
            "Epoch 23/30\n",
            "27/27 [==============================] - 0s 2ms/step - loss: 81.1253 - accuracy: 0.7934\n",
            "Epoch 24/30\n",
            "27/27 [==============================] - 0s 2ms/step - loss: 76.3344 - accuracy: 0.7887\n",
            "Epoch 25/30\n",
            "27/27 [==============================] - 0s 2ms/step - loss: 70.2434 - accuracy: 0.8169\n",
            "Epoch 26/30\n",
            "27/27 [==============================] - 0s 2ms/step - loss: 65.8586 - accuracy: 0.8122\n",
            "Epoch 27/30\n",
            "27/27 [==============================] - 0s 2ms/step - loss: 60.8147 - accuracy: 0.8122\n",
            "Epoch 28/30\n",
            "27/27 [==============================] - 0s 2ms/step - loss: 57.9823 - accuracy: 0.8146\n",
            "Epoch 29/30\n",
            "27/27 [==============================] - 0s 2ms/step - loss: 55.2448 - accuracy: 0.8380\n",
            "Epoch 30/30\n",
            "27/27 [==============================] - 0s 2ms/step - loss: 52.5981 - accuracy: 0.8333\n",
            "Test Accuracy: 86.01%\n"
          ]
        }
      ],
      "source": [
        "def custom_relu(x):\n",
        "    return x*x\n",
        "model = tf.keras.Sequential([\n",
        "    tf.keras.layers.Input(shape=(30,)),\n",
        "    tf.keras.layers.Dense(2),\n",
        "    tf.keras.layers.Activation(custom_relu),\n",
        "    tf.keras.layers.Dense(1,activation='sigmoid'),\n",
        "])\n",
        "model.compile(optimizer='adam', loss='binary_crossentropy', metrics=['accuracy'])\n",
        "model.fit(X_train, y_train, epochs=30, batch_size=16)\n",
        "loss, accuracy = model.evaluate(X_test, y_test, verbose=0)\n",
        "print(f\"Test Accuracy: {accuracy*100:.2f}%\")"
      ]
    },
    {
      "cell_type": "code",
      "execution_count": 8,
      "metadata": {},
      "outputs": [
        {
          "name": "stdout",
          "output_type": "stream",
          "text": [
            "Model: \"sequential\"\n",
            "_________________________________________________________________\n",
            " Layer (type)                Output Shape              Param #   \n",
            "=================================================================\n",
            " dense (Dense)               (None, 2)                 62        \n",
            "                                                                 \n",
            " activation (Activation)     (None, 2)                 0         \n",
            "                                                                 \n",
            " dense_1 (Dense)             (None, 1)                 3         \n",
            "                                                                 \n",
            "=================================================================\n",
            "Total params: 65\n",
            "Trainable params: 65\n",
            "Non-trainable params: 0\n",
            "_________________________________________________________________\n",
            "None\n"
          ]
        }
      ],
      "source": [
        "print(model.summary())"
      ]
    },
    {
      "cell_type": "markdown",
      "metadata": {},
      "source": [
        "Save Quantised Model Weights"
      ]
    },
    {
      "cell_type": "code",
      "execution_count": 9,
      "metadata": {
        "id": "C53x244N-l9V"
      },
      "outputs": [],
      "source": [
        "def create_model_weights_file(model,scale):\n",
        "  i=0\n",
        "  for layer in model.layers:\n",
        "    if('activation' in layer.name):\n",
        "      continue\n",
        "    w = (layer.get_weights()[0]).T\n",
        "    \n",
        "    b = (layer.get_weights()[1]).T\n",
        "    w=np.round_(w*scale).astype(int)\n",
        "    b=np.round_(b*scale).astype(int)\n",
        "    file_name = 'layer'+str(i)+'.npy'\n",
        "    with open(file_name, 'wb') as f:\n",
        "        np.save(f, w)\n",
        "        np.save(f, b)\n",
        "    i=i+1\n"
      ]
    },
    {
      "cell_type": "code",
      "execution_count": 10,
      "metadata": {
        "id": "HmVrDk8A-mFD"
      },
      "outputs": [],
      "source": [
        "create_model_weights_file(model,100)"
      ]
    },
    {
      "cell_type": "markdown",
      "metadata": {},
      "source": [
        "Custom class for inference on encrypted data\n"
      ]
    },
    {
      "cell_type": "code",
      "execution_count": 11,
      "metadata": {},
      "outputs": [],
      "source": [
        "class Model:\n",
        "    def __init__(self,n_features,n_layers,n_layer_neurons,layer_activations,layer_weight_files):\n",
        "        self.n_features=n_features\n",
        "        self.n_layers=n_layers\n",
        "        self.n_layer_neurons=n_layer_neurons\n",
        "        self.layer_activations=layer_activations\n",
        "        self.weights=[]\n",
        "        self.biases=[]\n",
        "        for wt_file in layer_weight_files:\n",
        "            with open(wt_file, 'rb') as f:\n",
        "              self.weights.append(np.load(f).tolist())\n",
        "              self.biases.append(np.load(f).tolist())\n",
        "    def __matmul(self,a,b):\n",
        "        ## Input: a to be 2-D (n_layer_neurons[layer_no],n_features)and b to be 1-D list\n",
        "        # Output : a 1-D list \n",
        "        output=[]\n",
        "        for i in range(len(a)):\n",
        "            res=0\n",
        "            for j in range(len(b)):\n",
        "                res=a[i][j]*b[j]+res\n",
        "            output.append(res)\n",
        "        return output\n",
        "    \n",
        "    def __matadd(self,a,b):\n",
        "        ## Input: a and b to be 1-D list\n",
        "        # Output : a 1-D list \n",
        "        ## For memory saving b is modified in calculations so be careful about order of inputs\n",
        "        \n",
        "        for i in range(len(a)):\n",
        "            b[i]=b[i]+a[i]\n",
        "        return b  \n",
        "    \n",
        "    def infer(self,x,encrypted=True):\n",
        "        for i in range(self.n_layers):\n",
        "            \n",
        "            new_x=self.__matmul(self.weights[i],x)\n",
        "            new_x=self.__matadd(self.biases[i],new_x)\n",
        "            \n",
        "            if(self.layer_activations[i]=='relu'):\n",
        "               \n",
        "                x=[t**2 for t in new_x]\n",
        "                # if(encrypted==True):\n",
        "                #     temp=copy.deepcopy(new_x)\n",
        "                #     for t in temp:\n",
        "                #         print(private_key.decrypt(t))\n",
        "                #     temp=copy.deepcopy(x)\n",
        "                #     for t in temp:\n",
        "                #         print(private_key.decrypt(t))\n",
        "                if(encrypted==True):\n",
        "                    x=[t**2+t for t in new_x]\n",
        "                # else:\n",
        "                #     x=[max(0,t) for t in new_x]\n",
        "            else:  \n",
        "                x=new_x  \n",
        "        return x[0]      \n",
        "       \n",
        "            \n",
        "        \n",
        "        \n",
        "        \n",
        "        "
      ]
    },
    {
      "cell_type": "code",
      "execution_count": 12,
      "metadata": {},
      "outputs": [],
      "source": [
        "model=Model(30,2,[2,1],['custom_relu','none'],['layer0.npy','layer1.npy'])"
      ]
    },
    {
      "cell_type": "markdown",
      "metadata": {},
      "source": [
        "Test out accuracy on Encrypted and Unencrypted test data"
      ]
    },
    {
      "cell_type": "code",
      "execution_count": 13,
      "metadata": {},
      "outputs": [
        {
          "name": "stdout",
          "output_type": "stream",
          "text": [
            "Accuracy on unencrypted Test Data:0.6083916083916084\n",
            "Accuracy on encrypted test data:0.6083916083916084\n"
          ]
        }
      ],
      "source": [
        "normal_acc=0\n",
        "encrypted_acc=0\n",
        "limit=len(X_test)\n",
        "for i in range(limit):\n",
        "    x=X_test[i].tolist()\n",
        "    x_encrypted=[public_key.encrypt(t) for t in x]\n",
        "    normal_res=model.infer(x,False)\n",
        "    encrypted_res=private_key.decrypt(model.infer(x_encrypted))\n",
        "    #print('Unencryted Inference:'+str(normal_res)+\" Encrypted Inference:\"+str(encrypted_res))\n",
        "    if (normal_res>0 and y_test[i]==1) or (normal_res<=0 and y_test[i]==0):\n",
        "        normal_acc+=1\n",
        "    if (encrypted_res>0 and y_test[i]==1) or (encrypted_res<=0 and y_test[i]==0):\n",
        "        encrypted_acc+=1\n",
        "print('Accuracy on unencrypted Test Data:'+str(normal_acc/limit))\n",
        "print('Accuracy on encrypted test data:'+str(encrypted_acc/limit))\n",
        "  "
      ]
    }
  ],
  "metadata": {
    "accelerator": "GPU",
    "colab": {
      "gpuType": "T4",
      "include_colab_link": true,
      "provenance": []
    },
    "kernelspec": {
      "display_name": "Python 3",
      "name": "python3"
    },
    "language_info": {
      "codemirror_mode": {
        "name": "ipython",
        "version": 3
      },
      "file_extension": ".py",
      "mimetype": "text/x-python",
      "name": "python",
      "nbconvert_exporter": "python",
      "pygments_lexer": "ipython3",
      "version": "3.10.9"
    }
  },
  "nbformat": 4,
  "nbformat_minor": 0
}
