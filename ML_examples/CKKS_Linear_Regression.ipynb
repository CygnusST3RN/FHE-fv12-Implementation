{
 "cells": [
  {
   "cell_type": "code",
   "execution_count": 1,
   "metadata": {},
   "outputs": [],
   "source": [
    "import pandas as pd\n",
    "import numpy as np\n",
    "import tensorflow as tf\n",
    "from sklearn.model_selection import train_test_split\n",
    "from sklearn.preprocessing import StandardScaler,MinMaxScaler\n",
    "from CKKS_Scheme.ckks_encoder import CKKSEncoder\n",
    "from CKKS_Scheme.ckks import Params,CKKS\n",
    "from utils.plaintext import Plaintext\n",
    "from utils.poly import Polynomial\n",
    "import math \n",
    "from math import floor"
   ]
  },
  {
   "cell_type": "code",
   "execution_count": 2,
   "metadata": {},
   "outputs": [],
   "source": [
    "\n",
    "params = Params(8,  1<<600,1<<1200)\n",
    "ckks= CKKS(params)\n",
    "public_key,private_key=ckks.generate_keys()\n"
   ]
  },
  {
   "cell_type": "code",
   "execution_count": 3,
   "metadata": {},
   "outputs": [],
   "source": [
    "def read_dataset(url,col):\n",
    "  df=pd.read_csv(url)\n",
    "#   df.drop(\"Price\", axis=1, inplace=True)\n",
    "  X = df.iloc[:, :col]\n",
    "  col_name=df.columns[col]\n",
    "  y = df[col_name]\n",
    "  X_train, X_test, y_train, y_test = train_test_split(\n",
    "  X,y , random_state=104,test_size=0.25, shuffle=True)\n",
    "  X_train=np.asarray(X_train).astype('float32')\n",
    "  X_test=np.asarray(X_test).astype('float32')\n",
    "  y_train=np.asarray(y_train).astype('float32')\n",
    "  y_test=np.asarray(y_test).astype('float32')\n",
    "  scaler = StandardScaler()\n",
    "  X_train = scaler.fit_transform(X_train)\n",
    "  X_test = scaler.transform(X_test)\n",
    "  y_train=y_train.reshape(-1,1)\n",
    "  y_test=y_test.reshape(-1,1)\n",
    "  y_train = scaler.fit_transform(y_train)\n",
    "  y_test = scaler.transform(y_test)\n",
    "  y_train=y_train[:,0]\n",
    "  y_test=y_test[:,0]\n",
    "  print(X_test.shape)\n",
    "  return X_train, X_test, y_train, y_test"
   ]
  },
  {
   "cell_type": "code",
   "execution_count": 4,
   "metadata": {},
   "outputs": [
    {
     "name": "stdout",
     "output_type": "stream",
     "text": [
      "(1250, 5)\n"
     ]
    }
   ],
   "source": [
    "X_train, X_test, y_train, y_test = read_dataset('../dataset/USA_Housing.csv',5)"
   ]
  },
  {
   "cell_type": "code",
   "execution_count": 5,
   "metadata": {},
   "outputs": [
    {
     "data": {
      "text/plain": [
       "array([-2.349955  , -0.42323497,  2.6654403 , ..., -0.6044362 ,\n",
       "        1.3268416 ,  0.35598105], dtype=float32)"
      ]
     },
     "execution_count": 5,
     "metadata": {},
     "output_type": "execute_result"
    }
   ],
   "source": [
    "y_train"
   ]
  },
  {
   "cell_type": "code",
   "execution_count": 6,
   "metadata": {},
   "outputs": [
    {
     "name": "stdout",
     "output_type": "stream",
     "text": [
      "Epoch 1/30\n",
      "235/235 [==============================] - 1s 2ms/step - loss: 5.5665\n",
      "Epoch 2/30\n",
      "235/235 [==============================] - 0s 2ms/step - loss: 2.1041\n",
      "Epoch 3/30\n",
      "235/235 [==============================] - 0s 2ms/step - loss: 1.2636\n",
      "Epoch 4/30\n",
      "235/235 [==============================] - 0s 2ms/step - loss: 0.8903\n",
      "Epoch 5/30\n",
      "235/235 [==============================] - 0s 2ms/step - loss: 0.6433\n",
      "Epoch 6/30\n",
      "235/235 [==============================] - 0s 2ms/step - loss: 0.4476\n",
      "Epoch 7/30\n",
      "235/235 [==============================] - 0s 2ms/step - loss: 0.3048\n",
      "Epoch 8/30\n",
      "235/235 [==============================] - 0s 2ms/step - loss: 0.2149\n",
      "Epoch 9/30\n",
      "235/235 [==============================] - 0s 2ms/step - loss: 0.1632\n",
      "Epoch 10/30\n",
      "235/235 [==============================] - 0s 2ms/step - loss: 0.1333\n",
      "Epoch 11/30\n",
      "235/235 [==============================] - 0s 2ms/step - loss: 0.1150\n",
      "Epoch 12/30\n",
      "235/235 [==============================] - 0s 2ms/step - loss: 0.1040\n",
      "Epoch 13/30\n",
      "235/235 [==============================] - 0s 2ms/step - loss: 0.0969\n",
      "Epoch 14/30\n",
      "235/235 [==============================] - 0s 2ms/step - loss: 0.0923\n",
      "Epoch 15/30\n",
      "235/235 [==============================] - 0s 2ms/step - loss: 0.0892\n",
      "Epoch 16/30\n",
      "235/235 [==============================] - 0s 1ms/step - loss: 0.0872\n",
      "Epoch 17/30\n",
      "235/235 [==============================] - 0s 2ms/step - loss: 0.0859\n",
      "Epoch 18/30\n",
      "235/235 [==============================] - 0s 2ms/step - loss: 0.0849\n",
      "Epoch 19/30\n",
      "235/235 [==============================] - 0s 2ms/step - loss: 0.0842\n",
      "Epoch 20/30\n",
      "235/235 [==============================] - 0s 2ms/step - loss: 0.0839\n",
      "Epoch 21/30\n",
      "235/235 [==============================] - 0s 2ms/step - loss: 0.0836\n",
      "Epoch 22/30\n",
      "235/235 [==============================] - 0s 2ms/step - loss: 0.0832\n",
      "Epoch 23/30\n",
      "235/235 [==============================] - 0s 2ms/step - loss: 0.0829\n",
      "Epoch 24/30\n",
      "235/235 [==============================] - 0s 2ms/step - loss: 0.0827\n",
      "Epoch 25/30\n",
      "235/235 [==============================] - 0s 2ms/step - loss: 0.0825\n",
      "Epoch 26/30\n",
      "235/235 [==============================] - 0s 2ms/step - loss: 0.0826\n",
      "Epoch 27/30\n",
      "235/235 [==============================] - 0s 1ms/step - loss: 0.0825\n",
      "Epoch 28/30\n",
      "235/235 [==============================] - 0s 1ms/step - loss: 0.0824\n",
      "Epoch 29/30\n",
      "235/235 [==============================] - 0s 2ms/step - loss: 0.0824\n",
      "Epoch 30/30\n",
      "235/235 [==============================] - 0s 1ms/step - loss: 0.0822\n",
      "Test Loss: 0.08\n"
     ]
    }
   ],
   "source": [
    "def custom_relu(x):\n",
    "    return x*x\n",
    "model = tf.keras.Sequential([\n",
    "    tf.keras.layers.Input(shape=(5,)),\n",
    "\n",
    "    tf.keras.layers.Dense(5),\n",
    "    tf.keras.layers.Activation(custom_relu),\n",
    "    tf.keras.layers.Dense(1),\n",
    "])\n",
    "model.compile(optimizer='adam', loss='mse')\n",
    "model.fit(X_train, y_train, epochs=30, batch_size=16)\n",
    "loss = model.evaluate(X_test, y_test, verbose=0)\n",
    "print(f\"Test Loss: {loss:.2f}\")"
   ]
  },
  {
   "cell_type": "code",
   "execution_count": 7,
   "metadata": {},
   "outputs": [],
   "source": [
    "def create_model_weights_file(model):\n",
    "  i=0\n",
    "  for layer in model.layers:\n",
    "    if('activation' in layer.name):\n",
    "      continue\n",
    "    w = (layer.get_weights()[0]).T\n",
    "    \n",
    "    b = (layer.get_weights()[1]).T\n",
    "    file_name = 'layer'+str(i)+'.npy'\n",
    "    with open(file_name, 'wb') as f:\n",
    "        np.save(f, w)\n",
    "        np.save(f, b)\n",
    "    i=i+1\n"
   ]
  },
  {
   "cell_type": "code",
   "execution_count": 8,
   "metadata": {},
   "outputs": [],
   "source": [
    "create_model_weights_file(model)"
   ]
  },
  {
   "cell_type": "code",
   "execution_count": 9,
   "metadata": {},
   "outputs": [],
   "source": [
    "def encode_value(a,scale):\n",
    "    encoder=CKKSEncoder(16,scale)\n",
    "    a_encoded=encoder.encode(np.array([a]*4))\n",
    "    a_encoded=Polynomial(a_encoded.coef)\n",
    "    a_encoded.poly_floor()\n",
    "    a_pt=Plaintext(a_encoded,scale)\n",
    "    return a_pt\n",
    "def encrypt_input(x,scale):\n",
    "    res=[]\n",
    "    for item in x:\n",
    "        item_pt=encode_value(item,scale)\n",
    "        item_encrypted=public_key.encrypt(item_pt)\n",
    "        res.append(item_encrypted)\n",
    "    return res\n",
    "    \n",
    "    "
   ]
  },
  {
   "cell_type": "code",
   "execution_count": 10,
   "metadata": {},
   "outputs": [],
   "source": [
    "class Model:\n",
    "    def __init__(self,n_features,n_layers,n_layer_neurons,layer_activations,layer_weight_files,encrypted):\n",
    "        self.n_features=n_features\n",
    "        self.n_layers=n_layers\n",
    "        self.n_layer_neurons=n_layer_neurons\n",
    "        self.layer_activations=layer_activations\n",
    "        self.weights=[]\n",
    "        self.biases=[]\n",
    "        self.encrypted=encrypted\n",
    "        layer_number=0\n",
    "        b_scale=1<<20\n",
    "        for wt_file in layer_weight_files:\n",
    "            with open(wt_file, 'rb') as f:\n",
    "              if self.encrypted==True:\n",
    "                  w=np.load(f)\n",
    "                  r,c=np.shape(w)\n",
    "                  res_w=[]\n",
    "                  for i in range(r):\n",
    "                      row=[]\n",
    "                      for j in range(c):\n",
    "                          row.append(encode_value(w[i][j],b_scale))\n",
    "                      res_w.append(row)\n",
    "                  b=np.load(f)\n",
    "                  res_b=[]\n",
    "                #   b_scale=b_scale*(1<<12)\n",
    "                  for i in b:\n",
    "                        res_b.append(encode_value(i,b_scale))\n",
    "                       \n",
    "                #   if self.layer_activations[layer_number]=='relu':\n",
    "                #         b_scale=b_scale**2\n",
    "                  self.weights.append(res_w)\n",
    "                  self.biases.append(res_b)\n",
    "                  layer_number+=1\n",
    "                   \n",
    "              \n",
    "              else:\n",
    "                self.weights.append(np.load(f).tolist())\n",
    "                self.biases.append(np.load(f).tolist())\n",
    "                \n",
    "    def __matmul(self,a,b):\n",
    "        ## Input: a to be 2-D (n_layer_neurons[layer_no],n_features)and b to be 1-D list\n",
    "        # Output : a 1-D list \n",
    "        output=[]\n",
    "        for i in range(len(a)):\n",
    "            res=a[i][0]*b[0]\n",
    "            for j in range(1,len(b)):\n",
    "                res=a[i][j]*b[j]+res\n",
    "            output.append(res)\n",
    "        return output\n",
    "    \n",
    "    def __matadd(self,a,b):\n",
    "        ## Input: a and b to be 1-D list\n",
    "        # Output : a 1-D list \n",
    "        ## For memory saving b is modified in calculations so be careful about order of inputs\n",
    "        \n",
    "        for i in range(len(a)):\n",
    "            b[i]=b[i]+a[i]\n",
    "        return b  \n",
    "    \n",
    "    def infer(self,x):\n",
    "        for i in range(self.n_layers):\n",
    "            \n",
    "            new_x=self.__matmul(self.weights[i],x)\n",
    "            new_x=self.__matadd(self.biases[i],new_x)\n",
    "            \n",
    "            if(self.layer_activations[i]=='relu'):\n",
    "               \n",
    "                x=[t**2 for t in new_x]\n",
    "               \n",
    "            else:  \n",
    "                x=new_x  \n",
    "        return x[0]\n"
   ]
  },
  {
   "cell_type": "code",
   "execution_count": 11,
   "metadata": {},
   "outputs": [],
   "source": [
    "model_encrypted=Model(30,2,[2,1],['relu','none'],['layer0.npy','layer1.npy'],True)\n",
    "model_unencrypted=Model(30,2,[2,1],['relu','none'],['layer0.npy','layer1.npy'],False)"
   ]
  },
  {
   "cell_type": "code",
   "execution_count": 12,
   "metadata": {},
   "outputs": [
    {
     "name": "stdout",
     "output_type": "stream",
     "text": [
      "Loss on unencrypted Test Data:0.08112754622877502\n",
      "Loss on encrypted test data:0.08115129906685117\n"
     ]
    }
   ],
   "source": [
    "normal_mse=0\n",
    "encrypted_mse=0\n",
    "limit=len(X_test)\n",
    "for i in range(limit):\n",
    "    x=X_test[i].tolist()\n",
    "    x_encrypted=encrypt_input(x,1<<12)\n",
    "    normal_res=model_unencrypted.infer(x)\n",
    "    pt_dash=private_key.decrypt(model_encrypted.infer(x_encrypted))\n",
    "    pt=np.polynomial.Polynomial(pt_dash.poly.convert_to_list())\n",
    "    encoder=CKKSEncoder(16,pt_dash.scale)\n",
    "    pt=encoder.decode(pt)\n",
    "    encrypted_res=pt[0].real\n",
    "    #print('Unencryted Inference:'+str(normal_res)+\" Encrypted Inference:\"+str(encrypted_res)+\" Actual Answer:\"+str(y_test[i]))\n",
    "    normal_mse+=(y_test[i]-normal_res)**2\n",
    "    encrypted_mse+=(y_test[i]-encrypted_res)**2\n",
    "\n",
    "print('Loss on unencrypted Test Data:'+str(normal_mse/limit))\n",
    "print('Loss on encrypted test data:'+str(encrypted_mse/limit))"
   ]
  },
  {
   "cell_type": "code",
   "execution_count": null,
   "metadata": {},
   "outputs": [],
   "source": []
  }
 ],
 "metadata": {
  "kernelspec": {
   "display_name": "base",
   "language": "python",
   "name": "python3"
  },
  "language_info": {
   "codemirror_mode": {
    "name": "ipython",
    "version": 3
   },
   "file_extension": ".py",
   "mimetype": "text/x-python",
   "name": "python",
   "nbconvert_exporter": "python",
   "pygments_lexer": "ipython3",
   "version": "3.10.9"
  }
 },
 "nbformat": 4,
 "nbformat_minor": 2
}
