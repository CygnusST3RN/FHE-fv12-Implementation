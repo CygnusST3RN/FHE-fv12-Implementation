{
  "cells": [
    {
      "cell_type": "markdown",
      "metadata": {
        "colab_type": "text",
        "id": "view-in-github"
      },
      "source": [
        "<a href=\"https://colab.research.google.com/github/CygnusST3RN/FHE.0/blob/ankita_ml/FHE_ML.ipynb\" target=\"_parent\"><img src=\"https://colab.research.google.com/assets/colab-badge.svg\" alt=\"Open In Colab\"/></a>"
      ]
    },
    {
      "cell_type": "code",
      "execution_count": 1,
      "metadata": {
        "id": "8b6vkXoZ9Udt"
      },
      "outputs": [],
      "source": [
        "import pandas as pd\n",
        "import numpy as np\n",
        "import tensorflow as tf\n",
        "from sklearn.model_selection import train_test_split\n",
        "from sklearn.preprocessing import StandardScaler,MinMaxScaler\n",
        "import importlib  \n",
        "import bfv\n",
        "bfv=importlib.reload(bfv)"
      ]
    },
    {
      "cell_type": "markdown",
      "metadata": {},
      "source": [
        "Initialize BFV Parameters"
      ]
    },
    {
      "cell_type": "code",
      "execution_count": 2,
      "metadata": {},
      "outputs": [
        {
          "name": "stdout",
          "output_type": "stream",
          "text": [
            "Initialised\n",
            "Eval Key:0/43 Done\n",
            "Eval Key:1/43 Done\n",
            "Eval Key:2/43 Done\n",
            "Eval Key:3/43 Done\n",
            "Eval Key:4/43 Done\n",
            "Eval Key:5/43 Done\n",
            "Eval Key:6/43 Done\n",
            "Eval Key:7/43 Done\n",
            "Eval Key:8/43 Done\n",
            "Eval Key:9/43 Done\n",
            "Eval Key:10/43 Done\n",
            "Eval Key:11/43 Done\n",
            "Eval Key:12/43 Done\n",
            "Eval Key:13/43 Done\n",
            "Eval Key:14/43 Done\n",
            "Eval Key:15/43 Done\n",
            "Eval Key:16/43 Done\n",
            "Eval Key:17/43 Done\n",
            "Eval Key:18/43 Done\n",
            "Eval Key:19/43 Done\n",
            "Eval Key:20/43 Done\n",
            "Eval Key:21/43 Done\n",
            "Eval Key:22/43 Done\n",
            "Eval Key:23/43 Done\n",
            "Eval Key:24/43 Done\n",
            "Eval Key:25/43 Done\n",
            "Eval Key:26/43 Done\n",
            "Eval Key:27/43 Done\n",
            "Eval Key:28/43 Done\n",
            "Eval Key:29/43 Done\n",
            "Eval Key:30/43 Done\n",
            "Eval Key:31/43 Done\n",
            "Eval Key:32/43 Done\n",
            "Eval Key:33/43 Done\n",
            "Eval Key:34/43 Done\n",
            "Eval Key:35/43 Done\n",
            "Eval Key:36/43 Done\n",
            "Eval Key:37/43 Done\n",
            "Eval Key:38/43 Done\n",
            "Eval Key:39/43 Done\n",
            "Eval Key:40/43 Done\n",
            "Eval Key:41/43 Done\n",
            "Eval Key:42/43 Done\n",
            "Eval Key:43/43 Done\n"
          ]
        }
      ],
      "source": [
        "\n",
        "params = bfv.Params(128, 32, 4293918721, 2**218)\n",
        "fv12= bfv.FV12(params)\n",
        "public_key,private_key=fv12.generate_keys()\n"
      ]
    },
    {
      "cell_type": "markdown",
      "metadata": {},
      "source": [
        "Scale Input Values Based on Plaintext modulus and read Dataset "
      ]
    },
    {
      "cell_type": "code",
      "execution_count": 4,
      "metadata": {
        "id": "moQ07oZ8XhLK"
      },
      "outputs": [],
      "source": [
        "def read_dataset(url,col,scale):\n",
        "  df=pd.read_csv(url)\n",
        "  df.drop(\"Unnamed: 32\", axis=1, inplace=True)\n",
        "  X = df.iloc[:, col+1:]\n",
        "  col_name=df.columns[col]\n",
        "  y = df[col_name]\n",
        "  for i in range (0,len(df)):\n",
        "    if y[i]=='M':\n",
        "      y[i]=1\n",
        "    else:\n",
        "      y[i]=0\n",
        "  X_train, X_test, y_train, y_test = train_test_split(\n",
        "  X,y , random_state=104,test_size=0.25, shuffle=True)\n",
        "  X_train=np.asarray(X_train).astype('float32')\n",
        "  X_test=np.asarray(X_test).astype('float32')\n",
        "  y_train=np.asarray(y_train).astype('float32')\n",
        "  y_test=np.asarray(y_test).astype('float32')\n",
        "  scaler = MinMaxScaler(feature_range=(0, scale))\n",
        "  X_train = scaler.fit_transform(X_train)\n",
        "  X_test = scaler.transform(X_test)\n",
        "  print(X_test.shape)\n",
        "  return X_train, X_test, y_train, y_test\n"
      ]
    },
    {
      "cell_type": "code",
      "execution_count": 5,
      "metadata": {
        "colab": {
          "base_uri": "https://localhost:8080/"
        },
        "id": "qkptBY6mZN9v",
        "outputId": "f15404f2-5f80-48c0-cb10-d239619acaf3"
      },
      "outputs": [
        {
          "name": "stdout",
          "output_type": "stream",
          "text": [
            "(143, 30)\n"
          ]
        },
        {
          "name": "stderr",
          "output_type": "stream",
          "text": [
            "C:\\Users\\delwy\\AppData\\Local\\Temp\\ipykernel_22260\\3440237989.py:9: SettingWithCopyWarning: \n",
            "A value is trying to be set on a copy of a slice from a DataFrame\n",
            "\n",
            "See the caveats in the documentation: https://pandas.pydata.org/pandas-docs/stable/user_guide/indexing.html#returning-a-view-versus-a-copy\n",
            "  y[i]=1\n",
            "C:\\Users\\delwy\\AppData\\Local\\Temp\\ipykernel_22260\\3440237989.py:11: SettingWithCopyWarning: \n",
            "A value is trying to be set on a copy of a slice from a DataFrame\n",
            "\n",
            "See the caveats in the documentation: https://pandas.pydata.org/pandas-docs/stable/user_guide/indexing.html#returning-a-view-versus-a-copy\n",
            "  y[i]=0\n"
          ]
        }
      ],
      "source": [
        "X_train, X_test, y_train, y_test = read_dataset('./dataset/data.csv',1,1000)"
      ]
    },
    {
      "cell_type": "markdown",
      "metadata": {},
      "source": [
        "Train Model"
      ]
    },
    {
      "cell_type": "code",
      "execution_count": 13,
      "metadata": {
        "colab": {
          "base_uri": "https://localhost:8080/"
        },
        "id": "GECyRUvVpxp5",
        "outputId": "97517684-3103-4ba6-94a8-3dd48fe10c96"
      },
      "outputs": [
        {
          "name": "stdout",
          "output_type": "stream",
          "text": [
            "Epoch 1/30\n",
            "27/27 [==============================] - 1s 2ms/step - loss: 116.0200 - accuracy: 0.3662\n",
            "Epoch 2/30\n",
            "27/27 [==============================] - 0s 2ms/step - loss: 91.5453 - accuracy: 0.4272\n",
            "Epoch 3/30\n",
            "27/27 [==============================] - 0s 2ms/step - loss: 71.1968 - accuracy: 0.4648\n",
            "Epoch 4/30\n",
            "27/27 [==============================] - 0s 2ms/step - loss: 54.2875 - accuracy: 0.5376\n",
            "Epoch 5/30\n",
            "27/27 [==============================] - 0s 2ms/step - loss: 43.3938 - accuracy: 0.6033\n",
            "Epoch 6/30\n",
            "27/27 [==============================] - 0s 2ms/step - loss: 34.7248 - accuracy: 0.6338\n",
            "Epoch 7/30\n",
            "27/27 [==============================] - 0s 2ms/step - loss: 27.4837 - accuracy: 0.6784\n",
            "Epoch 8/30\n",
            "27/27 [==============================] - 0s 2ms/step - loss: 22.5734 - accuracy: 0.6925\n",
            "Epoch 9/30\n",
            "27/27 [==============================] - 0s 2ms/step - loss: 18.1053 - accuracy: 0.7371\n",
            "Epoch 10/30\n",
            "27/27 [==============================] - 0s 2ms/step - loss: 16.1664 - accuracy: 0.7582\n",
            "Epoch 11/30\n",
            "27/27 [==============================] - 0s 2ms/step - loss: 13.5902 - accuracy: 0.7676\n",
            "Epoch 12/30\n",
            "27/27 [==============================] - 0s 2ms/step - loss: 12.0008 - accuracy: 0.7746\n",
            "Epoch 13/30\n",
            "27/27 [==============================] - 0s 2ms/step - loss: 10.7081 - accuracy: 0.7864\n",
            "Epoch 14/30\n",
            "27/27 [==============================] - 0s 2ms/step - loss: 10.1773 - accuracy: 0.8052\n",
            "Epoch 15/30\n",
            "27/27 [==============================] - 0s 2ms/step - loss: 9.4386 - accuracy: 0.8216\n",
            "Epoch 16/30\n",
            "27/27 [==============================] - 0s 2ms/step - loss: 8.8217 - accuracy: 0.8239\n",
            "Epoch 17/30\n",
            "27/27 [==============================] - 0s 2ms/step - loss: 8.7277 - accuracy: 0.8404\n",
            "Epoch 18/30\n",
            "27/27 [==============================] - 0s 2ms/step - loss: 8.2316 - accuracy: 0.8333\n",
            "Epoch 19/30\n",
            "27/27 [==============================] - 0s 2ms/step - loss: 7.5615 - accuracy: 0.8427\n",
            "Epoch 20/30\n",
            "27/27 [==============================] - 0s 2ms/step - loss: 7.2195 - accuracy: 0.8568\n",
            "Epoch 21/30\n",
            "27/27 [==============================] - 0s 3ms/step - loss: 6.9864 - accuracy: 0.8685\n",
            "Epoch 22/30\n",
            "27/27 [==============================] - 0s 2ms/step - loss: 6.8386 - accuracy: 0.8545\n",
            "Epoch 23/30\n",
            "27/27 [==============================] - 0s 2ms/step - loss: 6.9677 - accuracy: 0.8638\n",
            "Epoch 24/30\n",
            "27/27 [==============================] - 0s 2ms/step - loss: 6.1270 - accuracy: 0.8779\n",
            "Epoch 25/30\n",
            "27/27 [==============================] - 0s 2ms/step - loss: 6.0552 - accuracy: 0.8756\n",
            "Epoch 26/30\n",
            "27/27 [==============================] - 0s 2ms/step - loss: 5.4864 - accuracy: 0.8756\n",
            "Epoch 27/30\n",
            "27/27 [==============================] - 0s 2ms/step - loss: 5.4869 - accuracy: 0.8803\n",
            "Epoch 28/30\n",
            "27/27 [==============================] - 0s 2ms/step - loss: 5.2698 - accuracy: 0.8685\n",
            "Epoch 29/30\n",
            "27/27 [==============================] - 0s 2ms/step - loss: 4.8255 - accuracy: 0.8850\n",
            "Epoch 30/30\n",
            "27/27 [==============================] - 0s 2ms/step - loss: 4.8915 - accuracy: 0.8685\n",
            "Test Accuracy: 90.91%\n"
          ]
        }
      ],
      "source": [
        "model = tf.keras.Sequential([\n",
        "    tf.keras.layers.Input(shape=(30,)),\n",
        "    tf.keras.layers.Dense(2),\n",
        "    tf.keras.layers.Dense(1,activation='sigmoid'),\n",
        "])\n",
        "model.compile(optimizer='adam', loss='binary_crossentropy', metrics=['accuracy'])\n",
        "model.fit(X_train, y_train, epochs=30, batch_size=16)\n",
        "loss, accuracy = model.evaluate(X_test, y_test, verbose=0)\n",
        "print(f\"Test Accuracy: {accuracy*100:.2f}%\")"
      ]
    },
    {
      "cell_type": "markdown",
      "metadata": {},
      "source": [
        "Save Quantised Model Weights"
      ]
    },
    {
      "cell_type": "code",
      "execution_count": 14,
      "metadata": {
        "id": "C53x244N-l9V"
      },
      "outputs": [],
      "source": [
        "def create_model_weights_file(model,scale):\n",
        "  i=0\n",
        "  for layer in model.layers:\n",
        "    w = (layer.get_weights()[0]).T\n",
        "    \n",
        "    b = (layer.get_weights()[1]).T\n",
        "    w=np.round_(w*scale).astype(int)\n",
        "    b=np.round_(b*scale).astype(int)\n",
        "    file_name = 'layer'+str(i)+'.npy'\n",
        "    with open(file_name, 'wb') as f:\n",
        "        np.save(f, w)\n",
        "        np.save(f, b)\n",
        "    i=i+1\n"
      ]
    },
    {
      "cell_type": "code",
      "execution_count": 15,
      "metadata": {
        "id": "HmVrDk8A-mFD"
      },
      "outputs": [],
      "source": [
        "create_model_weights_file(model,100)"
      ]
    },
    {
      "cell_type": "markdown",
      "metadata": {},
      "source": [
        "Custom class for inference on encrypted data\n"
      ]
    },
    {
      "cell_type": "code",
      "execution_count": 16,
      "metadata": {},
      "outputs": [],
      "source": [
        "class Model:\n",
        "    def __init__(self,n_features,n_layers,n_layer_neurons,layer_weight_files):\n",
        "        self.n_features=n_features\n",
        "        self.n_layers=n_layers\n",
        "        self.n_layer_neurons=n_layer_neurons\n",
        "        self.weights=[]\n",
        "        self.biases=[]\n",
        "        for wt_file in layer_weight_files:\n",
        "            with open(wt_file, 'rb') as f:\n",
        "              self.weights.append(np.load(f).tolist())\n",
        "              self.biases.append(np.load(f).tolist())\n",
        "    def __matmul(self,a,b):\n",
        "        ## Input: a to be 2-D (n_layer_neurons[layer_no],n_features)and b to be 1-D list\n",
        "        # Output : a 1-D list \n",
        "        output=[]\n",
        "        for i in range(len(a)):\n",
        "            res=0\n",
        "            for j in range(len(b)):\n",
        "                res=a[i][j]*b[j]+res\n",
        "            output.append(res)\n",
        "        return output\n",
        "    \n",
        "    def __matadd(self,a,b):\n",
        "        ## Input: a and b to be 1-D list\n",
        "        # Output : a 1-D list \n",
        "        ## For memory saving b is modified in calculations so be careful about order of inputs\n",
        "        \n",
        "        for i in range(len(a)):\n",
        "            b[i]=b[i]+a[i]\n",
        "        return b  \n",
        "    \n",
        "    def infer(self,x,encrypted=True):\n",
        "        for i in range(self.n_layers):\n",
        "            \n",
        "            new_x=self.__matmul(self.weights[i],x)\n",
        "            new_x=self.__matadd(self.biases[i],new_x)\n",
        "            del x\n",
        "            x=new_x  \n",
        "        return x[0]\n",
        "            \n",
        "        \n",
        "        \n",
        "        \n",
        "        "
      ]
    },
    {
      "cell_type": "code",
      "execution_count": 17,
      "metadata": {},
      "outputs": [],
      "source": [
        "model=Model(30,2,[2,1],['layer0.npy','layer1.npy'])"
      ]
    },
    {
      "cell_type": "markdown",
      "metadata": {},
      "source": [
        "Test out accuracy on Encrypted and Unencrypted test data"
      ]
    },
    {
      "cell_type": "code",
      "execution_count": 18,
      "metadata": {},
      "outputs": [
        {
          "name": "stdout",
          "output_type": "stream",
          "text": [
            "0.8741258741258742\n",
            "0.8741258741258742\n"
          ]
        }
      ],
      "source": [
        "normal_acc=0\n",
        "encrypted_acc=0\n",
        "for i in range(len(X_test)):\n",
        "    x=X_test[i].tolist()\n",
        "    x_encrypted=[public_key.encrypt(t) for t in x]\n",
        "    if (model.infer(x,False)>0 and y_test[i]==1) or (model.infer(x,False)<=0 and y_test[i]==0):\n",
        "        normal_acc+=1\n",
        "    if (private_key.decrypt(model.infer(x_encrypted,False))>0 and y_test[i]==1) or (private_key.decrypt(model.infer(x_encrypted,False))<=0 and y_test[i]==0):\n",
        "        encrypted_acc+=1\n",
        "print('Accuracy on unenencrypted Test Data:'+str(normal_acc/len(X_test)))\n",
        "print('Accuracy on encrypted test data:'+str(encrypted_acc/len(X_test)))\n",
        "  "
      ]
    },
    {
      "cell_type": "code",
      "execution_count": null,
      "metadata": {},
      "outputs": [],
      "source": []
    }
  ],
  "metadata": {
    "accelerator": "GPU",
    "colab": {
      "gpuType": "T4",
      "include_colab_link": true,
      "provenance": []
    },
    "kernelspec": {
      "display_name": "Python 3",
      "name": "python3"
    },
    "language_info": {
      "codemirror_mode": {
        "name": "ipython",
        "version": 3
      },
      "file_extension": ".py",
      "mimetype": "text/x-python",
      "name": "python",
      "nbconvert_exporter": "python",
      "pygments_lexer": "ipython3",
      "version": "3.10.9"
    }
  },
  "nbformat": 4,
  "nbformat_minor": 0
}
