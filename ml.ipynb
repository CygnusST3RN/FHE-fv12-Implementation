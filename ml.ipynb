{
 "cells": [
  {
   "cell_type": "code",
   "execution_count": 31,
   "metadata": {},
   "outputs": [],
   "source": [
    "import pandas as pd\n",
    "import sklearn   \n",
    "from bfv import FV12,Params\n",
    "import random"
   ]
  },
  {
   "cell_type": "code",
   "execution_count": 85,
   "metadata": {},
   "outputs": [],
   "source": [
    "params = Params(8, 2, 2**64, 2**500)\n",
    "fv12=FV12(params)\n",
    "public_key,private_key=fv12.generate_keys()\n"
   ]
  },
  {
   "cell_type": "code",
   "execution_count": 90,
   "metadata": {},
   "outputs": [],
   "source": [
    "wts=[random.randrange(0,1000) for i in range(10)]\n",
    "features=[random.randrange(0,1000) for i in range (10)]\n",
    "features_encrypted=[]\n",
    "for i in range (len(features)):\n",
    "    features_encrypted.append(public_key.encrypt(features[i]))\n",
    "# for i in range(len(features)):\n",
    "#     print(private_key.decrypt(features[i]))\n",
    "    "
   ]
  },
  {
   "cell_type": "code",
   "execution_count": 91,
   "metadata": {},
   "outputs": [
    {
     "name": "stdout",
     "output_type": "stream",
     "text": [
      "Encrypted Operations before squaring:2850635\n",
      "Unencrypted Operations before squaring:2850635\n",
      "The time of relinearisation is : 167.84191131591797 ms\n",
      "Encrypted Operations after squaring:7456187938863153152\n",
      "Unencrypted Operations after squaring:8126119903225\n"
     ]
    }
   ],
   "source": [
    "res_encrypted=public_key.encrypt(0)\n",
    "res=0\n",
    "for i in range(len(features)):\n",
    "    res_encrypted=res_encrypted+features_encrypted[i]*wts[i]\n",
    "    res+=features[i]*wts[i]\n",
    "print('Encrypted Operations before squaring:'+str(private_key.decrypt(res_encrypted)))\n",
    "print('Unencrypted Operations before squaring:'+str(res))\n",
    "res_encrypted=res_encrypted**2\n",
    "res=res**2\n",
    "print('Encrypted Operations after squaring:'+str(private_key.decrypt(res_encrypted)))\n",
    "print('Unencrypted Operations after squaring:'+str(res))"
   ]
  },
  {
   "cell_type": "code",
   "execution_count": null,
   "metadata": {},
   "outputs": [],
   "source": []
  },
  {
   "cell_type": "code",
   "execution_count": null,
   "metadata": {},
   "outputs": [],
   "source": []
  }
 ],
 "metadata": {
  "kernelspec": {
   "display_name": "base",
   "language": "python",
   "name": "python3"
  },
  "language_info": {
   "codemirror_mode": {
    "name": "ipython",
    "version": 3
   },
   "file_extension": ".py",
   "mimetype": "text/x-python",
   "name": "python",
   "nbconvert_exporter": "python",
   "pygments_lexer": "ipython3",
   "version": "3.10.9"
  }
 },
 "nbformat": 4,
 "nbformat_minor": 2
}
